{
 "cells": [
  {
   "cell_type": "markdown",
   "metadata": {},
   "source": [
    "## Workload 1"
   ]
  },
  {
   "cell_type": "code",
   "execution_count": 1,
   "metadata": {},
   "outputs": [],
   "source": [
    "# Import all necessary libraries and setup the environment for matplotlib\n",
    "from pyspark.sql import SparkSession, Row\n",
    "from pyspark.ml.feature import PCA\n",
    "from pyspark.ml.clustering import KMeans\n",
    "from pyspark.ml.feature import HashingTF, IDF, Tokenizer, Normalizer, VectorAssembler\n",
    "from pyspark.ml.linalg import *\n",
    "from pyspark.sql.types import * \n",
    "from pyspark.sql.functions import *\n",
    "import pyspark.sql.functions as f\n",
    "import numpy as np\n",
    "import matplotlib.pyplot as plt"
   ]
  },
  {
   "cell_type": "code",
   "execution_count": 2,
   "metadata": {},
   "outputs": [],
   "source": [
    "def blank_as_null(x):\n",
    "    return when(col(x) != \"\", col(x)).otherwise(None)"
   ]
  },
  {
   "cell_type": "code",
   "execution_count": 3,
   "metadata": {},
   "outputs": [],
   "source": [
    "spark = SparkSession \\\n",
    "    .builder \\\n",
    "    .appName(\"Assignment 2\") \\\n",
    "    .getOrCreate()\n",
    "tweeets_data = spark.read.option('multiline','true').json('tweets.json')"
   ]
  },
  {
   "cell_type": "code",
   "execution_count": 4,
   "metadata": {},
   "outputs": [],
   "source": [
    "tweets_agg = tweeets_data.groupby(\"user_id\").agg(f.concat_ws(\" \", f.collect_list(tweeets_data.id)).alias('agg_tweets'),\n",
    "                                    f.concat_ws(\" \", f.collect_list(tweeets_data.retweet_user_id)).alias('agg_retweet_users'),\n",
    "                                    f.concat_ws(\" \", f.collect_list(tweeets_data.retweet_id)).alias('agg_retweets'),\n",
    "                                    f.concat_ws(\" \", f.collect_list(tweeets_data.replyto_user_id)).alias('agg_reply_users'),\n",
    "                                    f.concat_ws(\" \", f.collect_list(tweeets_data.replyto_id)).alias('agg_replies'))"
   ]
  },
  {
   "cell_type": "code",
   "execution_count": 5,
   "metadata": {},
   "outputs": [],
   "source": [
    "tweets_agg = tweets_agg.withColumn(\"agg_reply_users\", blank_as_null(\"agg_reply_users\"))\n",
    "tweets_agg = tweets_agg.withColumn(\"agg_retweet_users\", blank_as_null(\"agg_retweet_users\"))\n",
    "tweets_agg = tweets_agg.withColumn(\"agg_retweets\", blank_as_null(\"agg_retweets\"))\n",
    "tweets_agg = tweets_agg.withColumn(\"agg_replies\", blank_as_null(\"agg_replies\"))"
   ]
  },
  {
   "cell_type": "code",
   "execution_count": 6,
   "metadata": {},
   "outputs": [],
   "source": [
    "tweets_processed = tweets_agg.select('*',concat_ws(' ','agg_retweets','agg_replies').alias('agg_tweet_respond'))"
   ]
  },
  {
   "cell_type": "code",
   "execution_count": 7,
   "metadata": {},
   "outputs": [],
   "source": [
    "tokenizer = Tokenizer(inputCol='agg_tweet_respond',\n",
    "    outputCol=\"vectors\")\n",
    "tweets_vectors = tokenizer.transform(tweets_processed)"
   ]
  },
  {
   "cell_type": "code",
   "execution_count": 8,
   "metadata": {},
   "outputs": [],
   "source": [
    "hashingTF = HashingTF(inputCol=\"vectors\", outputCol=\"tf\")\n",
    "tf = hashingTF.transform(tweets_vectors)\n",
    "\n",
    "idf = IDF(inputCol=\"tf\", outputCol=\"feature\").fit(tf)\n",
    "tfidf = idf.transform(tf)"
   ]
  },
  {
   "cell_type": "code",
   "execution_count": 9,
   "metadata": {},
   "outputs": [],
   "source": [
    "normalizer = Normalizer(inputCol=\"feature\", outputCol=\"norm\")\n",
    "tf_data = normalizer.transform(tfidf)"
   ]
  },
  {
   "cell_type": "code",
   "execution_count": 10,
   "metadata": {},
   "outputs": [],
   "source": [
    "selected_id = 202170318\n",
    "tweets_user_filtered = tf_data.where(f'user_id = {selected_id}')\n",
    "compare_vector = tweets_user_filtered.first()['norm']"
   ]
  },
  {
   "cell_type": "code",
   "execution_count": 11,
   "metadata": {},
   "outputs": [],
   "source": [
    "def cos_sim(a,b=compare_vector):\n",
    "    return float(a.dot(b) / (a.norm(2) * b.norm(2)))\n",
    "cos_function = udf(cos_sim, FloatType())"
   ]
  },
  {
   "cell_type": "code",
   "execution_count": 12,
   "metadata": {},
   "outputs": [],
   "source": [
    "tf_data = tf_data.withColumn(\"CosineSim\",cos_function('norm'))\n",
    "tf_data = tf_data.where(f'user_id <> {selected_id}')"
   ]
  },
  {
   "cell_type": "code",
   "execution_count": 13,
   "metadata": {},
   "outputs": [
    {
     "name": "stdout",
     "output_type": "stream",
     "text": [
      "+-------------------+-------------------+-----------------+-------------------+---------------+-----------+-------------------+---------------------+-----------------------+-------------------------------------+-----------------------+----------+\n",
      "|user_id            |agg_tweets         |agg_retweet_users|agg_retweets       |agg_reply_users|agg_replies|agg_tweet_respond  |vectors              |tf                     |feature                              |norm                   |CosineSim |\n",
      "+-------------------+-------------------+-----------------+-------------------+---------------+-----------+-------------------+---------------------+-----------------------+-------------------------------------+-----------------------+----------+\n",
      "|727437799897468928 |1390068292220506112|96900937         |1390068042474917888|null           |null       |1390068042474917888|[1390068042474917888]|(262144,[232689],[1.0])|(262144,[232689],[7.188628509504587])|(262144,[232689],[1.0])|0.55613005|\n",
      "|2903825767         |1390068201350864899|96900937         |1390068042474917888|null           |null       |1390068042474917888|[1390068042474917888]|(262144,[232689],[1.0])|(262144,[232689],[7.188628509504587])|(262144,[232689],[1.0])|0.55613005|\n",
      "|1234011788401725440|1390074988816859138|96900937         |1390068042474917888|null           |null       |1390068042474917888|[1390068042474917888]|(262144,[232689],[1.0])|(262144,[232689],[7.188628509504587])|(262144,[232689],[1.0])|0.55613005|\n",
      "|2392028126         |1390064506898980865|104277809        |1390062246034698240|null           |null       |1390062246034698240|[1390062246034698240]|(262144,[78232],[1.0]) |(262144,[78232],[7.055097116880065]) |(262144,[78232],[1.0]) |0.54579973|\n",
      "|1027610166286409728|1390063644973707277|104277809        |1390062246034698240|null           |null       |1390062246034698240|[1390062246034698240]|(262144,[78232],[1.0]) |(262144,[78232],[7.055097116880065]) |(262144,[78232],[1.0]) |0.54579973|\n",
      "+-------------------+-------------------+-----------------+-------------------+---------------+-----------+-------------------+---------------------+-----------------------+-------------------------------------+-----------------------+----------+\n",
      "only showing top 5 rows\n",
      "\n"
     ]
    }
   ],
   "source": [
    "sorted_output_tf = tf_data.filter(tf_data.CosineSim > 0).sort(col('CosineSim').desc())\n",
    "sorted_output_tf.show(5,truncate=False)"
   ]
  },
  {
   "cell_type": "code",
   "execution_count": 14,
   "metadata": {},
   "outputs": [],
   "source": [
    "from pyspark.ml.feature import CountVectorizer\n",
    "\n",
    "cv = CountVectorizer(inputCol=\"vectors\", outputCol=\"features\")\n",
    "\n",
    "tweets_cv = cv.fit(tweets_vectors)\n",
    "\n",
    "cv_data = tweets_cv.transform(tweets_vectors)"
   ]
  },
  {
   "cell_type": "code",
   "execution_count": 15,
   "metadata": {},
   "outputs": [],
   "source": [
    "selected_id = 202170318\n",
    "tweets_user_filtered = cv_data.where(f'user_id = {selected_id}')\n",
    "compare_vector = tweets_user_filtered.first()['features']"
   ]
  },
  {
   "cell_type": "code",
   "execution_count": 16,
   "metadata": {},
   "outputs": [],
   "source": [
    "def cos_sim(a,b=compare_vector):\n",
    "    return float(a.dot(b) / (a.norm(2) * b.norm(2)))\n",
    "cos_function = udf(cos_sim, FloatType())"
   ]
  },
  {
   "cell_type": "code",
   "execution_count": 17,
   "metadata": {},
   "outputs": [],
   "source": [
    "cv_data = cv_data.withColumn(\"CosineSim\",cos_function('features'))\n",
    "cv_data = cv_data.where(f'user_id <> {selected_id}')"
   ]
  },
  {
   "cell_type": "code",
   "execution_count": 18,
   "metadata": {},
   "outputs": [
    {
     "name": "stdout",
     "output_type": "stream",
     "text": [
      "+----------+---------------------------------------+-------------------+---------------------------------------+---------------+-----------+---------------------------------------+------------------------------------------+----------------------+---------+\n",
      "|user_id   |agg_tweets                             |agg_retweet_users  |agg_retweets                           |agg_reply_users|agg_replies|agg_tweet_respond                      |vectors                                   |features              |CosineSim|\n",
      "+----------+---------------------------------------+-------------------+---------------------------------------+---------------+-----------+---------------------------------------+------------------------------------------+----------------------+---------+\n",
      "|3101168904|1390055316683853824 1390055278486310914|380648579 380648579|1390047008971444231 1390022155350446082|null           |null       |1390047008971444231 1390022155350446082|[1390047008971444231, 1390022155350446082]|(656,[3,16],[1.0,1.0])|0.6324555|\n",
      "|14250699  |1390057365421142021 1390057343916859399|380648579 380648579|1390047008971444231 1390022155350446082|null           |null       |1390047008971444231 1390022155350446082|[1390047008971444231, 1390022155350446082]|(656,[3,16],[1.0,1.0])|0.6324555|\n",
      "|3016373503|1390049988198027265 1390037671804764160|380648579 380648579|1390047008971444231 1390022155350446082|null           |null       |1390047008971444231 1390022155350446082|[1390047008971444231, 1390022155350446082]|(656,[3,16],[1.0,1.0])|0.6324555|\n",
      "|1318440355|1390066640641921024 1390066626066747394|380648579 380648579|1390022155350446082 1390047008971444231|null           |null       |1390022155350446082 1390047008971444231|[1390022155350446082, 1390047008971444231]|(656,[3,16],[1.0,1.0])|0.6324555|\n",
      "|40496226  |1390060819724054535 1390060777055428611|380648579 380648579|1390047008971444231 1390022155350446082|null           |null       |1390047008971444231 1390022155350446082|[1390047008971444231, 1390022155350446082]|(656,[3,16],[1.0,1.0])|0.6324555|\n",
      "+----------+---------------------------------------+-------------------+---------------------------------------+---------------+-----------+---------------------------------------+------------------------------------------+----------------------+---------+\n",
      "only showing top 5 rows\n",
      "\n"
     ]
    }
   ],
   "source": [
    "sorted_output_cv = cv_data.filter(cv_data.CosineSim > 0).sort(col('CosineSim').desc())\n",
    "sorted_output_cv.show(5,truncate=False)"
   ]
  },
  {
   "cell_type": "markdown",
   "metadata": {},
   "source": [
    "## Workload 2"
   ]
  },
  {
   "cell_type": "code",
   "execution_count": 19,
   "metadata": {},
   "outputs": [],
   "source": [
    "from pyspark.ml.evaluation import RegressionEvaluator\n",
    "from pyspark.ml.recommendation import ALS\n",
    "from pyspark.sql import Row"
   ]
  },
  {
   "cell_type": "code",
   "execution_count": 20,
   "metadata": {},
   "outputs": [
    {
     "name": "stdout",
     "output_type": "stream",
     "text": [
      "+-------------------+---------------------+-------------------+----------+---------------+-------------------+---------------+------------------------------------------------------------------------------------------------------------------------------------------------+-------------------+----------------------+\n",
      "|created_at         |hash_tags            |id                 |replyto_id|replyto_user_id|retweet_id         |retweet_user_id|text                                                                                                                                            |user_id            |user_mentions         |\n",
      "+-------------------+---------------------+-------------------+----------+---------------+-------------------+---------------+------------------------------------------------------------------------------------------------------------------------------------------------+-------------------+----------------------+\n",
      "|2021-05-05 23:37:51|null                 |1390088382659895296|null      |null           |1390027514332991489|807095         |RT @nytimes: Breaking News: The Biden administration will support lifting patent protections for Covid-19 vaccines, a breakthrough for glob…    |17799542           |[{807095, [3, 11]}]   |\n",
      "|2021-05-05 23:37:45|[{[9, 18], BREAKING}]|1390088354717474822|null      |null           |1390022155350446082|380648579      |RT @AFP: #BREAKING US announces support for Covid-19 vaccine patent waiver https://t.co/ZWyQDD4hgN                                              |1166466828         |[{380648579, [3, 7]}] |\n",
      "|2021-05-05 23:37:42|null                 |1390088345288646661|null      |null           |1390050885229817856|191807697      |RT @jon_trickett: Credit to US President Joe Biden who has just endorsed waiving the patent on the Coronavirus Vaccine. \n",
      "\n",
      "Moral &amp; Ethical l…|1343606436149022723|[{191807697, [3, 16]}]|\n",
      "|2021-05-05 23:37:39|null                 |1390088329530544128|null      |null           |1390066365046865929|15115280       |RT @PalmerReport: If I’m reading Biden’s move correctly, what he just did is brilliant. By voicing support for waiving COVID vaccine patent…    |930226031276982273 |[{15115280, [3, 16]}] |\n",
      "|2021-05-05 23:37:36|null                 |1390088318906339328|null      |null           |1390027514332991489|807095         |RT @nytimes: Breaking News: The Biden administration will support lifting patent protections for Covid-19 vaccines, a breakthrough for glob…    |920858307392192513 |[{807095, [3, 11]}]   |\n",
      "+-------------------+---------------------+-------------------+----------+---------------+-------------------+---------------+------------------------------------------------------------------------------------------------------------------------------------------------+-------------------+----------------------+\n",
      "only showing top 5 rows\n",
      "\n"
     ]
    }
   ],
   "source": [
    "tweeets_data.show(5,truncate=False)"
   ]
  },
  {
   "cell_type": "code",
   "execution_count": 21,
   "metadata": {},
   "outputs": [
    {
     "name": "stdout",
     "output_type": "stream",
     "text": [
      "+-------------------+--------------------+-------------------+----------+---------------+-------------------+------------------+--------------------+-------------------+--------------------+--------------------+\n",
      "|         created_at|           hash_tags|                 id|replyto_id|replyto_user_id|         retweet_id|   retweet_user_id|                text|            user_id|       user_mentions|     mentioned_users|\n",
      "+-------------------+--------------------+-------------------+----------+---------------+-------------------+------------------+--------------------+-------------------+--------------------+--------------------+\n",
      "|2021-05-05 23:37:51|                null|1390088382659895296|      null|           null|1390027514332991489|            807095|RT @nytimes: Brea...|           17799542| [{807095, [3, 11]}]|            [807095]|\n",
      "|2021-05-05 23:37:45|[{[9, 18], BREAKI...|1390088354717474822|      null|           null|1390022155350446082|         380648579|RT @AFP: #BREAKIN...|         1166466828|[{380648579, [3, ...|         [380648579]|\n",
      "|2021-05-05 23:37:42|                null|1390088345288646661|      null|           null|1390050885229817856|         191807697|RT @jon_trickett:...|1343606436149022723|[{191807697, [3, ...|         [191807697]|\n",
      "|2021-05-05 23:37:39|                null|1390088329530544128|      null|           null|1390066365046865929|          15115280|RT @PalmerReport:...| 930226031276982273|[{15115280, [3, 1...|          [15115280]|\n",
      "|2021-05-05 23:37:36|                null|1390088318906339328|      null|           null|1390027514332991489|            807095|RT @nytimes: Brea...| 920858307392192513| [{807095, [3, 11]}]|            [807095]|\n",
      "|2021-05-05 23:37:35|                null|1390088314984697859|      null|           null|1390025466539614212|          20402945|RT @CNBC: NEW: Th...|           21458110|[{20402945, [3, 8...|[20402945, 21802625]|\n",
      "|2021-05-05 23:37:29|                null|1390088291559608321|      null|           null|1390023742194061312|          26574283|RT @CNBCnow: Pfiz...| 787062740183552000|[{26574283, [3, 1...|          [26574283]|\n",
      "|2021-05-05 23:37:29|                null|1390088290397822982|      null|           null|               null|              null|///bbcwbr] https:...|          392646132|                null|                null|\n",
      "|2021-05-05 23:37:29|                null|1390088288556388354|      null|           null|1390027514332991489|            807095|RT @nytimes: Brea...|         2955789098| [{807095, [3, 11]}]|            [807095]|\n",
      "|2021-05-05 23:37:27|                null|1390088282587938817|      null|           null|               null|              null|U.S. will back pr...| 792380204287164416|                null|                null|\n",
      "|2021-05-05 23:37:27|                null|1390088280755081221|      null|           null|1390027514332991489|            807095|RT @nytimes: Brea...|          198453947| [{807095, [3, 11]}]|            [807095]|\n",
      "|2021-05-05 23:37:25|                null|1390088274245472264|      null|           null|1390066365046865929|          15115280|RT @PalmerReport:...|         1431726547|[{15115280, [3, 1...|          [15115280]|\n",
      "|2021-05-05 23:37:23|                null|1390088263403249667|      null|           null|1390023742194061312|          26574283|RT @CNBCnow: Pfiz...|1245145031045980163|[{26574283, [3, 1...|          [26574283]|\n",
      "|2021-05-05 23:37:21|                null|1390088257292079112|      null|           null|1390039923588206598|          36326893|RT @EPSUnions: Un...|         2181244875|[{36326893, [3, 1...|[36326893, 114632...|\n",
      "|2021-05-05 23:37:21|                null|1390088255958224899|      null|           null|1390023742194061312|          26574283|RT @CNBCnow: Pfiz...|           34865264|[{26574283, [3, 1...|          [26574283]|\n",
      "|2021-05-05 23:37:14|                null|1390088227365609472|      null|           null|1390087644235902979|        3094649957|RT @SDG2030: The ...|          179912903|[{3094649957, [3,...|[3094649957, 2425...|\n",
      "|2021-05-05 23:37:14|                null|1390088227101368322|      null|           null|1390069325353033729|846411464885747712|RT @theserfstv: I...|1173096863840423941|[{846411464885747...|[846411464885747712]|\n",
      "|2021-05-05 23:37:13|                null|1390088221363556353|      null|           null|               null|              null|Sometimes we just...|          491594719|[{15250661, [119,...|          [15250661]|\n",
      "|2021-05-05 23:37:13|                null|1390088220822495236|      null|           null|1390071789208936452|           7788062|RT @pranesh: And ...|           40404318|[{7788062, [3, 11]}]|           [7788062]|\n",
      "|2021-05-05 23:37:09|                null|1390088206775996416|      null|           null|1390084013864460296|        3094649957|RT @SDG2030: Than...|1326851827879604226|[{3094649957, [3,...|[3094649957, 2425...|\n",
      "+-------------------+--------------------+-------------------+----------+---------------+-------------------+------------------+--------------------+-------------------+--------------------+--------------------+\n",
      "only showing top 20 rows\n",
      "\n"
     ]
    }
   ],
   "source": [
    "wl2 = tweeets_data.withColumn(\"mentioned_users\", tweeets_data[\"user_mentions\"].getField('id'))\n",
    "wl2.show()"
   ]
  },
  {
   "cell_type": "code",
   "execution_count": 47,
   "metadata": {},
   "outputs": [],
   "source": [
    "wl2_users = wl2.select(col('user_id'),col('mentioned_users'))"
   ]
  },
  {
   "cell_type": "code",
   "execution_count": 48,
   "metadata": {},
   "outputs": [],
   "source": [
    "wl2_users = wl2_users.withColumn(\"mentioned_users\", explode(\"mentioned_users\"))"
   ]
  },
  {
   "cell_type": "code",
   "execution_count": 49,
   "metadata": {},
   "outputs": [],
   "source": [
    "wl2_users_agg = wl2_users.groupBy(col('user_id'),col('mentioned_users')).count()"
   ]
  },
  {
   "cell_type": "code",
   "execution_count": 64,
   "metadata": {},
   "outputs": [
    {
     "name": "stdout",
     "output_type": "stream",
     "text": [
      "+-------------------+------------------+-----+\n",
      "|            user_id|   mentioned_users|count|\n",
      "+-------------------+------------------+-----+\n",
      "|         3094649957|          24259259|    6|\n",
      "| 898230537244073986|         281877818|    3|\n",
      "|         3094649957|        3094649957|    3|\n",
      "|1286417148848480257|          55060090|    3|\n",
      "|          138011877|         380648579|    2|\n",
      "|1343557199394525186|         380648579|    2|\n",
      "|1379485472158842887|          56488059|    2|\n",
      "| 722337933907398656|         380648579|    2|\n",
      "|1343362946852937728|        1643123766|    2|\n",
      "|1345652009618255872|        1643123766|    2|\n",
      "|          175604092|842678603305377793|    2|\n",
      "|           36968645|          22429979|    2|\n",
      "|          473714282|          19881665|    2|\n",
      "|1331611799053955073|          17674244|    2|\n",
      "|          480875170|         380648579|    2|\n",
      "| 918084577377136640|            807095|    2|\n",
      "|          109025128|          61863570|    2|\n",
      "|          205463662|         380648579|    2|\n",
      "|           97950174|         380648579|    2|\n",
      "|          166579962|         380648579|    2|\n",
      "+-------------------+------------------+-----+\n",
      "only showing top 20 rows\n",
      "\n"
     ]
    }
   ],
   "source": [
    "wl2_users_agg.orderBy(wl2_users_agg[\"count\"].desc()).show()"
   ]
  },
  {
   "cell_type": "code",
   "execution_count": 81,
   "metadata": {},
   "outputs": [],
   "source": [
    "from pyspark.sql.types import *\n",
    "from pyspark.ml.feature import StringIndexer, IndexToString\n",
    "\n",
    "stringIndexer_uid = StringIndexer(inputCol=\"user_id\", outputCol=\"user_id_indexed\",stringOrderType=\"frequencyDesc\")\n",
    "model_uid = stringIndexer_uid.fit(wl2_users_agg)\n",
    "\n",
    "stringIndexer_mentioned = StringIndexer(inputCol=\"mentioned_users\", outputCol=\"mentioned_users_indexed\",stringOrderType=\"frequencyDesc\")\n",
    "model_mu = stringIndexer_mentioned.fit(wl2_users_agg)\n",
    "\n",
    "td = model_uid.transform(wl2_users_agg)\n",
    "wl2_users_transformed = model_mu.transform(td)"
   ]
  },
  {
   "cell_type": "code",
   "execution_count": 114,
   "metadata": {},
   "outputs": [
    {
     "data": {
      "text/plain": [
       "9792"
      ]
     },
     "execution_count": 114,
     "metadata": {},
     "output_type": "execute_result"
    }
   ],
   "source": [
    "wl2_users_transformed.count()"
   ]
  },
  {
   "cell_type": "code",
   "execution_count": 119,
   "metadata": {},
   "outputs": [],
   "source": [
    "converter = IndexToString(inputCol=\"user_id_indexed\", outputCol=\"original_user_id_indexed\")\n",
    "converted = converter.transform(wl2_users_transformed)"
   ]
  },
  {
   "cell_type": "code",
   "execution_count": 120,
   "metadata": {},
   "outputs": [
    {
     "name": "stdout",
     "output_type": "stream",
     "text": [
      "+-------------------+-------------------+-----+---------------+-----------------------+------------------------+\n",
      "|            user_id|    mentioned_users|count|user_id_indexed|mentioned_users_indexed|original_user_id_indexed|\n",
      "+-------------------+-------------------+-----+---------------+-----------------------+------------------------+\n",
      "| 739595086044876800|         2207905453|    1|           22.0|                  512.0|      739595086044876800|\n",
      "|         4464358941|             807095|    1|          731.0|                    0.0|              4464358941|\n",
      "| 728324764113211394|1349149096909668363|    1|         7045.0|                    9.0|      728324764113211394|\n",
      "|          186593993|          133081348|    1|         3605.0|                    6.0|               186593993|\n",
      "|1179209439087333376|           26574283|    1|         1690.0|                    1.0|     1179209439087333376|\n",
      "|          807532302|           19881665|    1|         7407.0|                   33.0|               807532302|\n",
      "|1385343098566307841|1349149096909668363|    1|          494.0|                    9.0|     1385343098566307841|\n",
      "|1289041202487021571|           15115280|    1|         2282.0|                    5.0|     1289041202487021571|\n",
      "|          226035819|          133081348|    1|         4040.0|                    6.0|               226035819|\n",
      "|          288840037|           15115280|    1|         4895.0|                    5.0|               288840037|\n",
      "|          357832718|            4970411|    1|         5603.0|                   24.0|               357832718|\n",
      "|         4586004016|           26574283|    1|          735.0|                    1.0|              4586004016|\n",
      "|          139668106|          191807697|    1|         2925.0|                    8.0|               139668106|\n",
      "|1242295050362478593|             807095|    1|         1987.0|                    0.0|     1242295050362478593|\n",
      "|1259969384665296896|          133081348|    1|          156.0|                    6.0|     1259969384665296896|\n",
      "|          480875170|           26574283|    1|            1.0|                    1.0|               480875170|\n",
      "|          582996784|           36326893|    1|           89.0|                   80.0|               582996784|\n",
      "|         1386042740|           13049362|    1|         2893.0|                  114.0|              1386042740|\n",
      "|          823702368|           13850422|    1|         7509.0|                   28.0|               823702368|\n",
      "|           25255543|             807095|    1|         4434.0|                    0.0|                25255543|\n",
      "+-------------------+-------------------+-----+---------------+-----------------------+------------------------+\n",
      "only showing top 20 rows\n",
      "\n"
     ]
    }
   ],
   "source": [
    "converted.show()"
   ]
  },
  {
   "cell_type": "code",
   "execution_count": 92,
   "metadata": {},
   "outputs": [
    {
     "data": {
      "text/plain": [
       "DataFrame[user_id: bigint, mentioned_users: bigint, count: bigint, user_id_indexed: double, mentioned_users_indexed: double]"
      ]
     },
     "execution_count": 92,
     "metadata": {},
     "output_type": "execute_result"
    }
   ],
   "source": [
    "wl2_users_transformed"
   ]
  },
  {
   "cell_type": "code",
   "execution_count": 73,
   "metadata": {},
   "outputs": [],
   "source": [
    "als = ALS(maxIter=5, regParam=0.01, userCol=\"user_id_indexed\", itemCol=\"mentioned_users_indexed\", ratingCol=\"count\",\n",
    "          coldStartStrategy=\"drop\")\n",
    "model = als.fit(wl2_users_transformed)"
   ]
  },
  {
   "cell_type": "code",
   "execution_count": 79,
   "metadata": {},
   "outputs": [],
   "source": [
    "model_recs = model.recommendForAllUsers(5)"
   ]
  },
  {
   "cell_type": "code",
   "execution_count": 104,
   "metadata": {},
   "outputs": [],
   "source": [
    "model_recs = model_recs.withColumn(\"user_id_indexed\", model_recs[\"user_id_indexed\"].cast(\"double\"))"
   ]
  },
  {
   "cell_type": "code",
   "execution_count": 117,
   "metadata": {},
   "outputs": [
    {
     "name": "stdout",
     "output_type": "stream",
     "text": [
      "+---------------+--------------------+\n",
      "|user_id_indexed|     recommendations|\n",
      "+---------------+--------------------+\n",
      "|         1580.0|[{80, 3.1511617},...|\n",
      "|         4900.0|[{82, 4.5872145},...|\n",
      "|         5300.0|[{82, 4.5872145},...|\n",
      "|         6620.0|[{82, 4.5872145},...|\n",
      "|         7240.0|[{55, 2.980116}, ...|\n",
      "|         7340.0|[{72, 2.7744668},...|\n",
      "|         7880.0|[{80, 3.1511617},...|\n",
      "|          471.0|[{99, 2.0167801},...|\n",
      "|         1591.0|[{82, 4.5872145},...|\n",
      "|         4101.0|[{82, 4.5872145},...|\n",
      "|         1342.0|[{82, 4.5872145},...|\n",
      "|         2122.0|[{82, 4.5872145},...|\n",
      "|         2142.0|[{235, 0.9960255}...|\n",
      "|         7982.0|[{80, 3.1511617},...|\n",
      "|          463.0|[{53, 3.2644851},...|\n",
      "|          833.0|[{187, 1.5952177}...|\n",
      "|         5803.0|[{99, 0.9981464},...|\n",
      "|         7253.0|[{80, 3.1511617},...|\n",
      "|         7833.0|[{138, 2.5645926}...|\n",
      "|         7993.0|[{80, 3.1511617},...|\n",
      "+---------------+--------------------+\n",
      "only showing top 20 rows\n",
      "\n"
     ]
    }
   ],
   "source": [
    "model_recs.show()"
   ]
  },
  {
   "cell_type": "code",
   "execution_count": 118,
   "metadata": {},
   "outputs": [
    {
     "ename": "Py4JJavaError",
     "evalue": "An error occurred while calling o1454.transform.\n: java.lang.ClassCastException: class org.apache.spark.ml.attribute.UnresolvedAttribute$ cannot be cast to class org.apache.spark.ml.attribute.NominalAttribute (org.apache.spark.ml.attribute.UnresolvedAttribute$ and org.apache.spark.ml.attribute.NominalAttribute are in unnamed module of loader 'app')\n\tat org.apache.spark.ml.feature.IndexToString.transform(StringIndexer.scala:605)\n\tat java.base/jdk.internal.reflect.NativeMethodAccessorImpl.invoke0(Native Method)\n\tat java.base/jdk.internal.reflect.NativeMethodAccessorImpl.invoke(NativeMethodAccessorImpl.java:64)\n\tat java.base/jdk.internal.reflect.DelegatingMethodAccessorImpl.invoke(DelegatingMethodAccessorImpl.java:43)\n\tat java.base/java.lang.reflect.Method.invoke(Method.java:564)\n\tat py4j.reflection.MethodInvoker.invoke(MethodInvoker.java:244)\n\tat py4j.reflection.ReflectionEngine.invoke(ReflectionEngine.java:357)\n\tat py4j.Gateway.invoke(Gateway.java:282)\n\tat py4j.commands.AbstractCommand.invokeMethod(AbstractCommand.java:132)\n\tat py4j.commands.CallCommand.execute(CallCommand.java:79)\n\tat py4j.GatewayConnection.run(GatewayConnection.java:238)\n\tat java.base/java.lang.Thread.run(Thread.java:832)\n",
     "output_type": "error",
     "traceback": [
      "\u001b[0;31m---------------------------------------------------------------------------\u001b[0m",
      "\u001b[0;31mPy4JJavaError\u001b[0m                             Traceback (most recent call last)",
      "\u001b[0;32m<ipython-input-118-cfee0229b360>\u001b[0m in \u001b[0;36m<module>\u001b[0;34m\u001b[0m\n\u001b[1;32m      1\u001b[0m \u001b[0mlabelReverse\u001b[0m \u001b[0;34m=\u001b[0m \u001b[0mIndexToString\u001b[0m\u001b[0;34m(\u001b[0m\u001b[0;34m)\u001b[0m\u001b[0;34m.\u001b[0m\u001b[0msetInputCol\u001b[0m\u001b[0;34m(\u001b[0m\u001b[0;34m\"user_id_indexed\"\u001b[0m\u001b[0;34m)\u001b[0m\u001b[0;34m\u001b[0m\u001b[0;34m\u001b[0m\u001b[0m\n\u001b[0;32m----> 2\u001b[0;31m \u001b[0mlabelReverse\u001b[0m\u001b[0;34m.\u001b[0m\u001b[0mtransform\u001b[0m\u001b[0;34m(\u001b[0m\u001b[0mmodel_recs\u001b[0m\u001b[0;34m)\u001b[0m\u001b[0;34m.\u001b[0m\u001b[0mshow\u001b[0m\u001b[0;34m(\u001b[0m\u001b[0;34m)\u001b[0m\u001b[0;34m\u001b[0m\u001b[0;34m\u001b[0m\u001b[0m\n\u001b[0m",
      "\u001b[0;32m~/opt/anaconda3/lib/python3.8/site-packages/pyspark/ml/base.py\u001b[0m in \u001b[0;36mtransform\u001b[0;34m(self, dataset, params)\u001b[0m\n\u001b[1;32m    215\u001b[0m                 \u001b[0;32mreturn\u001b[0m \u001b[0mself\u001b[0m\u001b[0;34m.\u001b[0m\u001b[0mcopy\u001b[0m\u001b[0;34m(\u001b[0m\u001b[0mparams\u001b[0m\u001b[0;34m)\u001b[0m\u001b[0;34m.\u001b[0m\u001b[0m_transform\u001b[0m\u001b[0;34m(\u001b[0m\u001b[0mdataset\u001b[0m\u001b[0;34m)\u001b[0m\u001b[0;34m\u001b[0m\u001b[0;34m\u001b[0m\u001b[0m\n\u001b[1;32m    216\u001b[0m             \u001b[0;32melse\u001b[0m\u001b[0;34m:\u001b[0m\u001b[0;34m\u001b[0m\u001b[0;34m\u001b[0m\u001b[0m\n\u001b[0;32m--> 217\u001b[0;31m                 \u001b[0;32mreturn\u001b[0m \u001b[0mself\u001b[0m\u001b[0;34m.\u001b[0m\u001b[0m_transform\u001b[0m\u001b[0;34m(\u001b[0m\u001b[0mdataset\u001b[0m\u001b[0;34m)\u001b[0m\u001b[0;34m\u001b[0m\u001b[0;34m\u001b[0m\u001b[0m\n\u001b[0m\u001b[1;32m    218\u001b[0m         \u001b[0;32melse\u001b[0m\u001b[0;34m:\u001b[0m\u001b[0;34m\u001b[0m\u001b[0;34m\u001b[0m\u001b[0m\n\u001b[1;32m    219\u001b[0m             \u001b[0;32mraise\u001b[0m \u001b[0mValueError\u001b[0m\u001b[0;34m(\u001b[0m\u001b[0;34m\"Params must be a param map but got %s.\"\u001b[0m \u001b[0;34m%\u001b[0m \u001b[0mtype\u001b[0m\u001b[0;34m(\u001b[0m\u001b[0mparams\u001b[0m\u001b[0;34m)\u001b[0m\u001b[0;34m)\u001b[0m\u001b[0;34m\u001b[0m\u001b[0;34m\u001b[0m\u001b[0m\n",
      "\u001b[0;32m~/opt/anaconda3/lib/python3.8/site-packages/pyspark/ml/wrapper.py\u001b[0m in \u001b[0;36m_transform\u001b[0;34m(self, dataset)\u001b[0m\n\u001b[1;32m    348\u001b[0m     \u001b[0;32mdef\u001b[0m \u001b[0m_transform\u001b[0m\u001b[0;34m(\u001b[0m\u001b[0mself\u001b[0m\u001b[0;34m,\u001b[0m \u001b[0mdataset\u001b[0m\u001b[0;34m)\u001b[0m\u001b[0;34m:\u001b[0m\u001b[0;34m\u001b[0m\u001b[0;34m\u001b[0m\u001b[0m\n\u001b[1;32m    349\u001b[0m         \u001b[0mself\u001b[0m\u001b[0;34m.\u001b[0m\u001b[0m_transfer_params_to_java\u001b[0m\u001b[0;34m(\u001b[0m\u001b[0;34m)\u001b[0m\u001b[0;34m\u001b[0m\u001b[0;34m\u001b[0m\u001b[0m\n\u001b[0;32m--> 350\u001b[0;31m         \u001b[0;32mreturn\u001b[0m \u001b[0mDataFrame\u001b[0m\u001b[0;34m(\u001b[0m\u001b[0mself\u001b[0m\u001b[0;34m.\u001b[0m\u001b[0m_java_obj\u001b[0m\u001b[0;34m.\u001b[0m\u001b[0mtransform\u001b[0m\u001b[0;34m(\u001b[0m\u001b[0mdataset\u001b[0m\u001b[0;34m.\u001b[0m\u001b[0m_jdf\u001b[0m\u001b[0;34m)\u001b[0m\u001b[0;34m,\u001b[0m \u001b[0mdataset\u001b[0m\u001b[0;34m.\u001b[0m\u001b[0msql_ctx\u001b[0m\u001b[0;34m)\u001b[0m\u001b[0;34m\u001b[0m\u001b[0;34m\u001b[0m\u001b[0m\n\u001b[0m\u001b[1;32m    351\u001b[0m \u001b[0;34m\u001b[0m\u001b[0m\n\u001b[1;32m    352\u001b[0m \u001b[0;34m\u001b[0m\u001b[0m\n",
      "\u001b[0;32m~/opt/anaconda3/lib/python3.8/site-packages/py4j/java_gateway.py\u001b[0m in \u001b[0;36m__call__\u001b[0;34m(self, *args)\u001b[0m\n\u001b[1;32m   1302\u001b[0m \u001b[0;34m\u001b[0m\u001b[0m\n\u001b[1;32m   1303\u001b[0m         \u001b[0manswer\u001b[0m \u001b[0;34m=\u001b[0m \u001b[0mself\u001b[0m\u001b[0;34m.\u001b[0m\u001b[0mgateway_client\u001b[0m\u001b[0;34m.\u001b[0m\u001b[0msend_command\u001b[0m\u001b[0;34m(\u001b[0m\u001b[0mcommand\u001b[0m\u001b[0;34m)\u001b[0m\u001b[0;34m\u001b[0m\u001b[0;34m\u001b[0m\u001b[0m\n\u001b[0;32m-> 1304\u001b[0;31m         return_value = get_return_value(\n\u001b[0m\u001b[1;32m   1305\u001b[0m             answer, self.gateway_client, self.target_id, self.name)\n\u001b[1;32m   1306\u001b[0m \u001b[0;34m\u001b[0m\u001b[0m\n",
      "\u001b[0;32m~/opt/anaconda3/lib/python3.8/site-packages/pyspark/sql/utils.py\u001b[0m in \u001b[0;36mdeco\u001b[0;34m(*a, **kw)\u001b[0m\n\u001b[1;32m    109\u001b[0m     \u001b[0;32mdef\u001b[0m \u001b[0mdeco\u001b[0m\u001b[0;34m(\u001b[0m\u001b[0;34m*\u001b[0m\u001b[0ma\u001b[0m\u001b[0;34m,\u001b[0m \u001b[0;34m**\u001b[0m\u001b[0mkw\u001b[0m\u001b[0;34m)\u001b[0m\u001b[0;34m:\u001b[0m\u001b[0;34m\u001b[0m\u001b[0;34m\u001b[0m\u001b[0m\n\u001b[1;32m    110\u001b[0m         \u001b[0;32mtry\u001b[0m\u001b[0;34m:\u001b[0m\u001b[0;34m\u001b[0m\u001b[0;34m\u001b[0m\u001b[0m\n\u001b[0;32m--> 111\u001b[0;31m             \u001b[0;32mreturn\u001b[0m \u001b[0mf\u001b[0m\u001b[0;34m(\u001b[0m\u001b[0;34m*\u001b[0m\u001b[0ma\u001b[0m\u001b[0;34m,\u001b[0m \u001b[0;34m**\u001b[0m\u001b[0mkw\u001b[0m\u001b[0;34m)\u001b[0m\u001b[0;34m\u001b[0m\u001b[0;34m\u001b[0m\u001b[0m\n\u001b[0m\u001b[1;32m    112\u001b[0m         \u001b[0;32mexcept\u001b[0m \u001b[0mpy4j\u001b[0m\u001b[0;34m.\u001b[0m\u001b[0mprotocol\u001b[0m\u001b[0;34m.\u001b[0m\u001b[0mPy4JJavaError\u001b[0m \u001b[0;32mas\u001b[0m \u001b[0me\u001b[0m\u001b[0;34m:\u001b[0m\u001b[0;34m\u001b[0m\u001b[0;34m\u001b[0m\u001b[0m\n\u001b[1;32m    113\u001b[0m             \u001b[0mconverted\u001b[0m \u001b[0;34m=\u001b[0m \u001b[0mconvert_exception\u001b[0m\u001b[0;34m(\u001b[0m\u001b[0me\u001b[0m\u001b[0;34m.\u001b[0m\u001b[0mjava_exception\u001b[0m\u001b[0;34m)\u001b[0m\u001b[0;34m\u001b[0m\u001b[0;34m\u001b[0m\u001b[0m\n",
      "\u001b[0;32m~/opt/anaconda3/lib/python3.8/site-packages/py4j/protocol.py\u001b[0m in \u001b[0;36mget_return_value\u001b[0;34m(answer, gateway_client, target_id, name)\u001b[0m\n\u001b[1;32m    324\u001b[0m             \u001b[0mvalue\u001b[0m \u001b[0;34m=\u001b[0m \u001b[0mOUTPUT_CONVERTER\u001b[0m\u001b[0;34m[\u001b[0m\u001b[0mtype\u001b[0m\u001b[0;34m]\u001b[0m\u001b[0;34m(\u001b[0m\u001b[0manswer\u001b[0m\u001b[0;34m[\u001b[0m\u001b[0;36m2\u001b[0m\u001b[0;34m:\u001b[0m\u001b[0;34m]\u001b[0m\u001b[0;34m,\u001b[0m \u001b[0mgateway_client\u001b[0m\u001b[0;34m)\u001b[0m\u001b[0;34m\u001b[0m\u001b[0;34m\u001b[0m\u001b[0m\n\u001b[1;32m    325\u001b[0m             \u001b[0;32mif\u001b[0m \u001b[0manswer\u001b[0m\u001b[0;34m[\u001b[0m\u001b[0;36m1\u001b[0m\u001b[0;34m]\u001b[0m \u001b[0;34m==\u001b[0m \u001b[0mREFERENCE_TYPE\u001b[0m\u001b[0;34m:\u001b[0m\u001b[0;34m\u001b[0m\u001b[0;34m\u001b[0m\u001b[0m\n\u001b[0;32m--> 326\u001b[0;31m                 raise Py4JJavaError(\n\u001b[0m\u001b[1;32m    327\u001b[0m                     \u001b[0;34m\"An error occurred while calling {0}{1}{2}.\\n\"\u001b[0m\u001b[0;34m.\u001b[0m\u001b[0;34m\u001b[0m\u001b[0;34m\u001b[0m\u001b[0m\n\u001b[1;32m    328\u001b[0m                     format(target_id, \".\", name), value)\n",
      "\u001b[0;31mPy4JJavaError\u001b[0m: An error occurred while calling o1454.transform.\n: java.lang.ClassCastException: class org.apache.spark.ml.attribute.UnresolvedAttribute$ cannot be cast to class org.apache.spark.ml.attribute.NominalAttribute (org.apache.spark.ml.attribute.UnresolvedAttribute$ and org.apache.spark.ml.attribute.NominalAttribute are in unnamed module of loader 'app')\n\tat org.apache.spark.ml.feature.IndexToString.transform(StringIndexer.scala:605)\n\tat java.base/jdk.internal.reflect.NativeMethodAccessorImpl.invoke0(Native Method)\n\tat java.base/jdk.internal.reflect.NativeMethodAccessorImpl.invoke(NativeMethodAccessorImpl.java:64)\n\tat java.base/jdk.internal.reflect.DelegatingMethodAccessorImpl.invoke(DelegatingMethodAccessorImpl.java:43)\n\tat java.base/java.lang.reflect.Method.invoke(Method.java:564)\n\tat py4j.reflection.MethodInvoker.invoke(MethodInvoker.java:244)\n\tat py4j.reflection.ReflectionEngine.invoke(ReflectionEngine.java:357)\n\tat py4j.Gateway.invoke(Gateway.java:282)\n\tat py4j.commands.AbstractCommand.invokeMethod(AbstractCommand.java:132)\n\tat py4j.commands.CallCommand.execute(CallCommand.java:79)\n\tat py4j.GatewayConnection.run(GatewayConnection.java:238)\n\tat java.base/java.lang.Thread.run(Thread.java:832)\n"
     ]
    }
   ],
   "source": [
    "labelReverse = IndexToString().setInputCol(\"user_id_indexed\")\n",
    "labelReverse.transform(model_recs).show()"
   ]
  },
  {
   "cell_type": "code",
   "execution_count": null,
   "metadata": {},
   "outputs": [],
   "source": []
  }
 ],
 "metadata": {
  "kernelspec": {
   "display_name": "Python 3",
   "language": "python",
   "name": "python3"
  },
  "language_info": {
   "codemirror_mode": {
    "name": "ipython",
    "version": 3
   },
   "file_extension": ".py",
   "mimetype": "text/x-python",
   "name": "python",
   "nbconvert_exporter": "python",
   "pygments_lexer": "ipython3",
   "version": "3.8.3"
  }
 },
 "nbformat": 4,
 "nbformat_minor": 4
}
