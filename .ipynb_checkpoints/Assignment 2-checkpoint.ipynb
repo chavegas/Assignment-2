{
 "cells": [
  {
   "cell_type": "code",
   "execution_count": 1,
   "metadata": {},
   "outputs": [],
   "source": [
    "# Import all necessary libraries and setup the environment for matplotlib\n",
    "from pyspark.sql import SparkSession, Row\n",
    "from pyspark.ml.feature import PCA\n",
    "from pyspark.ml.clustering import KMeans\n",
    "from pyspark.ml.feature import HashingTF, IDF, Tokenizer, Normalizer, VectorAssembler\n",
    "from pyspark.ml.linalg import *\n",
    "from pyspark.sql.types import * \n",
    "from pyspark.sql.functions import *\n",
    "import pyspark.sql.functions as f\n",
    "import numpy as np\n",
    "import matplotlib.pyplot as plt"
   ]
  },
  {
   "cell_type": "code",
   "execution_count": 2,
   "metadata": {},
   "outputs": [],
   "source": [
    "def blank_as_null(x):\n",
    "    return when(col(x) != \"\", col(x)).otherwise(None)"
   ]
  },
  {
   "cell_type": "code",
   "execution_count": 3,
   "metadata": {},
   "outputs": [],
   "source": [
    "spark = SparkSession \\\n",
    "    .builder \\\n",
    "    .appName(\"Assignment 2\") \\\n",
    "    .getOrCreate()\n",
    "tweeets_data = spark.read.option('multiline','true').json('tweets.json')"
   ]
  },
  {
   "cell_type": "code",
   "execution_count": 4,
   "metadata": {},
   "outputs": [],
   "source": [
    "tweets_agg = tweeets_data.groupby(\"user_id\").agg(f.concat_ws(\",\", f.collect_list(tweeets_data.id)).alias('agg_tweets'),\n",
    "                                    f.concat_ws(\",\", f.collect_list(tweeets_data.retweet_user_id)).alias('agg_retweet_users'),\n",
    "                                    f.concat_ws(\",\", f.collect_list(tweeets_data.retweet_id)).alias('agg_retweets'),\n",
    "                                    f.concat_ws(\",\", f.collect_list(tweeets_data.replyto_user_id)).alias('agg_reply_users'),\n",
    "                                    f.concat_ws(\",\", f.collect_list(tweeets_data.replyto_id)).alias('agg_replies'))"
   ]
  },
  {
   "cell_type": "code",
   "execution_count": 5,
   "metadata": {},
   "outputs": [],
   "source": [
    "tweets_agg = tweets_agg.withColumn(\"agg_reply_users\", blank_as_null(\"agg_reply_users\"))\n",
    "tweets_agg = tweets_agg.withColumn(\"agg_retweet_users\", blank_as_null(\"agg_retweet_users\"))\n",
    "tweets_agg = tweets_agg.withColumn(\"agg_retweets\", blank_as_null(\"agg_retweets\"))\n",
    "tweets_agg = tweets_agg.withColumn(\"agg_replies\", blank_as_null(\"agg_replies\"))"
   ]
  },
  {
   "cell_type": "code",
   "execution_count": 6,
   "metadata": {},
   "outputs": [],
   "source": [
    "tweets_processed = tweets_agg.select('*',concat_ws(',','agg_retweets','agg_replies').alias('agg_tweet_respond'))"
   ]
  },
  {
   "cell_type": "code",
   "execution_count": 7,
   "metadata": {},
   "outputs": [],
   "source": [
    "tokenizer = Tokenizer(inputCol='agg_tweet_respond',\n",
    "    outputCol=\"vectors\")\n",
    "tweets_vectors = tokenizer.transform(tweets_processed)"
   ]
  },
  {
   "cell_type": "code",
   "execution_count": 8,
   "metadata": {},
   "outputs": [],
   "source": [
    "hashingTF = HashingTF(inputCol=\"vectors\", outputCol=\"tf\")\n",
    "tf = hashingTF.transform(tweets_vectors)\n",
    "\n",
    "idf = IDF(inputCol=\"tf\", outputCol=\"feature\").fit(tf)\n",
    "tfidf = idf.transform(tf)"
   ]
  },
  {
   "cell_type": "code",
   "execution_count": 9,
   "metadata": {},
   "outputs": [],
   "source": [
    "normalizer = Normalizer(inputCol=\"feature\", outputCol=\"norm\")\n",
    "data = normalizer.transform(tfidf)"
   ]
  },
  {
   "cell_type": "code",
   "execution_count": 10,
   "metadata": {},
   "outputs": [],
   "source": [
    "selected_id = 15466159\n",
    "tweets_user_filtered = data.where(f'user_id = {selected_id}')\n",
    "compare_vector = tweets_user_filtered.first()['norm']"
   ]
  },
  {
   "cell_type": "code",
   "execution_count": 11,
   "metadata": {},
   "outputs": [],
   "source": [
    "def cos_sim(a,b=compare_vector):\n",
    "    return float(a.dot(b) / (a.norm(2) * b.norm(2)))"
   ]
  },
  {
   "cell_type": "code",
   "execution_count": 12,
   "metadata": {},
   "outputs": [],
   "source": [
    "cos_function = udf(cos_sim, FloatType())"
   ]
  },
  {
   "cell_type": "code",
   "execution_count": 13,
   "metadata": {},
   "outputs": [],
   "source": [
    "data = data.withColumn(\"CosineSim\",cos_function('norm'))"
   ]
  },
  {
   "cell_type": "code",
   "execution_count": 33,
   "metadata": {},
   "outputs": [
    {
     "name": "stdout",
     "output_type": "stream",
     "text": [
      "+---------+--------------------+--------------------+--------------------+---------------+-------------------+--------------------+--------------------+--------------------+--------------------+--------------------+---------+\n",
      "|  user_id|          agg_tweets|   agg_retweet_users|        agg_retweets|agg_reply_users|        agg_replies|   agg_tweet_respond|             vectors|                  tf|             feature|                norm|CosineSim|\n",
      "+---------+--------------------+--------------------+--------------------+---------------+-------------------+--------------------+--------------------+--------------------+--------------------+--------------------+---------+\n",
      "| 15466159| 1390054010502225922|              807095| 1390027514332991489|           null|               null| 1390027514332991489|[1390027514332991...|(262144,[23124],[...|(262144,[23124],[...|(262144,[23124],[...|      1.0|\n",
      "| 19652471| 1390061372604514304|            26574283| 1390023742194061312|           null|               null| 1390023742194061312|[1390023742194061...|(262144,[204285],...|(262144,[204285],...|(262144,[204285],...|      0.0|\n",
      "| 30616018| 1390052446920220675|           931571402| 1390026843068239874|           null|               null| 1390026843068239874|[1390026843068239...|(262144,[158844],...|(262144,[158844],...|(262144,[158844],...|      0.0|\n",
      "| 32947971| 1390058861415997442|              807095| 1390027514332991489|           null|               null| 1390027514332991489|[1390027514332991...|(262144,[23124],[...|(262144,[23124],[...|(262144,[23124],[...|      1.0|\n",
      "| 33868781| 1390071486094905344|                null|                null|           null|               null|                    |                  []|(262144,[249180],...|(262144,[249180],...|(262144,[249180],...|      0.0|\n",
      "| 43301934| 1390039244257865728|           380648579| 1390022155350446082|           null|               null| 1390022155350446082|[1390022155350446...|(262144,[178090],...|(262144,[178090],...|(262144,[178090],...|      0.0|\n",
      "| 51797430| 1390041312494301195|            26574283| 1390023742194061312|           null|               null| 1390023742194061312|[1390023742194061...|(262144,[204285],...|(262144,[204285],...|(262144,[204285],...|      0.0|\n",
      "| 54579715| 1390040623466622979|              807095| 1390027514332991489|           null|               null| 1390027514332991489|[1390027514332991...|(262144,[23124],[...|(262144,[23124],[...|(262144,[23124],[...|      1.0|\n",
      "|106456868| 1390062023782903813|            22429979| 1390060755995799552|           null|               null| 1390060755995799552|[1390060755995799...|(262144,[95155],[...|(262144,[95155],[...|(262144,[95155],[...|      0.0|\n",
      "|109826391| 1390065027881705479|              807095| 1390027514332991489|           null|               null| 1390027514332991489|[1390027514332991...|(262144,[23124],[...|(262144,[23124],[...|(262144,[23124],[...|      1.0|\n",
      "|111249239| 1390049219579363328|            26574283| 1390023742194061312|           null|               null| 1390023742194061312|[1390023742194061...|(262144,[204285],...|(262144,[204285],...|(262144,[204285],...|      0.0|\n",
      "|147126487| 1390049997790408707|                null|                null|       32345449|1390043577703563265| 1390043577703563265|[1390043577703563...|(262144,[247891],...|(262144,[247891],...|(262144,[247891],...|      0.0|\n",
      "|157101980| 1390056983626190848|           237341484| 1390056156756914182|           null|               null| 1390056156756914182|[1390056156756914...|(262144,[70760],[...|(262144,[70760],[...|(262144,[70760],[...|      0.0|\n",
      "|202170318|13900758895059968...|4970411,380648579...|13900713418947502...|           null|               null|13900713418947502...|[1390071341894750...|(262144,[10387],[...|(262144,[10387],[...|(262144,[10387],[...|      0.0|\n",
      "|228531805| 1390048955673677824|              807095| 1390027514332991489|           null|               null| 1390027514332991489|[1390027514332991...|(262144,[23124],[...|(262144,[23124],[...|(262144,[23124],[...|      1.0|\n",
      "|235000057| 1390057192045248512|                null|                null|           null|               null|                    |                  []|(262144,[249180],...|(262144,[249180],...|(262144,[249180],...|      0.0|\n",
      "|257121078| 1390054261128634375|            26574283| 1390023742194061312|           null|               null| 1390023742194061312|[1390023742194061...|(262144,[204285],...|(262144,[204285],...|(262144,[204285],...|      0.0|\n",
      "|302864870| 1390068821394960384|           191807697| 1390050885229817856|           null|               null| 1390050885229817856|[1390050885229817...|(262144,[101572],...|(262144,[101572],...|(262144,[101572],...|      0.0|\n",
      "|404262940| 1390071754995949577|                null|                null|           null|               null|                    |                  []|(262144,[249180],...|(262144,[249180],...|(262144,[249180],...|      0.0|\n",
      "|417365324|13900639212104744...| 237341484,191807697|13900561567569141...|           null|               null|13900561567569141...|[1390056156756914...|(262144,[218015],...|(262144,[218015],...|(262144,[218015],...|      0.0|\n",
      "+---------+--------------------+--------------------+--------------------+---------------+-------------------+--------------------+--------------------+--------------------+--------------------+--------------------+---------+\n",
      "only showing top 20 rows\n",
      "\n"
     ]
    }
   ],
   "source": [
    "data.show()"
   ]
  },
  {
   "cell_type": "code",
   "execution_count": 14,
   "metadata": {},
   "outputs": [
    {
     "name": "stdout",
     "output_type": "stream",
     "text": [
      "+-------------------+-------------------+-----------------+-------------------+---------------+-----------+-------------------+---------------------+----------------------+-------------------------------------+----------------------+---------+\n",
      "|user_id            |agg_tweets         |agg_retweet_users|agg_retweets       |agg_reply_users|agg_replies|agg_tweet_respond  |vectors              |tf                    |feature                              |norm                  |CosineSim|\n",
      "+-------------------+-------------------+-----------------+-------------------+---------------+-----------+-------------------+---------------------+----------------------+-------------------------------------+----------------------+---------+\n",
      "|15466159           |1390054010502225922|807095           |1390027514332991489|null           |null       |1390027514332991489|[1390027514332991489]|(262144,[23124],[1.0])|(262144,[23124],[1.4383260192134937])|(262144,[23124],[1.0])|1.0      |\n",
      "|32947971           |1390058861415997442|807095           |1390027514332991489|null           |null       |1390027514332991489|[1390027514332991489]|(262144,[23124],[1.0])|(262144,[23124],[1.4383260192134937])|(262144,[23124],[1.0])|1.0      |\n",
      "|54579715           |1390040623466622979|807095           |1390027514332991489|null           |null       |1390027514332991489|[1390027514332991489]|(262144,[23124],[1.0])|(262144,[23124],[1.4383260192134937])|(262144,[23124],[1.0])|1.0      |\n",
      "|109826391          |1390065027881705479|807095           |1390027514332991489|null           |null       |1390027514332991489|[1390027514332991489]|(262144,[23124],[1.0])|(262144,[23124],[1.4383260192134937])|(262144,[23124],[1.0])|1.0      |\n",
      "|228531805          |1390048955673677824|807095           |1390027514332991489|null           |null       |1390027514332991489|[1390027514332991489]|(262144,[23124],[1.0])|(262144,[23124],[1.4383260192134937])|(262144,[23124],[1.0])|1.0      |\n",
      "|3304296668         |1390050143991320576|807095           |1390027514332991489|null           |null       |1390027514332991489|[1390027514332991489]|(262144,[23124],[1.0])|(262144,[23124],[1.4383260192134937])|(262144,[23124],[1.0])|1.0      |\n",
      "|712733319582973953 |1390068321379229697|807095           |1390027514332991489|null           |null       |1390027514332991489|[1390027514332991489]|(262144,[23124],[1.0])|(262144,[23124],[1.4383260192134937])|(262144,[23124],[1.0])|1.0      |\n",
      "|972282708582780928 |1390050645235830784|807095           |1390027514332991489|null           |null       |1390027514332991489|[1390027514332991489]|(262144,[23124],[1.0])|(262144,[23124],[1.4383260192134937])|(262144,[23124],[1.0])|1.0      |\n",
      "|1085516036487561216|1390086647887273987|807095           |1390027514332991489|null           |null       |1390027514332991489|[1390027514332991489]|(262144,[23124],[1.0])|(262144,[23124],[1.4383260192134937])|(262144,[23124],[1.0])|1.0      |\n",
      "|1129136333400748032|1390045289936039948|807095           |1390027514332991489|null           |null       |1390027514332991489|[1390027514332991489]|(262144,[23124],[1.0])|(262144,[23124],[1.4383260192134937])|(262144,[23124],[1.0])|1.0      |\n",
      "|1381006648270069762|1390050171438911493|807095           |1390027514332991489|null           |null       |1390027514332991489|[1390027514332991489]|(262144,[23124],[1.0])|(262144,[23124],[1.4383260192134937])|(262144,[23124],[1.0])|1.0      |\n",
      "|14439894           |1390044072103006209|807095           |1390027514332991489|null           |null       |1390027514332991489|[1390027514332991489]|(262144,[23124],[1.0])|(262144,[23124],[1.4383260192134937])|(262144,[23124],[1.0])|1.0      |\n",
      "|15390287           |1390086050857562113|807095           |1390027514332991489|null           |null       |1390027514332991489|[1390027514332991489]|(262144,[23124],[1.0])|(262144,[23124],[1.4383260192134937])|(262144,[23124],[1.0])|1.0      |\n",
      "|78516144           |1390042940748222468|807095           |1390027514332991489|null           |null       |1390027514332991489|[1390027514332991489]|(262144,[23124],[1.0])|(262144,[23124],[1.4383260192134937])|(262144,[23124],[1.0])|1.0      |\n",
      "|159323186          |1390047831826878465|807095           |1390027514332991489|null           |null       |1390027514332991489|[1390027514332991489]|(262144,[23124],[1.0])|(262144,[23124],[1.4383260192134937])|(262144,[23124],[1.0])|1.0      |\n",
      "|474917204          |1390050400594796546|807095           |1390027514332991489|null           |null       |1390027514332991489|[1390027514332991489]|(262144,[23124],[1.0])|(262144,[23124],[1.4383260192134937])|(262144,[23124],[1.0])|1.0      |\n",
      "|2255763426         |1390054971157123076|807095           |1390027514332991489|null           |null       |1390027514332991489|[1390027514332991489]|(262144,[23124],[1.0])|(262144,[23124],[1.4383260192134937])|(262144,[23124],[1.0])|1.0      |\n",
      "|2711139514         |1390046319067140100|807095           |1390027514332991489|null           |null       |1390027514332991489|[1390027514332991489]|(262144,[23124],[1.0])|(262144,[23124],[1.4383260192134937])|(262144,[23124],[1.0])|1.0      |\n",
      "|705496516237119488 |1390051792923373570|807095           |1390027514332991489|null           |null       |1390027514332991489|[1390027514332991489]|(262144,[23124],[1.0])|(262144,[23124],[1.4383260192134937])|(262144,[23124],[1.0])|1.0      |\n",
      "|1038417642363736064|1390049866362064902|807095           |1390027514332991489|null           |null       |1390027514332991489|[1390027514332991489]|(262144,[23124],[1.0])|(262144,[23124],[1.4383260192134937])|(262144,[23124],[1.0])|1.0      |\n",
      "+-------------------+-------------------+-----------------+-------------------+---------------+-----------+-------------------+---------------------+----------------------+-------------------------------------+----------------------+---------+\n",
      "only showing top 20 rows\n",
      "\n"
     ]
    }
   ],
   "source": [
    "data.filter(data.CosineSim > 0).show(truncate=False)"
   ]
  },
  {
   "cell_type": "code",
   "execution_count": null,
   "metadata": {},
   "outputs": [],
   "source": []
  },
  {
   "cell_type": "code",
   "execution_count": null,
   "metadata": {},
   "outputs": [],
   "source": []
  },
  {
   "cell_type": "code",
   "execution_count": null,
   "metadata": {},
   "outputs": [],
   "source": []
  },
  {
   "cell_type": "code",
   "execution_count": 43,
   "metadata": {},
   "outputs": [
    {
     "name": "stdout",
     "output_type": "stream",
     "text": [
      "+---------+--------------------+--------------------+--------------------+---------------+-------------------+--------------------+--------------------+-----------------+\n",
      "|  user_id|          agg_tweets|   agg_retweet_users|        agg_retweets|agg_reply_users|        agg_replies|   agg_tweet_respond|             vectors|         features|\n",
      "+---------+--------------------+--------------------+--------------------+---------------+-------------------+--------------------+--------------------+-----------------+\n",
      "| 15466159| 1390054010502225922|              807095| 1390027514332991489|           null|               null| 1390027514332991489|[1390027514332991...|  (179,[0],[1.0])|\n",
      "| 19652471| 1390061372604514304|            26574283| 1390023742194061312|           null|               null| 1390023742194061312|[1390023742194061...|  (179,[1],[1.0])|\n",
      "| 30616018| 1390052446920220675|           931571402| 1390026843068239874|           null|               null| 1390026843068239874|[1390026843068239...|(179,[100],[1.0])|\n",
      "| 32947971| 1390058861415997442|              807095| 1390027514332991489|           null|               null| 1390027514332991489|[1390027514332991...|  (179,[0],[1.0])|\n",
      "| 33868781| 1390071486094905344|                null|                null|           null|               null|                    |                  []|  (179,[2],[1.0])|\n",
      "| 43301934| 1390039244257865728|           380648579| 1390022155350446082|           null|               null| 1390022155350446082|[1390022155350446...|  (179,[3],[1.0])|\n",
      "| 51797430| 1390041312494301195|            26574283| 1390023742194061312|           null|               null| 1390023742194061312|[1390023742194061...|  (179,[1],[1.0])|\n",
      "| 54579715| 1390040623466622979|              807095| 1390027514332991489|           null|               null| 1390027514332991489|[1390027514332991...|  (179,[0],[1.0])|\n",
      "|106456868| 1390062023782903813|            22429979| 1390060755995799552|           null|               null| 1390060755995799552|[1390060755995799...| (179,[14],[1.0])|\n",
      "|109826391| 1390065027881705479|              807095| 1390027514332991489|           null|               null| 1390027514332991489|[1390027514332991...|  (179,[0],[1.0])|\n",
      "|111249239| 1390049219579363328|            26574283| 1390023742194061312|           null|               null| 1390023742194061312|[1390023742194061...|  (179,[1],[1.0])|\n",
      "|147126487| 1390049997790408707|                null|                null|       32345449|1390043577703563265| 1390043577703563265|[1390043577703563...|      (179,[],[])|\n",
      "|157101980| 1390056983626190848|           237341484| 1390056156756914182|           null|               null| 1390056156756914182|[1390056156756914...| (179,[26],[1.0])|\n",
      "|202170318|13900758895059968...|4970411,380648579...|13900713418947502...|           null|               null|13900713418947502...|[1390071341894750...|      (179,[],[])|\n",
      "|228531805| 1390048955673677824|              807095| 1390027514332991489|           null|               null| 1390027514332991489|[1390027514332991...|  (179,[0],[1.0])|\n",
      "|235000057| 1390057192045248512|                null|                null|           null|               null|                    |                  []|  (179,[2],[1.0])|\n",
      "|257121078| 1390054261128634375|            26574283| 1390023742194061312|           null|               null| 1390023742194061312|[1390023742194061...|  (179,[1],[1.0])|\n",
      "|302864870| 1390068821394960384|           191807697| 1390050885229817856|           null|               null| 1390050885229817856|[1390050885229817...|  (179,[8],[1.0])|\n",
      "|404262940| 1390071754995949577|                null|                null|           null|               null|                    |                  []|  (179,[2],[1.0])|\n",
      "|417365324|13900639212104744...| 237341484,191807697|13900561567569141...|           null|               null|13900561567569141...|[1390056156756914...|      (179,[],[])|\n",
      "+---------+--------------------+--------------------+--------------------+---------------+-------------------+--------------------+--------------------+-----------------+\n",
      "only showing top 20 rows\n",
      "\n"
     ]
    }
   ],
   "source": [
    "from pyspark.ml.feature import CountVectorizer\n",
    "\n",
    "cv = CountVectorizer(inputCol=\"vectors\", outputCol=\"features\", vocabSize=10000, minDF=3.0)\n",
    "\n",
    "tweets_cv = cv.fit(tweets_vectors)\n",
    "\n",
    "result = tweets_cv.transform(tweets_vectors)\n",
    "result.show(truncate=True)"
   ]
  },
  {
   "cell_type": "code",
   "execution_count": 39,
   "metadata": {},
   "outputs": [
    {
     "name": "stdout",
     "output_type": "stream",
     "text": [
      "+---+---------------+-------------------------+\n",
      "|id |words          |features                 |\n",
      "+---+---------------+-------------------------+\n",
      "|0  |[a, b, c]      |(3,[0,1,2],[1.0,1.0,1.0])|\n",
      "|1  |[a, b, b, c, a]|(3,[0,1,2],[2.0,2.0,1.0])|\n",
      "+---+---------------+-------------------------+\n",
      "\n"
     ]
    }
   ],
   "source": [
    "# Input data: Each row is a bag of words with a ID.\n",
    "df = spark.createDataFrame([\n",
    "    (0, \"a b c\".split(\" \")),\n",
    "    (1, \"a b b c a\".split(\" \"))\n",
    "], [\"id\", \"words\"])\n",
    "\n",
    "# fit a CountVectorizerModel from the corpus.\n",
    "cv = CountVectorizer(inputCol=\"words\", outputCol=\"features\", vocabSize=3, minDF=2.0)\n",
    "\n",
    "model = cv.fit(df)\n",
    "\n",
    "result = model.transform(df)\n",
    "result.show(truncate=False)"
   ]
  },
  {
   "cell_type": "code",
   "execution_count": 34,
   "metadata": {},
   "outputs": [
    {
     "name": "stdout",
     "output_type": "stream",
     "text": [
      "+---------+--------------------+--------------------+--------------------+---------------+-------------------+--------------------+--------------------+\n",
      "|  user_id|          agg_tweets|   agg_retweet_users|        agg_retweets|agg_reply_users|        agg_replies|   agg_tweet_respond|             vectors|\n",
      "+---------+--------------------+--------------------+--------------------+---------------+-------------------+--------------------+--------------------+\n",
      "| 15466159| 1390054010502225922|              807095| 1390027514332991489|           null|               null| 1390027514332991489|[1390027514332991...|\n",
      "| 19652471| 1390061372604514304|            26574283| 1390023742194061312|           null|               null| 1390023742194061312|[1390023742194061...|\n",
      "| 30616018| 1390052446920220675|           931571402| 1390026843068239874|           null|               null| 1390026843068239874|[1390026843068239...|\n",
      "| 32947971| 1390058861415997442|              807095| 1390027514332991489|           null|               null| 1390027514332991489|[1390027514332991...|\n",
      "| 33868781| 1390071486094905344|                null|                null|           null|               null|                    |                  []|\n",
      "| 43301934| 1390039244257865728|           380648579| 1390022155350446082|           null|               null| 1390022155350446082|[1390022155350446...|\n",
      "| 51797430| 1390041312494301195|            26574283| 1390023742194061312|           null|               null| 1390023742194061312|[1390023742194061...|\n",
      "| 54579715| 1390040623466622979|              807095| 1390027514332991489|           null|               null| 1390027514332991489|[1390027514332991...|\n",
      "|106456868| 1390062023782903813|            22429979| 1390060755995799552|           null|               null| 1390060755995799552|[1390060755995799...|\n",
      "|109826391| 1390065027881705479|              807095| 1390027514332991489|           null|               null| 1390027514332991489|[1390027514332991...|\n",
      "|111249239| 1390049219579363328|            26574283| 1390023742194061312|           null|               null| 1390023742194061312|[1390023742194061...|\n",
      "|147126487| 1390049997790408707|                null|                null|       32345449|1390043577703563265| 1390043577703563265|[1390043577703563...|\n",
      "|157101980| 1390056983626190848|           237341484| 1390056156756914182|           null|               null| 1390056156756914182|[1390056156756914...|\n",
      "|202170318|13900758895059968...|4970411,380648579...|13900713418947502...|           null|               null|13900713418947502...|[1390071341894750...|\n",
      "|228531805| 1390048955673677824|              807095| 1390027514332991489|           null|               null| 1390027514332991489|[1390027514332991...|\n",
      "|235000057| 1390057192045248512|                null|                null|           null|               null|                    |                  []|\n",
      "|257121078| 1390054261128634375|            26574283| 1390023742194061312|           null|               null| 1390023742194061312|[1390023742194061...|\n",
      "|302864870| 1390068821394960384|           191807697| 1390050885229817856|           null|               null| 1390050885229817856|[1390050885229817...|\n",
      "|404262940| 1390071754995949577|                null|                null|           null|               null|                    |                  []|\n",
      "|417365324|13900639212104744...| 237341484,191807697|13900561567569141...|           null|               null|13900561567569141...|[1390056156756914...|\n",
      "+---------+--------------------+--------------------+--------------------+---------------+-------------------+--------------------+--------------------+\n",
      "only showing top 20 rows\n",
      "\n"
     ]
    }
   ],
   "source": [
    "tweets_vectors.show()"
   ]
  },
  {
   "cell_type": "code",
   "execution_count": null,
   "metadata": {},
   "outputs": [],
   "source": []
  },
  {
   "cell_type": "code",
   "execution_count": null,
   "metadata": {},
   "outputs": [],
   "source": []
  },
  {
   "cell_type": "code",
   "execution_count": null,
   "metadata": {},
   "outputs": [],
   "source": []
  },
  {
   "cell_type": "code",
   "execution_count": 15,
   "metadata": {},
   "outputs": [],
   "source": [
    "from pyspark.ml.feature import Word2Vec\n"
   ]
  },
  {
   "cell_type": "code",
   "execution_count": 16,
   "metadata": {},
   "outputs": [],
   "source": [
    "word2Vec = Word2Vec(vectorSize=5, seed=42, inputCol=\"vectors\", outputCol=\"model\")\n",
    "model = word2Vec.fit(tweets_vectors)"
   ]
  },
  {
   "cell_type": "code",
   "execution_count": 31,
   "metadata": {},
   "outputs": [],
   "source": [
    "test = model.getVectors().join(tweets_vectors, col(\"word\") == col(\"agg_tweet_respond\"))"
   ]
  },
  {
   "cell_type": "code",
   "execution_count": 32,
   "metadata": {},
   "outputs": [
    {
     "name": "stdout",
     "output_type": "stream",
     "text": [
      "+---------+--------------------+--------------------+--------------------+---------------+-------------------+--------------------+--------------------+\n",
      "|  user_id|          agg_tweets|   agg_retweet_users|        agg_retweets|agg_reply_users|        agg_replies|   agg_tweet_respond|             vectors|\n",
      "+---------+--------------------+--------------------+--------------------+---------------+-------------------+--------------------+--------------------+\n",
      "| 15466159| 1390054010502225922|              807095| 1390027514332991489|           null|               null| 1390027514332991489|[1390027514332991...|\n",
      "| 19652471| 1390061372604514304|            26574283| 1390023742194061312|           null|               null| 1390023742194061312|[1390023742194061...|\n",
      "| 30616018| 1390052446920220675|           931571402| 1390026843068239874|           null|               null| 1390026843068239874|[1390026843068239...|\n",
      "| 32947971| 1390058861415997442|              807095| 1390027514332991489|           null|               null| 1390027514332991489|[1390027514332991...|\n",
      "| 33868781| 1390071486094905344|                null|                null|           null|               null|                    |                  []|\n",
      "| 43301934| 1390039244257865728|           380648579| 1390022155350446082|           null|               null| 1390022155350446082|[1390022155350446...|\n",
      "| 51797430| 1390041312494301195|            26574283| 1390023742194061312|           null|               null| 1390023742194061312|[1390023742194061...|\n",
      "| 54579715| 1390040623466622979|              807095| 1390027514332991489|           null|               null| 1390027514332991489|[1390027514332991...|\n",
      "|106456868| 1390062023782903813|            22429979| 1390060755995799552|           null|               null| 1390060755995799552|[1390060755995799...|\n",
      "|109826391| 1390065027881705479|              807095| 1390027514332991489|           null|               null| 1390027514332991489|[1390027514332991...|\n",
      "|111249239| 1390049219579363328|            26574283| 1390023742194061312|           null|               null| 1390023742194061312|[1390023742194061...|\n",
      "|147126487| 1390049997790408707|                null|                null|       32345449|1390043577703563265| 1390043577703563265|[1390043577703563...|\n",
      "|157101980| 1390056983626190848|           237341484| 1390056156756914182|           null|               null| 1390056156756914182|[1390056156756914...|\n",
      "|202170318|13900758895059968...|4970411,380648579...|13900713418947502...|           null|               null|13900713418947502...|[1390071341894750...|\n",
      "|228531805| 1390048955673677824|              807095| 1390027514332991489|           null|               null| 1390027514332991489|[1390027514332991...|\n",
      "|235000057| 1390057192045248512|                null|                null|           null|               null|                    |                  []|\n",
      "|257121078| 1390054261128634375|            26574283| 1390023742194061312|           null|               null| 1390023742194061312|[1390023742194061...|\n",
      "|302864870| 1390068821394960384|           191807697| 1390050885229817856|           null|               null| 1390050885229817856|[1390050885229817...|\n",
      "|404262940| 1390071754995949577|                null|                null|           null|               null|                    |                  []|\n",
      "|417365324|13900639212104744...| 237341484,191807697|13900561567569141...|           null|               null|13900561567569141...|[1390056156756914...|\n",
      "+---------+--------------------+--------------------+--------------------+---------------+-------------------+--------------------+--------------------+\n",
      "only showing top 20 rows\n",
      "\n"
     ]
    }
   ],
   "source": [
    "tweets_vectors.show()"
   ]
  },
  {
   "cell_type": "code",
   "execution_count": 19,
   "metadata": {},
   "outputs": [],
   "source": [
    "import numpy as np\n",
    "def cos_sim_w2v(a,b=compare_vector):\n",
    "    return float(np.dot(a,b)/(np.linalg.norm(a)* np.linalg.norm(b)))\n",
    "cos_function_w2v = udf(cos_sim_w2v, ArrayType(StringType()))"
   ]
  },
  {
   "cell_type": "code",
   "execution_count": 27,
   "metadata": {},
   "outputs": [],
   "source": [
    "def apply_w2v(row):\n",
    "    word2vec = Word2Vec()\n",
    "    return word2vec.fit(row)\n",
    "w2v_function = udf(apply_w2v,ArrayType(FloatType()))"
   ]
  },
  {
   "cell_type": "code",
   "execution_count": 30,
   "metadata": {},
   "outputs": [
    {
     "ename": "ValueError",
     "evalue": "Cannot run multiple SparkContexts at once; existing SparkContext(app=Assignment 2, master=local[*]) created by getOrCreate at <ipython-input-3-0516e3b5d215>:1 ",
     "output_type": "error",
     "traceback": [
      "\u001b[0;31m---------------------------------------------------------------------------\u001b[0m",
      "\u001b[0;31mValueError\u001b[0m                                Traceback (most recent call last)",
      "\u001b[0;32m<ipython-input-30-7341aa6c12e5>\u001b[0m in \u001b[0;36m<module>\u001b[0;34m\u001b[0m\n\u001b[0;32m----> 1\u001b[0;31m \u001b[0msc\u001b[0m \u001b[0;34m=\u001b[0m \u001b[0mSparkContext\u001b[0m\u001b[0;34m(\u001b[0m\u001b[0;34m)\u001b[0m\u001b[0;34m\u001b[0m\u001b[0;34m\u001b[0m\u001b[0m\n\u001b[0m\u001b[1;32m      2\u001b[0m \u001b[0mtest\u001b[0m \u001b[0;34m=\u001b[0m \u001b[0mtweets_vectors\u001b[0m\u001b[0;34m.\u001b[0m\u001b[0mwithColumn\u001b[0m\u001b[0;34m(\u001b[0m\u001b[0;34m\"w2v\"\u001b[0m\u001b[0;34m,\u001b[0m\u001b[0mw2v_function\u001b[0m\u001b[0;34m(\u001b[0m\u001b[0;34m'agg_tweet_respond'\u001b[0m\u001b[0;34m)\u001b[0m\u001b[0;34m)\u001b[0m\u001b[0;34m\u001b[0m\u001b[0;34m\u001b[0m\u001b[0m\n",
      "\u001b[0;32m~/opt/anaconda3/lib/python3.8/site-packages/pyspark/context.py\u001b[0m in \u001b[0;36m__init__\u001b[0;34m(self, master, appName, sparkHome, pyFiles, environment, batchSize, serializer, conf, gateway, jsc, profiler_cls)\u001b[0m\n\u001b[1;32m    142\u001b[0m                 \" is not allowed as it is a security risk.\")\n\u001b[1;32m    143\u001b[0m \u001b[0;34m\u001b[0m\u001b[0m\n\u001b[0;32m--> 144\u001b[0;31m         \u001b[0mSparkContext\u001b[0m\u001b[0;34m.\u001b[0m\u001b[0m_ensure_initialized\u001b[0m\u001b[0;34m(\u001b[0m\u001b[0mself\u001b[0m\u001b[0;34m,\u001b[0m \u001b[0mgateway\u001b[0m\u001b[0;34m=\u001b[0m\u001b[0mgateway\u001b[0m\u001b[0;34m,\u001b[0m \u001b[0mconf\u001b[0m\u001b[0;34m=\u001b[0m\u001b[0mconf\u001b[0m\u001b[0;34m)\u001b[0m\u001b[0;34m\u001b[0m\u001b[0;34m\u001b[0m\u001b[0m\n\u001b[0m\u001b[1;32m    145\u001b[0m         \u001b[0;32mtry\u001b[0m\u001b[0;34m:\u001b[0m\u001b[0;34m\u001b[0m\u001b[0;34m\u001b[0m\u001b[0m\n\u001b[1;32m    146\u001b[0m             self._do_init(master, appName, sparkHome, pyFiles, environment, batchSize, serializer,\n",
      "\u001b[0;32m~/opt/anaconda3/lib/python3.8/site-packages/pyspark/context.py\u001b[0m in \u001b[0;36m_ensure_initialized\u001b[0;34m(cls, instance, gateway, conf)\u001b[0m\n\u001b[1;32m    340\u001b[0m \u001b[0;34m\u001b[0m\u001b[0m\n\u001b[1;32m    341\u001b[0m                     \u001b[0;31m# Raise error if there is already a running Spark context\u001b[0m\u001b[0;34m\u001b[0m\u001b[0;34m\u001b[0m\u001b[0;34m\u001b[0m\u001b[0m\n\u001b[0;32m--> 342\u001b[0;31m                     raise ValueError(\n\u001b[0m\u001b[1;32m    343\u001b[0m                         \u001b[0;34m\"Cannot run multiple SparkContexts at once; \"\u001b[0m\u001b[0;34m\u001b[0m\u001b[0;34m\u001b[0m\u001b[0m\n\u001b[1;32m    344\u001b[0m                         \u001b[0;34m\"existing SparkContext(app=%s, master=%s)\"\u001b[0m\u001b[0;34m\u001b[0m\u001b[0;34m\u001b[0m\u001b[0m\n",
      "\u001b[0;31mValueError\u001b[0m: Cannot run multiple SparkContexts at once; existing SparkContext(app=Assignment 2, master=local[*]) created by getOrCreate at <ipython-input-3-0516e3b5d215>:1 "
     ]
    }
   ],
   "source": [
    "\n",
    "test = tweets_vectors.withColumn(\"w2v\",w2v_function('agg_tweet_respond'))"
   ]
  },
  {
   "cell_type": "code",
   "execution_count": 29,
   "metadata": {},
   "outputs": [
    {
     "ename": "PythonException",
     "evalue": "\n  An exception was thrown from the Python worker. Please see the stack trace below.\nTraceback (most recent call last):\n  File \"/Users/christiansullivan/opt/anaconda3/lib/python3.8/site-packages/pyspark/python/lib/pyspark.zip/pyspark/worker.py\", line 604, in main\n    process()\n  File \"/Users/christiansullivan/opt/anaconda3/lib/python3.8/site-packages/pyspark/python/lib/pyspark.zip/pyspark/worker.py\", line 596, in process\n    serializer.dump_stream(out_iter, outfile)\n  File \"/Users/christiansullivan/opt/anaconda3/lib/python3.8/site-packages/pyspark/python/lib/pyspark.zip/pyspark/serializers.py\", line 211, in dump_stream\n    self.serializer.dump_stream(self._batched(iterator), stream)\n  File \"/Users/christiansullivan/opt/anaconda3/lib/python3.8/site-packages/pyspark/python/lib/pyspark.zip/pyspark/serializers.py\", line 132, in dump_stream\n    for obj in iterator:\n  File \"/Users/christiansullivan/opt/anaconda3/lib/python3.8/site-packages/pyspark/python/lib/pyspark.zip/pyspark/serializers.py\", line 200, in _batched\n    for item in iterator:\n  File \"/Users/christiansullivan/opt/anaconda3/lib/python3.8/site-packages/pyspark/python/lib/pyspark.zip/pyspark/worker.py\", line 450, in mapper\n    result = tuple(f(*[a[o] for o in arg_offsets]) for (arg_offsets, f) in udfs)\n  File \"/Users/christiansullivan/opt/anaconda3/lib/python3.8/site-packages/pyspark/python/lib/pyspark.zip/pyspark/worker.py\", line 450, in <genexpr>\n    result = tuple(f(*[a[o] for o in arg_offsets]) for (arg_offsets, f) in udfs)\n  File \"/Users/christiansullivan/opt/anaconda3/lib/python3.8/site-packages/pyspark/python/lib/pyspark.zip/pyspark/worker.py\", line 85, in <lambda>\n    return lambda *a: f(*a)\n  File \"/Users/christiansullivan/opt/anaconda3/lib/python3.8/site-packages/pyspark/python/lib/pyspark.zip/pyspark/util.py\", line 73, in wrapper\n    return f(*args, **kwargs)\n  File \"<ipython-input-27-60d6fa5b7a59>\", line 2, in apply_w2v\n  File \"/Users/christiansullivan/opt/anaconda3/lib/python3.8/site-packages/pyspark/python/lib/pyspark.zip/pyspark/__init__.py\", line 114, in wrapper\n    return func(self, **kwargs)\n  File \"/Users/christiansullivan/opt/anaconda3/lib/python3.8/site-packages/pyspark/python/lib/pyspark.zip/pyspark/ml/feature.py\", line 4733, in __init__\n    self._java_obj = self._new_java_obj(\"org.apache.spark.ml.feature.Word2Vec\", self.uid)\n  File \"/Users/christiansullivan/opt/anaconda3/lib/python3.8/site-packages/pyspark/python/lib/pyspark.zip/pyspark/ml/wrapper.py\", line 62, in _new_java_obj\n    java_obj = _jvm()\n  File \"/Users/christiansullivan/opt/anaconda3/lib/python3.8/site-packages/pyspark/python/lib/pyspark.zip/pyspark/ml/util.py\", line 38, in _jvm\n    raise AttributeError(\"Cannot load _jvm from SparkContext. Is SparkContext initialized?\")\nAttributeError: Cannot load _jvm from SparkContext. Is SparkContext initialized?\n",
     "output_type": "error",
     "traceback": [
      "\u001b[0;31m---------------------------------------------------------------------------\u001b[0m",
      "\u001b[0;31mPythonException\u001b[0m                           Traceback (most recent call last)",
      "\u001b[0;32m<ipython-input-29-892cec191f70>\u001b[0m in \u001b[0;36m<module>\u001b[0;34m\u001b[0m\n\u001b[0;32m----> 1\u001b[0;31m \u001b[0mtest\u001b[0m\u001b[0;34m.\u001b[0m\u001b[0mshow\u001b[0m\u001b[0;34m(\u001b[0m\u001b[0;34m)\u001b[0m\u001b[0;34m\u001b[0m\u001b[0;34m\u001b[0m\u001b[0m\n\u001b[0m",
      "\u001b[0;32m~/opt/anaconda3/lib/python3.8/site-packages/pyspark/sql/dataframe.py\u001b[0m in \u001b[0;36mshow\u001b[0;34m(self, n, truncate, vertical)\u001b[0m\n\u001b[1;32m    482\u001b[0m         \"\"\"\n\u001b[1;32m    483\u001b[0m         \u001b[0;32mif\u001b[0m \u001b[0misinstance\u001b[0m\u001b[0;34m(\u001b[0m\u001b[0mtruncate\u001b[0m\u001b[0;34m,\u001b[0m \u001b[0mbool\u001b[0m\u001b[0;34m)\u001b[0m \u001b[0;32mand\u001b[0m \u001b[0mtruncate\u001b[0m\u001b[0;34m:\u001b[0m\u001b[0;34m\u001b[0m\u001b[0;34m\u001b[0m\u001b[0m\n\u001b[0;32m--> 484\u001b[0;31m             \u001b[0mprint\u001b[0m\u001b[0;34m(\u001b[0m\u001b[0mself\u001b[0m\u001b[0;34m.\u001b[0m\u001b[0m_jdf\u001b[0m\u001b[0;34m.\u001b[0m\u001b[0mshowString\u001b[0m\u001b[0;34m(\u001b[0m\u001b[0mn\u001b[0m\u001b[0;34m,\u001b[0m \u001b[0;36m20\u001b[0m\u001b[0;34m,\u001b[0m \u001b[0mvertical\u001b[0m\u001b[0;34m)\u001b[0m\u001b[0;34m)\u001b[0m\u001b[0;34m\u001b[0m\u001b[0;34m\u001b[0m\u001b[0m\n\u001b[0m\u001b[1;32m    485\u001b[0m         \u001b[0;32melse\u001b[0m\u001b[0;34m:\u001b[0m\u001b[0;34m\u001b[0m\u001b[0;34m\u001b[0m\u001b[0m\n\u001b[1;32m    486\u001b[0m             \u001b[0mprint\u001b[0m\u001b[0;34m(\u001b[0m\u001b[0mself\u001b[0m\u001b[0;34m.\u001b[0m\u001b[0m_jdf\u001b[0m\u001b[0;34m.\u001b[0m\u001b[0mshowString\u001b[0m\u001b[0;34m(\u001b[0m\u001b[0mn\u001b[0m\u001b[0;34m,\u001b[0m \u001b[0mint\u001b[0m\u001b[0;34m(\u001b[0m\u001b[0mtruncate\u001b[0m\u001b[0;34m)\u001b[0m\u001b[0;34m,\u001b[0m \u001b[0mvertical\u001b[0m\u001b[0;34m)\u001b[0m\u001b[0;34m)\u001b[0m\u001b[0;34m\u001b[0m\u001b[0;34m\u001b[0m\u001b[0m\n",
      "\u001b[0;32m~/opt/anaconda3/lib/python3.8/site-packages/py4j/java_gateway.py\u001b[0m in \u001b[0;36m__call__\u001b[0;34m(self, *args)\u001b[0m\n\u001b[1;32m   1302\u001b[0m \u001b[0;34m\u001b[0m\u001b[0m\n\u001b[1;32m   1303\u001b[0m         \u001b[0manswer\u001b[0m \u001b[0;34m=\u001b[0m \u001b[0mself\u001b[0m\u001b[0;34m.\u001b[0m\u001b[0mgateway_client\u001b[0m\u001b[0;34m.\u001b[0m\u001b[0msend_command\u001b[0m\u001b[0;34m(\u001b[0m\u001b[0mcommand\u001b[0m\u001b[0;34m)\u001b[0m\u001b[0;34m\u001b[0m\u001b[0;34m\u001b[0m\u001b[0m\n\u001b[0;32m-> 1304\u001b[0;31m         return_value = get_return_value(\n\u001b[0m\u001b[1;32m   1305\u001b[0m             answer, self.gateway_client, self.target_id, self.name)\n\u001b[1;32m   1306\u001b[0m \u001b[0;34m\u001b[0m\u001b[0m\n",
      "\u001b[0;32m~/opt/anaconda3/lib/python3.8/site-packages/pyspark/sql/utils.py\u001b[0m in \u001b[0;36mdeco\u001b[0;34m(*a, **kw)\u001b[0m\n\u001b[1;32m    115\u001b[0m                 \u001b[0;31m# Hide where the exception came from that shows a non-Pythonic\u001b[0m\u001b[0;34m\u001b[0m\u001b[0;34m\u001b[0m\u001b[0;34m\u001b[0m\u001b[0m\n\u001b[1;32m    116\u001b[0m                 \u001b[0;31m# JVM exception message.\u001b[0m\u001b[0;34m\u001b[0m\u001b[0;34m\u001b[0m\u001b[0;34m\u001b[0m\u001b[0m\n\u001b[0;32m--> 117\u001b[0;31m                 \u001b[0;32mraise\u001b[0m \u001b[0mconverted\u001b[0m \u001b[0;32mfrom\u001b[0m \u001b[0;32mNone\u001b[0m\u001b[0;34m\u001b[0m\u001b[0;34m\u001b[0m\u001b[0m\n\u001b[0m\u001b[1;32m    118\u001b[0m             \u001b[0;32melse\u001b[0m\u001b[0;34m:\u001b[0m\u001b[0;34m\u001b[0m\u001b[0;34m\u001b[0m\u001b[0m\n\u001b[1;32m    119\u001b[0m                 \u001b[0;32mraise\u001b[0m\u001b[0;34m\u001b[0m\u001b[0;34m\u001b[0m\u001b[0m\n",
      "\u001b[0;31mPythonException\u001b[0m: \n  An exception was thrown from the Python worker. Please see the stack trace below.\nTraceback (most recent call last):\n  File \"/Users/christiansullivan/opt/anaconda3/lib/python3.8/site-packages/pyspark/python/lib/pyspark.zip/pyspark/worker.py\", line 604, in main\n    process()\n  File \"/Users/christiansullivan/opt/anaconda3/lib/python3.8/site-packages/pyspark/python/lib/pyspark.zip/pyspark/worker.py\", line 596, in process\n    serializer.dump_stream(out_iter, outfile)\n  File \"/Users/christiansullivan/opt/anaconda3/lib/python3.8/site-packages/pyspark/python/lib/pyspark.zip/pyspark/serializers.py\", line 211, in dump_stream\n    self.serializer.dump_stream(self._batched(iterator), stream)\n  File \"/Users/christiansullivan/opt/anaconda3/lib/python3.8/site-packages/pyspark/python/lib/pyspark.zip/pyspark/serializers.py\", line 132, in dump_stream\n    for obj in iterator:\n  File \"/Users/christiansullivan/opt/anaconda3/lib/python3.8/site-packages/pyspark/python/lib/pyspark.zip/pyspark/serializers.py\", line 200, in _batched\n    for item in iterator:\n  File \"/Users/christiansullivan/opt/anaconda3/lib/python3.8/site-packages/pyspark/python/lib/pyspark.zip/pyspark/worker.py\", line 450, in mapper\n    result = tuple(f(*[a[o] for o in arg_offsets]) for (arg_offsets, f) in udfs)\n  File \"/Users/christiansullivan/opt/anaconda3/lib/python3.8/site-packages/pyspark/python/lib/pyspark.zip/pyspark/worker.py\", line 450, in <genexpr>\n    result = tuple(f(*[a[o] for o in arg_offsets]) for (arg_offsets, f) in udfs)\n  File \"/Users/christiansullivan/opt/anaconda3/lib/python3.8/site-packages/pyspark/python/lib/pyspark.zip/pyspark/worker.py\", line 85, in <lambda>\n    return lambda *a: f(*a)\n  File \"/Users/christiansullivan/opt/anaconda3/lib/python3.8/site-packages/pyspark/python/lib/pyspark.zip/pyspark/util.py\", line 73, in wrapper\n    return f(*args, **kwargs)\n  File \"<ipython-input-27-60d6fa5b7a59>\", line 2, in apply_w2v\n  File \"/Users/christiansullivan/opt/anaconda3/lib/python3.8/site-packages/pyspark/python/lib/pyspark.zip/pyspark/__init__.py\", line 114, in wrapper\n    return func(self, **kwargs)\n  File \"/Users/christiansullivan/opt/anaconda3/lib/python3.8/site-packages/pyspark/python/lib/pyspark.zip/pyspark/ml/feature.py\", line 4733, in __init__\n    self._java_obj = self._new_java_obj(\"org.apache.spark.ml.feature.Word2Vec\", self.uid)\n  File \"/Users/christiansullivan/opt/anaconda3/lib/python3.8/site-packages/pyspark/python/lib/pyspark.zip/pyspark/ml/wrapper.py\", line 62, in _new_java_obj\n    java_obj = _jvm()\n  File \"/Users/christiansullivan/opt/anaconda3/lib/python3.8/site-packages/pyspark/python/lib/pyspark.zip/pyspark/ml/util.py\", line 38, in _jvm\n    raise AttributeError(\"Cannot load _jvm from SparkContext. Is SparkContext initialized?\")\nAttributeError: Cannot load _jvm from SparkContext. Is SparkContext initialized?\n"
     ]
    }
   ],
   "source": [
    "test.show()"
   ]
  },
  {
   "cell_type": "code",
   "execution_count": null,
   "metadata": {},
   "outputs": [],
   "source": []
  },
  {
   "cell_type": "code",
   "execution_count": 242,
   "metadata": {},
   "outputs": [
    {
     "ename": "TypeError",
     "evalue": "'NoneType' object is not subscriptable",
     "output_type": "error",
     "traceback": [
      "\u001b[0;31m---------------------------------------------------------------------------\u001b[0m",
      "\u001b[0;31mTypeError\u001b[0m                                 Traceback (most recent call last)",
      "\u001b[0;32m<ipython-input-242-e18ad1727856>\u001b[0m in \u001b[0;36m<module>\u001b[0;34m\u001b[0m\n\u001b[1;32m      1\u001b[0m \u001b[0mselected_id\u001b[0m \u001b[0;34m=\u001b[0m \u001b[0;36m202170318\u001b[0m\u001b[0;34m\u001b[0m\u001b[0;34m\u001b[0m\u001b[0m\n\u001b[1;32m      2\u001b[0m \u001b[0mcompare_vector\u001b[0m \u001b[0;34m=\u001b[0m \u001b[0mtest\u001b[0m\u001b[0;34m.\u001b[0m\u001b[0mwhere\u001b[0m\u001b[0;34m(\u001b[0m\u001b[0;34mf'user_id = {selected_id}'\u001b[0m\u001b[0;34m)\u001b[0m\u001b[0;34m\u001b[0m\u001b[0;34m\u001b[0m\u001b[0m\n\u001b[0;32m----> 3\u001b[0;31m \u001b[0mcompare_vector\u001b[0m \u001b[0;34m=\u001b[0m \u001b[0mcompare_vector\u001b[0m\u001b[0;34m.\u001b[0m\u001b[0mfirst\u001b[0m\u001b[0;34m(\u001b[0m\u001b[0;34m)\u001b[0m\u001b[0;34m[\u001b[0m\u001b[0;34m'vector'\u001b[0m\u001b[0;34m]\u001b[0m\u001b[0;34m\u001b[0m\u001b[0;34m\u001b[0m\u001b[0m\n\u001b[0m",
      "\u001b[0;31mTypeError\u001b[0m: 'NoneType' object is not subscriptable"
     ]
    }
   ],
   "source": [
    "selected_id = 202170318\n",
    "compare_vector = test.where(f'user_id = {selected_id}')\n",
    "compare_vector = compare_vector.first()['vector']"
   ]
  },
  {
   "cell_type": "code",
   "execution_count": null,
   "metadata": {},
   "outputs": [],
   "source": [
    "from pyspark.mllib.feature import Word2Vec\n",
    "\n",
    "word2vec = Word2Vec()\n",
    "model = word2vec.fit(inp)\n",
    "\n",
    "synonyms = model.findSynonyms('1', 5)\n"
   ]
  },
  {
   "cell_type": "code",
   "execution_count": 268,
   "metadata": {},
   "outputs": [
    {
     "data": {
      "text/plain": [
       "DataFrame[user_id: bigint, agg_tweets: string, agg_retweet_users: string, agg_retweets: string, agg_reply_users: string, agg_replies: string, agg_tweet_respond: string, vectors: array<string>, CosineSim: array<string>]"
      ]
     },
     "execution_count": 268,
     "metadata": {},
     "output_type": "execute_result"
    }
   ],
   "source": [
    "test"
   ]
  },
  {
   "cell_type": "code",
   "execution_count": 269,
   "metadata": {},
   "outputs": [
    {
     "ename": "PythonException",
     "evalue": "\n  An exception was thrown from the Python worker. Please see the stack trace below.\nTraceback (most recent call last):\n  File \"/Users/christiansullivan/opt/anaconda3/lib/python3.8/site-packages/pyspark/python/lib/pyspark.zip/pyspark/worker.py\", line 604, in main\n    process()\n  File \"/Users/christiansullivan/opt/anaconda3/lib/python3.8/site-packages/pyspark/python/lib/pyspark.zip/pyspark/worker.py\", line 596, in process\n    serializer.dump_stream(out_iter, outfile)\n  File \"/Users/christiansullivan/opt/anaconda3/lib/python3.8/site-packages/pyspark/python/lib/pyspark.zip/pyspark/serializers.py\", line 211, in dump_stream\n    self.serializer.dump_stream(self._batched(iterator), stream)\n  File \"/Users/christiansullivan/opt/anaconda3/lib/python3.8/site-packages/pyspark/python/lib/pyspark.zip/pyspark/serializers.py\", line 132, in dump_stream\n    for obj in iterator:\n  File \"/Users/christiansullivan/opt/anaconda3/lib/python3.8/site-packages/pyspark/python/lib/pyspark.zip/pyspark/serializers.py\", line 200, in _batched\n    for item in iterator:\n  File \"/Users/christiansullivan/opt/anaconda3/lib/python3.8/site-packages/pyspark/python/lib/pyspark.zip/pyspark/worker.py\", line 450, in mapper\n    result = tuple(f(*[a[o] for o in arg_offsets]) for (arg_offsets, f) in udfs)\n  File \"/Users/christiansullivan/opt/anaconda3/lib/python3.8/site-packages/pyspark/python/lib/pyspark.zip/pyspark/worker.py\", line 450, in <genexpr>\n    result = tuple(f(*[a[o] for o in arg_offsets]) for (arg_offsets, f) in udfs)\n  File \"/Users/christiansullivan/opt/anaconda3/lib/python3.8/site-packages/pyspark/python/lib/pyspark.zip/pyspark/worker.py\", line 85, in <lambda>\n    return lambda *a: f(*a)\n  File \"/Users/christiansullivan/opt/anaconda3/lib/python3.8/site-packages/pyspark/python/lib/pyspark.zip/pyspark/util.py\", line 73, in wrapper\n    return f(*args, **kwargs)\n  File \"<ipython-input-228-07a1b5cd5b60>\", line 3, in cos_sim_w2v\n  File \"<__array_function__ internals>\", line 5, in dot\nTypeError: Cannot cast array data from dtype('float64') to dtype('<U32') according to the rule 'safe'\n",
     "output_type": "error",
     "traceback": [
      "\u001b[0;31m---------------------------------------------------------------------------\u001b[0m",
      "\u001b[0;31mPythonException\u001b[0m                           Traceback (most recent call last)",
      "\u001b[0;32m<ipython-input-269-892cec191f70>\u001b[0m in \u001b[0;36m<module>\u001b[0;34m\u001b[0m\n\u001b[0;32m----> 1\u001b[0;31m \u001b[0mtest\u001b[0m\u001b[0;34m.\u001b[0m\u001b[0mshow\u001b[0m\u001b[0;34m(\u001b[0m\u001b[0;34m)\u001b[0m\u001b[0;34m\u001b[0m\u001b[0;34m\u001b[0m\u001b[0m\n\u001b[0m",
      "\u001b[0;32m~/opt/anaconda3/lib/python3.8/site-packages/pyspark/sql/dataframe.py\u001b[0m in \u001b[0;36mshow\u001b[0;34m(self, n, truncate, vertical)\u001b[0m\n\u001b[1;32m    482\u001b[0m         \"\"\"\n\u001b[1;32m    483\u001b[0m         \u001b[0;32mif\u001b[0m \u001b[0misinstance\u001b[0m\u001b[0;34m(\u001b[0m\u001b[0mtruncate\u001b[0m\u001b[0;34m,\u001b[0m \u001b[0mbool\u001b[0m\u001b[0;34m)\u001b[0m \u001b[0;32mand\u001b[0m \u001b[0mtruncate\u001b[0m\u001b[0;34m:\u001b[0m\u001b[0;34m\u001b[0m\u001b[0;34m\u001b[0m\u001b[0m\n\u001b[0;32m--> 484\u001b[0;31m             \u001b[0mprint\u001b[0m\u001b[0;34m(\u001b[0m\u001b[0mself\u001b[0m\u001b[0;34m.\u001b[0m\u001b[0m_jdf\u001b[0m\u001b[0;34m.\u001b[0m\u001b[0mshowString\u001b[0m\u001b[0;34m(\u001b[0m\u001b[0mn\u001b[0m\u001b[0;34m,\u001b[0m \u001b[0;36m20\u001b[0m\u001b[0;34m,\u001b[0m \u001b[0mvertical\u001b[0m\u001b[0;34m)\u001b[0m\u001b[0;34m)\u001b[0m\u001b[0;34m\u001b[0m\u001b[0;34m\u001b[0m\u001b[0m\n\u001b[0m\u001b[1;32m    485\u001b[0m         \u001b[0;32melse\u001b[0m\u001b[0;34m:\u001b[0m\u001b[0;34m\u001b[0m\u001b[0;34m\u001b[0m\u001b[0m\n\u001b[1;32m    486\u001b[0m             \u001b[0mprint\u001b[0m\u001b[0;34m(\u001b[0m\u001b[0mself\u001b[0m\u001b[0;34m.\u001b[0m\u001b[0m_jdf\u001b[0m\u001b[0;34m.\u001b[0m\u001b[0mshowString\u001b[0m\u001b[0;34m(\u001b[0m\u001b[0mn\u001b[0m\u001b[0;34m,\u001b[0m \u001b[0mint\u001b[0m\u001b[0;34m(\u001b[0m\u001b[0mtruncate\u001b[0m\u001b[0;34m)\u001b[0m\u001b[0;34m,\u001b[0m \u001b[0mvertical\u001b[0m\u001b[0;34m)\u001b[0m\u001b[0;34m)\u001b[0m\u001b[0;34m\u001b[0m\u001b[0;34m\u001b[0m\u001b[0m\n",
      "\u001b[0;32m~/opt/anaconda3/lib/python3.8/site-packages/py4j/java_gateway.py\u001b[0m in \u001b[0;36m__call__\u001b[0;34m(self, *args)\u001b[0m\n\u001b[1;32m   1302\u001b[0m \u001b[0;34m\u001b[0m\u001b[0m\n\u001b[1;32m   1303\u001b[0m         \u001b[0manswer\u001b[0m \u001b[0;34m=\u001b[0m \u001b[0mself\u001b[0m\u001b[0;34m.\u001b[0m\u001b[0mgateway_client\u001b[0m\u001b[0;34m.\u001b[0m\u001b[0msend_command\u001b[0m\u001b[0;34m(\u001b[0m\u001b[0mcommand\u001b[0m\u001b[0;34m)\u001b[0m\u001b[0;34m\u001b[0m\u001b[0;34m\u001b[0m\u001b[0m\n\u001b[0;32m-> 1304\u001b[0;31m         return_value = get_return_value(\n\u001b[0m\u001b[1;32m   1305\u001b[0m             answer, self.gateway_client, self.target_id, self.name)\n\u001b[1;32m   1306\u001b[0m \u001b[0;34m\u001b[0m\u001b[0m\n",
      "\u001b[0;32m~/opt/anaconda3/lib/python3.8/site-packages/pyspark/sql/utils.py\u001b[0m in \u001b[0;36mdeco\u001b[0;34m(*a, **kw)\u001b[0m\n\u001b[1;32m    115\u001b[0m                 \u001b[0;31m# Hide where the exception came from that shows a non-Pythonic\u001b[0m\u001b[0;34m\u001b[0m\u001b[0;34m\u001b[0m\u001b[0;34m\u001b[0m\u001b[0m\n\u001b[1;32m    116\u001b[0m                 \u001b[0;31m# JVM exception message.\u001b[0m\u001b[0;34m\u001b[0m\u001b[0;34m\u001b[0m\u001b[0;34m\u001b[0m\u001b[0m\n\u001b[0;32m--> 117\u001b[0;31m                 \u001b[0;32mraise\u001b[0m \u001b[0mconverted\u001b[0m \u001b[0;32mfrom\u001b[0m \u001b[0;32mNone\u001b[0m\u001b[0;34m\u001b[0m\u001b[0;34m\u001b[0m\u001b[0m\n\u001b[0m\u001b[1;32m    118\u001b[0m             \u001b[0;32melse\u001b[0m\u001b[0;34m:\u001b[0m\u001b[0;34m\u001b[0m\u001b[0;34m\u001b[0m\u001b[0m\n\u001b[1;32m    119\u001b[0m                 \u001b[0;32mraise\u001b[0m\u001b[0;34m\u001b[0m\u001b[0;34m\u001b[0m\u001b[0m\n",
      "\u001b[0;31mPythonException\u001b[0m: \n  An exception was thrown from the Python worker. Please see the stack trace below.\nTraceback (most recent call last):\n  File \"/Users/christiansullivan/opt/anaconda3/lib/python3.8/site-packages/pyspark/python/lib/pyspark.zip/pyspark/worker.py\", line 604, in main\n    process()\n  File \"/Users/christiansullivan/opt/anaconda3/lib/python3.8/site-packages/pyspark/python/lib/pyspark.zip/pyspark/worker.py\", line 596, in process\n    serializer.dump_stream(out_iter, outfile)\n  File \"/Users/christiansullivan/opt/anaconda3/lib/python3.8/site-packages/pyspark/python/lib/pyspark.zip/pyspark/serializers.py\", line 211, in dump_stream\n    self.serializer.dump_stream(self._batched(iterator), stream)\n  File \"/Users/christiansullivan/opt/anaconda3/lib/python3.8/site-packages/pyspark/python/lib/pyspark.zip/pyspark/serializers.py\", line 132, in dump_stream\n    for obj in iterator:\n  File \"/Users/christiansullivan/opt/anaconda3/lib/python3.8/site-packages/pyspark/python/lib/pyspark.zip/pyspark/serializers.py\", line 200, in _batched\n    for item in iterator:\n  File \"/Users/christiansullivan/opt/anaconda3/lib/python3.8/site-packages/pyspark/python/lib/pyspark.zip/pyspark/worker.py\", line 450, in mapper\n    result = tuple(f(*[a[o] for o in arg_offsets]) for (arg_offsets, f) in udfs)\n  File \"/Users/christiansullivan/opt/anaconda3/lib/python3.8/site-packages/pyspark/python/lib/pyspark.zip/pyspark/worker.py\", line 450, in <genexpr>\n    result = tuple(f(*[a[o] for o in arg_offsets]) for (arg_offsets, f) in udfs)\n  File \"/Users/christiansullivan/opt/anaconda3/lib/python3.8/site-packages/pyspark/python/lib/pyspark.zip/pyspark/worker.py\", line 85, in <lambda>\n    return lambda *a: f(*a)\n  File \"/Users/christiansullivan/opt/anaconda3/lib/python3.8/site-packages/pyspark/python/lib/pyspark.zip/pyspark/util.py\", line 73, in wrapper\n    return f(*args, **kwargs)\n  File \"<ipython-input-228-07a1b5cd5b60>\", line 3, in cos_sim_w2v\n  File \"<__array_function__ internals>\", line 5, in dot\nTypeError: Cannot cast array data from dtype('float64') to dtype('<U32') according to the rule 'safe'\n"
     ]
    }
   ],
   "source": [
    "test.show()"
   ]
  },
  {
   "cell_type": "code",
   "execution_count": null,
   "metadata": {},
   "outputs": [],
   "source": [
    "test = test.withColumn(\"CosineSim\",cos_function_w2v('vector'))"
   ]
  },
  {
   "cell_type": "code",
   "execution_count": 214,
   "metadata": {},
   "outputs": [
    {
     "ename": "AttributeError",
     "evalue": "'DataFrame' object has no attribute 'dot'",
     "output_type": "error",
     "traceback": [
      "\u001b[0;31m---------------------------------------------------------------------------\u001b[0m",
      "\u001b[0;31mAttributeError\u001b[0m                            Traceback (most recent call last)",
      "\u001b[0;32m<ipython-input-214-f101dd214782>\u001b[0m in \u001b[0;36m<module>\u001b[0;34m\u001b[0m\n\u001b[0;32m----> 1\u001b[0;31m \u001b[0mcos_sim\u001b[0m\u001b[0;34m(\u001b[0m\u001b[0mtest\u001b[0m\u001b[0;34m.\u001b[0m\u001b[0mselect\u001b[0m\u001b[0;34m(\u001b[0m\u001b[0;34m'vector'\u001b[0m\u001b[0;34m)\u001b[0m\u001b[0;34m,\u001b[0m\u001b[0mcompare_vector\u001b[0m\u001b[0;34m)\u001b[0m\u001b[0;34m\u001b[0m\u001b[0;34m\u001b[0m\u001b[0m\n\u001b[0m",
      "\u001b[0;32m<ipython-input-38-f24efe01bc04>\u001b[0m in \u001b[0;36mcos_sim\u001b[0;34m(a, b)\u001b[0m\n\u001b[1;32m      1\u001b[0m \u001b[0;32mdef\u001b[0m \u001b[0mcos_sim\u001b[0m\u001b[0;34m(\u001b[0m\u001b[0ma\u001b[0m\u001b[0;34m,\u001b[0m\u001b[0mb\u001b[0m\u001b[0;34m=\u001b[0m\u001b[0mcompare_vector\u001b[0m\u001b[0;34m)\u001b[0m\u001b[0;34m:\u001b[0m\u001b[0;34m\u001b[0m\u001b[0;34m\u001b[0m\u001b[0m\n\u001b[0;32m----> 2\u001b[0;31m     \u001b[0;32mreturn\u001b[0m \u001b[0mfloat\u001b[0m\u001b[0;34m(\u001b[0m\u001b[0ma\u001b[0m\u001b[0;34m.\u001b[0m\u001b[0mdot\u001b[0m\u001b[0;34m(\u001b[0m\u001b[0mb\u001b[0m\u001b[0;34m)\u001b[0m \u001b[0;34m/\u001b[0m \u001b[0;34m(\u001b[0m\u001b[0ma\u001b[0m\u001b[0;34m.\u001b[0m\u001b[0mnorm\u001b[0m\u001b[0;34m(\u001b[0m\u001b[0;36m2\u001b[0m\u001b[0;34m)\u001b[0m \u001b[0;34m*\u001b[0m \u001b[0mb\u001b[0m\u001b[0;34m.\u001b[0m\u001b[0mnorm\u001b[0m\u001b[0;34m(\u001b[0m\u001b[0;36m2\u001b[0m\u001b[0;34m)\u001b[0m\u001b[0;34m)\u001b[0m\u001b[0;34m)\u001b[0m\u001b[0;34m\u001b[0m\u001b[0;34m\u001b[0m\u001b[0m\n\u001b[0m",
      "\u001b[0;32m~/opt/anaconda3/lib/python3.8/site-packages/pyspark/sql/dataframe.py\u001b[0m in \u001b[0;36m__getattr__\u001b[0;34m(self, name)\u001b[0m\n\u001b[1;32m   1641\u001b[0m         \"\"\"\n\u001b[1;32m   1642\u001b[0m         \u001b[0;32mif\u001b[0m \u001b[0mname\u001b[0m \u001b[0;32mnot\u001b[0m \u001b[0;32min\u001b[0m \u001b[0mself\u001b[0m\u001b[0;34m.\u001b[0m\u001b[0mcolumns\u001b[0m\u001b[0;34m:\u001b[0m\u001b[0;34m\u001b[0m\u001b[0;34m\u001b[0m\u001b[0m\n\u001b[0;32m-> 1643\u001b[0;31m             raise AttributeError(\n\u001b[0m\u001b[1;32m   1644\u001b[0m                 \"'%s' object has no attribute '%s'\" % (self.__class__.__name__, name))\n\u001b[1;32m   1645\u001b[0m         \u001b[0mjc\u001b[0m \u001b[0;34m=\u001b[0m \u001b[0mself\u001b[0m\u001b[0;34m.\u001b[0m\u001b[0m_jdf\u001b[0m\u001b[0;34m.\u001b[0m\u001b[0mapply\u001b[0m\u001b[0;34m(\u001b[0m\u001b[0mname\u001b[0m\u001b[0;34m)\u001b[0m\u001b[0;34m\u001b[0m\u001b[0;34m\u001b[0m\u001b[0m\n",
      "\u001b[0;31mAttributeError\u001b[0m: 'DataFrame' object has no attribute 'dot'"
     ]
    }
   ],
   "source": [
    "cos_sim(test.select('vector'),compare_vector)"
   ]
  },
  {
   "cell_type": "code",
   "execution_count": 98,
   "metadata": {},
   "outputs": [
    {
     "name": "stdout",
     "output_type": "stream",
     "text": [
      "+-------------------+---------------------------------------------------------------------------------------------------------+\n",
      "|word               |vector                                                                                                   |\n",
      "+-------------------+---------------------------------------------------------------------------------------------------------+\n",
      "|1390027514332991489|[-0.0046485066413879395,0.078712597489357,-0.09231849759817123,-0.02973146364092827,-0.03397924825549126]|\n",
      "+-------------------+---------------------------------------------------------------------------------------------------------+\n",
      "\n"
     ]
    }
   ],
   "source": [
    "model.getVectors().filter(model.getVectors().word == '1390027514332991489').show(truncate=False)"
   ]
  },
  {
   "cell_type": "code",
   "execution_count": 86,
   "metadata": {},
   "outputs": [
    {
     "data": {
      "text/plain": [
       "'1390027514332991489'"
      ]
     },
     "execution_count": 86,
     "metadata": {},
     "output_type": "execute_result"
    }
   ],
   "source": [
    "compare_vector[0]"
   ]
  },
  {
   "cell_type": "code",
   "execution_count": 99,
   "metadata": {},
   "outputs": [
    {
     "data": {
      "text/plain": [
       "[('1390033532995751939', 0.9623203873634338),\n",
       " ('1390037786573508608', 0.8075522184371948),\n",
       " ('1390039341431361539', 0.738990306854248),\n",
       " ('1390048625997357056', 0.712664008140564),\n",
       " ('1390039279422910471', 0.6842443943023682)]"
      ]
     },
     "execution_count": 99,
     "metadata": {},
     "output_type": "execute_result"
    }
   ],
   "source": [
    "model.findSynonymsArray(compare_vector,5)"
   ]
  },
  {
   "cell_type": "code",
   "execution_count": 181,
   "metadata": {},
   "outputs": [
    {
     "name": "stdout",
     "output_type": "stream",
     "text": [
      "+---------+---------------------------------------------------------------------------------------------------+----------------------------------------------+---------------------------------------------------------------------------------------------------+---------------+-------------------+---------------------------------------------------------------------------------------------------+-----------------------------------------------------------------------------------------------------+\n",
      "|user_id  |agg_tweets                                                                                         |agg_retweet_users                             |agg_retweets                                                                                       |agg_reply_users|agg_replies        |agg_tweet_respond                                                                                  |vectors                                                                                              |\n",
      "+---------+---------------------------------------------------------------------------------------------------+----------------------------------------------+---------------------------------------------------------------------------------------------------+---------------+-------------------+---------------------------------------------------------------------------------------------------+-----------------------------------------------------------------------------------------------------+\n",
      "|15466159 |1390054010502225922                                                                                |807095                                        |1390027514332991489                                                                                |null           |null               |1390027514332991489                                                                                |[1390027514332991489]                                                                                |\n",
      "|19652471 |1390061372604514304                                                                                |26574283                                      |1390023742194061312                                                                                |null           |null               |1390023742194061312                                                                                |[1390023742194061312]                                                                                |\n",
      "|30616018 |1390052446920220675                                                                                |931571402                                     |1390026843068239874                                                                                |null           |null               |1390026843068239874                                                                                |[1390026843068239874]                                                                                |\n",
      "|32947971 |1390058861415997442                                                                                |807095                                        |1390027514332991489                                                                                |null           |null               |1390027514332991489                                                                                |[1390027514332991489]                                                                                |\n",
      "|33868781 |1390071486094905344                                                                                |null                                          |null                                                                                               |null           |null               |                                                                                                   |[]                                                                                                   |\n",
      "|43301934 |1390039244257865728                                                                                |380648579                                     |1390022155350446082                                                                                |null           |null               |1390022155350446082                                                                                |[1390022155350446082]                                                                                |\n",
      "|51797430 |1390041312494301195                                                                                |26574283                                      |1390023742194061312                                                                                |null           |null               |1390023742194061312                                                                                |[1390023742194061312]                                                                                |\n",
      "|54579715 |1390040623466622979                                                                                |807095                                        |1390027514332991489                                                                                |null           |null               |1390027514332991489                                                                                |[1390027514332991489]                                                                                |\n",
      "|106456868|1390062023782903813                                                                                |22429979                                      |1390060755995799552                                                                                |null           |null               |1390060755995799552                                                                                |[1390060755995799552]                                                                                |\n",
      "|109826391|1390065027881705479                                                                                |807095                                        |1390027514332991489                                                                                |null           |null               |1390027514332991489                                                                                |[1390027514332991489]                                                                                |\n",
      "|111249239|1390049219579363328                                                                                |26574283                                      |1390023742194061312                                                                                |null           |null               |1390023742194061312                                                                                |[1390023742194061312]                                                                                |\n",
      "|147126487|1390049997790408707                                                                                |null                                          |null                                                                                               |32345449       |1390043577703563265|1390043577703563265                                                                                |[1390043577703563265]                                                                                |\n",
      "|157101980|1390056983626190848                                                                                |237341484                                     |1390056156756914182                                                                                |null           |null               |1390056156756914182                                                                                |[1390056156756914182]                                                                                |\n",
      "|202170318|1390075889505996802,1390075053539221504,1390074757618585601,1390068678713085953,1390068171848228864|4970411,380648579,380648579,104277809,96900937|1390071341894750211,1390047008971444231,1390022155350446082,1390062246034698240,1390068042474917888|null           |null               |1390071341894750211,1390047008971444231,1390022155350446082,1390062246034698240,1390068042474917888|[1390071341894750211,1390047008971444231,1390022155350446082,1390062246034698240,1390068042474917888]|\n",
      "|228531805|1390048955673677824                                                                                |807095                                        |1390027514332991489                                                                                |null           |null               |1390027514332991489                                                                                |[1390027514332991489]                                                                                |\n",
      "|235000057|1390057192045248512                                                                                |null                                          |null                                                                                               |null           |null               |                                                                                                   |[]                                                                                                   |\n",
      "|257121078|1390054261128634375                                                                                |26574283                                      |1390023742194061312                                                                                |null           |null               |1390023742194061312                                                                                |[1390023742194061312]                                                                                |\n",
      "|302864870|1390068821394960384                                                                                |191807697                                     |1390050885229817856                                                                                |null           |null               |1390050885229817856                                                                                |[1390050885229817856]                                                                                |\n",
      "|404262940|1390071754995949577                                                                                |null                                          |null                                                                                               |null           |null               |                                                                                                   |[]                                                                                                   |\n",
      "|417365324|1390063921210474496,1390056122283962369                                                            |237341484,191807697                           |1390056156756914182,1390050885229817856                                                            |null           |null               |1390056156756914182,1390050885229817856                                                            |[1390056156756914182,1390050885229817856]                                                            |\n",
      "+---------+---------------------------------------------------------------------------------------------------+----------------------------------------------+---------------------------------------------------------------------------------------------------+---------------+-------------------+---------------------------------------------------------------------------------------------------+-----------------------------------------------------------------------------------------------------+\n",
      "only showing top 20 rows\n",
      "\n"
     ]
    }
   ],
   "source": [
    "tweets_vectors.show(truncate=False)"
   ]
  },
  {
   "cell_type": "code",
   "execution_count": null,
   "metadata": {},
   "outputs": [],
   "source": []
  },
  {
   "cell_type": "code",
   "execution_count": null,
   "metadata": {},
   "outputs": [],
   "source": []
  },
  {
   "cell_type": "code",
   "execution_count": 83,
   "metadata": {},
   "outputs": [
    {
     "name": "stdout",
     "output_type": "stream",
     "text": [
      "+----+--------------------+\n",
      "|word|              vector|\n",
      "+----+--------------------+\n",
      "|   a|[0.09511678665876...|\n",
      "|   b|[-1.2028766870498...|\n",
      "|   c|[0.30153277516365...|\n",
      "+----+--------------------+\n",
      "\n",
      "+----+----------+\n",
      "|word|similarity|\n",
      "+----+----------+\n",
      "|   b|   0.01586|\n",
      "|   c|  -0.56808|\n",
      "+----+----------+\n",
      "\n"
     ]
    }
   ],
   "source": [
    "sent = (\"a b \" * 100 + \"a c \" * 10).split(\" \")\n",
    "doc = spark.createDataFrame([(sent,), (sent,)], [\"sentence\"])\n",
    "word2Vec = Word2Vec(vectorSize=5, seed=42, inputCol=\"sentence\", outputCol=\"model\")\n",
    "word2Vec.setMaxIter(10)\n",
    "word2Vec.getMaxIter()\n",
    "word2Vec.clear(word2Vec.maxIter)\n",
    "model = word2Vec.fit(doc)\n",
    "model.getMinCount()\n",
    "model.setInputCol(\"sentence\")\n",
    "model.getVectors().show()\n",
    "\n",
    "\n",
    "model.findSynonymsArray(\"a\", 2)\n",
    "from pyspark.sql.functions import format_number as fmt\n",
    "model.findSynonyms(\"a\", 2).select(\"word\", fmt(\"similarity\", 5).alias(\"similarity\")).show()"
   ]
  },
  {
   "cell_type": "code",
   "execution_count": 84,
   "metadata": {},
   "outputs": [
    {
     "ename": "TypeError",
     "evalue": "findSynonymsArray() missing 2 required positional arguments: 'word' and 'num'",
     "output_type": "error",
     "traceback": [
      "\u001b[0;31m---------------------------------------------------------------------------\u001b[0m",
      "\u001b[0;31mTypeError\u001b[0m                                 Traceback (most recent call last)",
      "\u001b[0;32m<ipython-input-84-867957576a9d>\u001b[0m in \u001b[0;36m<module>\u001b[0;34m\u001b[0m\n\u001b[0;32m----> 1\u001b[0;31m \u001b[0mmodel\u001b[0m\u001b[0;34m.\u001b[0m\u001b[0mfindSynonymsArray\u001b[0m\u001b[0;34m(\u001b[0m\u001b[0;34m)\u001b[0m\u001b[0;34m\u001b[0m\u001b[0;34m\u001b[0m\u001b[0m\n\u001b[0m",
      "\u001b[0;31mTypeError\u001b[0m: findSynonymsArray() missing 2 required positional arguments: 'word' and 'num'"
     ]
    }
   ],
   "source": [
    "model.findSynonymsArray()"
   ]
  },
  {
   "cell_type": "code",
   "execution_count": null,
   "metadata": {},
   "outputs": [],
   "source": []
  },
  {
   "cell_type": "code",
   "execution_count": null,
   "metadata": {},
   "outputs": [],
   "source": []
  },
  {
   "cell_type": "code",
   "execution_count": null,
   "metadata": {},
   "outputs": [],
   "source": []
  },
  {
   "cell_type": "code",
   "execution_count": null,
   "metadata": {},
   "outputs": [],
   "source": []
  },
  {
   "cell_type": "code",
   "execution_count": null,
   "metadata": {},
   "outputs": [],
   "source": []
  },
  {
   "cell_type": "code",
   "execution_count": null,
   "metadata": {},
   "outputs": [],
   "source": []
  },
  {
   "cell_type": "code",
   "execution_count": null,
   "metadata": {},
   "outputs": [],
   "source": []
  },
  {
   "cell_type": "code",
   "execution_count": 271,
   "metadata": {},
   "outputs": [
    {
     "data": {
      "text/html": [
       "<div>\n",
       "<style scoped>\n",
       "    .dataframe tbody tr th:only-of-type {\n",
       "        vertical-align: middle;\n",
       "    }\n",
       "\n",
       "    .dataframe tbody tr th {\n",
       "        vertical-align: top;\n",
       "    }\n",
       "\n",
       "    .dataframe thead th {\n",
       "        text-align: right;\n",
       "    }\n",
       "</style>\n",
       "<table border=\"1\" class=\"dataframe\">\n",
       "  <thead>\n",
       "    <tr style=\"text-align: right;\">\n",
       "      <th></th>\n",
       "      <th>myCol</th>\n",
       "      <th>coSim</th>\n",
       "    </tr>\n",
       "  </thead>\n",
       "  <tbody>\n",
       "    <tr>\n",
       "      <th>0</th>\n",
       "      <td>[0.7405392724490619, 0.8125921027441317, 0.206...</td>\n",
       "      <td>0.681383</td>\n",
       "    </tr>\n",
       "    <tr>\n",
       "      <th>1</th>\n",
       "      <td>[0.8263547949464041, 0.6992740140918257, 0.148...</td>\n",
       "      <td>0.615073</td>\n",
       "    </tr>\n",
       "    <tr>\n",
       "      <th>2</th>\n",
       "      <td>[0.38942154605217305, 0.6725820219955552, 0.13...</td>\n",
       "      <td>0.829424</td>\n",
       "    </tr>\n",
       "    <tr>\n",
       "      <th>3</th>\n",
       "      <td>[0.5405191700628009, 0.7358844818469981, 0.721...</td>\n",
       "      <td>0.713230</td>\n",
       "    </tr>\n",
       "    <tr>\n",
       "      <th>4</th>\n",
       "      <td>[0.38648107561266953, 0.4678309822785245, 0.78...</td>\n",
       "      <td>0.848570</td>\n",
       "    </tr>\n",
       "    <tr>\n",
       "      <th>5</th>\n",
       "      <td>[0.6461375360829296, 0.8339462255566216, 0.490...</td>\n",
       "      <td>0.627346</td>\n",
       "    </tr>\n",
       "    <tr>\n",
       "      <th>6</th>\n",
       "      <td>[0.3755546423826457, 0.4375009033824063, 0.823...</td>\n",
       "      <td>0.908024</td>\n",
       "    </tr>\n",
       "    <tr>\n",
       "      <th>7</th>\n",
       "      <td>[0.6071775077583399, 0.801368943313297, 0.6150...</td>\n",
       "      <td>0.836216</td>\n",
       "    </tr>\n",
       "    <tr>\n",
       "      <th>8</th>\n",
       "      <td>[0.9774961997948872, 0.421262444193812, 0.8469...</td>\n",
       "      <td>0.694931</td>\n",
       "    </tr>\n",
       "    <tr>\n",
       "      <th>9</th>\n",
       "      <td>[0.9683114926983347, 0.5329209586422137, 0.454...</td>\n",
       "      <td>0.750911</td>\n",
       "    </tr>\n",
       "  </tbody>\n",
       "</table>\n",
       "</div>"
      ],
      "text/plain": [
       "                                               myCol     coSim\n",
       "0  [0.7405392724490619, 0.8125921027441317, 0.206...  0.681383\n",
       "1  [0.8263547949464041, 0.6992740140918257, 0.148...  0.615073\n",
       "2  [0.38942154605217305, 0.6725820219955552, 0.13...  0.829424\n",
       "3  [0.5405191700628009, 0.7358844818469981, 0.721...  0.713230\n",
       "4  [0.38648107561266953, 0.4678309822785245, 0.78...  0.848570\n",
       "5  [0.6461375360829296, 0.8339462255566216, 0.490...  0.627346\n",
       "6  [0.3755546423826457, 0.4375009033824063, 0.823...  0.908024\n",
       "7  [0.6071775077583399, 0.801368943313297, 0.6150...  0.836216\n",
       "8  [0.9774961997948872, 0.421262444193812, 0.8469...  0.694931\n",
       "9  [0.9683114926983347, 0.5329209586422137, 0.454...  0.750911"
      ]
     },
     "execution_count": 271,
     "metadata": {},
     "output_type": "execute_result"
    }
   ],
   "source": [
    "# imports we'll need\n",
    "import numpy as np\n",
    "from pyspark.ml.linalg import *\n",
    "from pyspark.sql.types import * \n",
    "from pyspark.sql.functions import *\n",
    "\n",
    "# function to generate a random Spark dense vector\n",
    "def random_dense_vector(length=10):\n",
    "    return Vectors.dense([float(np.random.random()) for i in range(length)])\n",
    "\n",
    "# create a random static dense vector\n",
    "static_vector = random_dense_vector()\n",
    "\n",
    "# create a random DF with dense vectors in column\n",
    "df = spark.createDataFrame([[random_dense_vector()] for x in range(10)], [\"myCol\"])\n",
    "df.limit(3).toPandas()\n",
    "\n",
    "# write our UDF for cosine similarity\n",
    "def cos_sim(a,b):\n",
    "    return float(np.dot(a, b) / (np.linalg.norm(a) * np.linalg.norm(b)))\n",
    "\n",
    "# apply the UDF to the column\n",
    "df = df.withColumn(\"coSim\", udf(cos_sim, FloatType())(col(\"myCol\"), array([lit(v) for v in static_vector])))\n",
    "df.limit(10).toPandas()"
   ]
  },
  {
   "cell_type": "code",
   "execution_count": 273,
   "metadata": {},
   "outputs": [
    {
     "name": "stdout",
     "output_type": "stream",
     "text": [
      "+--------------------+----------+\n",
      "|               myCol|     coSim|\n",
      "+--------------------+----------+\n",
      "|[0.74053927244906...|0.68138266|\n",
      "|[0.82635479494640...| 0.6150727|\n",
      "|[0.38942154605217...| 0.8294242|\n",
      "|[0.54051917006280...| 0.7132299|\n",
      "|[0.38648107561266...| 0.8485704|\n",
      "|[0.64613753608292...|0.62734604|\n",
      "|[0.37555464238264...|0.90802354|\n",
      "|[0.60717750775833...| 0.8362161|\n",
      "|[0.97749619979488...| 0.6949311|\n",
      "|[0.96831149269833...| 0.7509105|\n",
      "+--------------------+----------+\n",
      "\n"
     ]
    }
   ],
   "source": [
    "df.show()"
   ]
  },
  {
   "cell_type": "code",
   "execution_count": null,
   "metadata": {},
   "outputs": [],
   "source": []
  },
  {
   "cell_type": "code",
   "execution_count": 257,
   "metadata": {},
   "outputs": [
    {
     "ename": "AttributeError",
     "evalue": "'DataFrame' object has no attribute '_get_object_id'",
     "output_type": "error",
     "traceback": [
      "\u001b[0;31m---------------------------------------------------------------------------\u001b[0m",
      "\u001b[0;31mAttributeError\u001b[0m                            Traceback (most recent call last)",
      "\u001b[0;32m<ipython-input-257-0c65948a0732>\u001b[0m in \u001b[0;36m<module>\u001b[0;34m\u001b[0m\n\u001b[0;32m----> 1\u001b[0;31m \u001b[0marray\u001b[0m\u001b[0;34m(\u001b[0m\u001b[0mlit\u001b[0m\u001b[0;34m(\u001b[0m\u001b[0mtweets_vectors\u001b[0m\u001b[0;34m.\u001b[0m\u001b[0mselect\u001b[0m\u001b[0;34m(\u001b[0m\u001b[0;34m'vectors'\u001b[0m\u001b[0;34m)\u001b[0m\u001b[0;34m)\u001b[0m\u001b[0;34m)\u001b[0m\u001b[0;34m\u001b[0m\u001b[0;34m\u001b[0m\u001b[0m\n\u001b[0m",
      "\u001b[0;32m~/opt/anaconda3/lib/python3.8/site-packages/pyspark/sql/functions.py\u001b[0m in \u001b[0;36mlit\u001b[0;34m(col)\u001b[0m\n\u001b[1;32m     96\u001b[0m     \u001b[0;34m[\u001b[0m\u001b[0mRow\u001b[0m\u001b[0;34m(\u001b[0m\u001b[0mheight\u001b[0m\u001b[0;34m=\u001b[0m\u001b[0;36m5\u001b[0m\u001b[0;34m,\u001b[0m \u001b[0mspark_user\u001b[0m\u001b[0;34m=\u001b[0m\u001b[0;32mTrue\u001b[0m\u001b[0;34m)\u001b[0m\u001b[0;34m]\u001b[0m\u001b[0;34m\u001b[0m\u001b[0;34m\u001b[0m\u001b[0m\n\u001b[1;32m     97\u001b[0m     \"\"\"\n\u001b[0;32m---> 98\u001b[0;31m     \u001b[0;32mreturn\u001b[0m \u001b[0mcol\u001b[0m \u001b[0;32mif\u001b[0m \u001b[0misinstance\u001b[0m\u001b[0;34m(\u001b[0m\u001b[0mcol\u001b[0m\u001b[0;34m,\u001b[0m \u001b[0mColumn\u001b[0m\u001b[0;34m)\u001b[0m \u001b[0;32melse\u001b[0m \u001b[0m_invoke_function\u001b[0m\u001b[0;34m(\u001b[0m\u001b[0;34m\"lit\"\u001b[0m\u001b[0;34m,\u001b[0m \u001b[0mcol\u001b[0m\u001b[0;34m)\u001b[0m\u001b[0;34m\u001b[0m\u001b[0;34m\u001b[0m\u001b[0m\n\u001b[0m\u001b[1;32m     99\u001b[0m \u001b[0;34m\u001b[0m\u001b[0m\n\u001b[1;32m    100\u001b[0m \u001b[0;34m\u001b[0m\u001b[0m\n",
      "\u001b[0;32m~/opt/anaconda3/lib/python3.8/site-packages/pyspark/sql/functions.py\u001b[0m in \u001b[0;36m_invoke_function\u001b[0;34m(name, *args)\u001b[0m\n\u001b[1;32m     56\u001b[0m     \"\"\"\n\u001b[1;32m     57\u001b[0m     \u001b[0mjf\u001b[0m \u001b[0;34m=\u001b[0m \u001b[0m_get_get_jvm_function\u001b[0m\u001b[0;34m(\u001b[0m\u001b[0mname\u001b[0m\u001b[0;34m,\u001b[0m \u001b[0mSparkContext\u001b[0m\u001b[0;34m.\u001b[0m\u001b[0m_active_spark_context\u001b[0m\u001b[0;34m)\u001b[0m\u001b[0;34m\u001b[0m\u001b[0;34m\u001b[0m\u001b[0m\n\u001b[0;32m---> 58\u001b[0;31m     \u001b[0;32mreturn\u001b[0m \u001b[0mColumn\u001b[0m\u001b[0;34m(\u001b[0m\u001b[0mjf\u001b[0m\u001b[0;34m(\u001b[0m\u001b[0;34m*\u001b[0m\u001b[0margs\u001b[0m\u001b[0;34m)\u001b[0m\u001b[0;34m)\u001b[0m\u001b[0;34m\u001b[0m\u001b[0;34m\u001b[0m\u001b[0m\n\u001b[0m\u001b[1;32m     59\u001b[0m \u001b[0;34m\u001b[0m\u001b[0m\n\u001b[1;32m     60\u001b[0m \u001b[0;34m\u001b[0m\u001b[0m\n",
      "\u001b[0;32m~/opt/anaconda3/lib/python3.8/site-packages/py4j/java_gateway.py\u001b[0m in \u001b[0;36m__call__\u001b[0;34m(self, *args)\u001b[0m\n\u001b[1;32m   1294\u001b[0m \u001b[0;34m\u001b[0m\u001b[0m\n\u001b[1;32m   1295\u001b[0m     \u001b[0;32mdef\u001b[0m \u001b[0m__call__\u001b[0m\u001b[0;34m(\u001b[0m\u001b[0mself\u001b[0m\u001b[0;34m,\u001b[0m \u001b[0;34m*\u001b[0m\u001b[0margs\u001b[0m\u001b[0;34m)\u001b[0m\u001b[0;34m:\u001b[0m\u001b[0;34m\u001b[0m\u001b[0;34m\u001b[0m\u001b[0m\n\u001b[0;32m-> 1296\u001b[0;31m         \u001b[0margs_command\u001b[0m\u001b[0;34m,\u001b[0m \u001b[0mtemp_args\u001b[0m \u001b[0;34m=\u001b[0m \u001b[0mself\u001b[0m\u001b[0;34m.\u001b[0m\u001b[0m_build_args\u001b[0m\u001b[0;34m(\u001b[0m\u001b[0;34m*\u001b[0m\u001b[0margs\u001b[0m\u001b[0;34m)\u001b[0m\u001b[0;34m\u001b[0m\u001b[0;34m\u001b[0m\u001b[0m\n\u001b[0m\u001b[1;32m   1297\u001b[0m \u001b[0;34m\u001b[0m\u001b[0m\n\u001b[1;32m   1298\u001b[0m         \u001b[0mcommand\u001b[0m \u001b[0;34m=\u001b[0m \u001b[0mproto\u001b[0m\u001b[0;34m.\u001b[0m\u001b[0mCALL_COMMAND_NAME\u001b[0m \u001b[0;34m+\u001b[0m\u001b[0;31m\\\u001b[0m\u001b[0;34m\u001b[0m\u001b[0;34m\u001b[0m\u001b[0m\n",
      "\u001b[0;32m~/opt/anaconda3/lib/python3.8/site-packages/py4j/java_gateway.py\u001b[0m in \u001b[0;36m_build_args\u001b[0;34m(self, *args)\u001b[0m\n\u001b[1;32m   1264\u001b[0m \u001b[0;34m\u001b[0m\u001b[0m\n\u001b[1;32m   1265\u001b[0m         args_command = \"\".join(\n\u001b[0;32m-> 1266\u001b[0;31m             [get_command_part(arg, self.pool) for arg in new_args])\n\u001b[0m\u001b[1;32m   1267\u001b[0m \u001b[0;34m\u001b[0m\u001b[0m\n\u001b[1;32m   1268\u001b[0m         \u001b[0;32mreturn\u001b[0m \u001b[0margs_command\u001b[0m\u001b[0;34m,\u001b[0m \u001b[0mtemp_args\u001b[0m\u001b[0;34m\u001b[0m\u001b[0;34m\u001b[0m\u001b[0m\n",
      "\u001b[0;32m~/opt/anaconda3/lib/python3.8/site-packages/py4j/java_gateway.py\u001b[0m in \u001b[0;36m<listcomp>\u001b[0;34m(.0)\u001b[0m\n\u001b[1;32m   1264\u001b[0m \u001b[0;34m\u001b[0m\u001b[0m\n\u001b[1;32m   1265\u001b[0m         args_command = \"\".join(\n\u001b[0;32m-> 1266\u001b[0;31m             [get_command_part(arg, self.pool) for arg in new_args])\n\u001b[0m\u001b[1;32m   1267\u001b[0m \u001b[0;34m\u001b[0m\u001b[0m\n\u001b[1;32m   1268\u001b[0m         \u001b[0;32mreturn\u001b[0m \u001b[0margs_command\u001b[0m\u001b[0;34m,\u001b[0m \u001b[0mtemp_args\u001b[0m\u001b[0;34m\u001b[0m\u001b[0;34m\u001b[0m\u001b[0m\n",
      "\u001b[0;32m~/opt/anaconda3/lib/python3.8/site-packages/py4j/protocol.py\u001b[0m in \u001b[0;36mget_command_part\u001b[0;34m(parameter, python_proxy_pool)\u001b[0m\n\u001b[1;32m    296\u001b[0m             \u001b[0mcommand_part\u001b[0m \u001b[0;34m+=\u001b[0m \u001b[0;34m\";\"\u001b[0m \u001b[0;34m+\u001b[0m \u001b[0minterface\u001b[0m\u001b[0;34m\u001b[0m\u001b[0;34m\u001b[0m\u001b[0m\n\u001b[1;32m    297\u001b[0m     \u001b[0;32melse\u001b[0m\u001b[0;34m:\u001b[0m\u001b[0;34m\u001b[0m\u001b[0;34m\u001b[0m\u001b[0m\n\u001b[0;32m--> 298\u001b[0;31m         \u001b[0mcommand_part\u001b[0m \u001b[0;34m=\u001b[0m \u001b[0mREFERENCE_TYPE\u001b[0m \u001b[0;34m+\u001b[0m \u001b[0mparameter\u001b[0m\u001b[0;34m.\u001b[0m\u001b[0m_get_object_id\u001b[0m\u001b[0;34m(\u001b[0m\u001b[0;34m)\u001b[0m\u001b[0;34m\u001b[0m\u001b[0;34m\u001b[0m\u001b[0m\n\u001b[0m\u001b[1;32m    299\u001b[0m \u001b[0;34m\u001b[0m\u001b[0m\n\u001b[1;32m    300\u001b[0m     \u001b[0mcommand_part\u001b[0m \u001b[0;34m+=\u001b[0m \u001b[0;34m\"\\n\"\u001b[0m\u001b[0;34m\u001b[0m\u001b[0;34m\u001b[0m\u001b[0m\n",
      "\u001b[0;32m~/opt/anaconda3/lib/python3.8/site-packages/pyspark/sql/dataframe.py\u001b[0m in \u001b[0;36m__getattr__\u001b[0;34m(self, name)\u001b[0m\n\u001b[1;32m   1641\u001b[0m         \"\"\"\n\u001b[1;32m   1642\u001b[0m         \u001b[0;32mif\u001b[0m \u001b[0mname\u001b[0m \u001b[0;32mnot\u001b[0m \u001b[0;32min\u001b[0m \u001b[0mself\u001b[0m\u001b[0;34m.\u001b[0m\u001b[0mcolumns\u001b[0m\u001b[0;34m:\u001b[0m\u001b[0;34m\u001b[0m\u001b[0;34m\u001b[0m\u001b[0m\n\u001b[0;32m-> 1643\u001b[0;31m             raise AttributeError(\n\u001b[0m\u001b[1;32m   1644\u001b[0m                 \"'%s' object has no attribute '%s'\" % (self.__class__.__name__, name))\n\u001b[1;32m   1645\u001b[0m         \u001b[0mjc\u001b[0m \u001b[0;34m=\u001b[0m \u001b[0mself\u001b[0m\u001b[0;34m.\u001b[0m\u001b[0m_jdf\u001b[0m\u001b[0;34m.\u001b[0m\u001b[0mapply\u001b[0m\u001b[0;34m(\u001b[0m\u001b[0mname\u001b[0m\u001b[0;34m)\u001b[0m\u001b[0;34m\u001b[0m\u001b[0;34m\u001b[0m\u001b[0m\n",
      "\u001b[0;31mAttributeError\u001b[0m: 'DataFrame' object has no attribute '_get_object_id'"
     ]
    }
   ],
   "source": [
    "array(tweets_vectors.select('vectors'))"
   ]
  },
  {
   "cell_type": "code",
   "execution_count": 242,
   "metadata": {},
   "outputs": [
    {
     "name": "stdout",
     "output_type": "stream",
     "text": [
      "+--------------------+\n",
      "|             vectors|\n",
      "+--------------------+\n",
      "|[1390071341894750...|\n",
      "+--------------------+\n",
      "\n"
     ]
    }
   ],
   "source": [
    "tweets_user_filtered.select('vectors').show()"
   ]
  },
  {
   "cell_type": "code",
   "execution_count": 243,
   "metadata": {},
   "outputs": [
    {
     "ename": "PythonException",
     "evalue": "\n  An exception was thrown from the Python worker. Please see the stack trace below.\nTraceback (most recent call last):\n  File \"/Users/christiansullivan/opt/anaconda3/lib/python3.8/site-packages/pyspark/python/lib/pyspark.zip/pyspark/worker.py\", line 604, in main\n    process()\n  File \"/Users/christiansullivan/opt/anaconda3/lib/python3.8/site-packages/pyspark/python/lib/pyspark.zip/pyspark/worker.py\", line 596, in process\n    serializer.dump_stream(out_iter, outfile)\n  File \"/Users/christiansullivan/opt/anaconda3/lib/python3.8/site-packages/pyspark/python/lib/pyspark.zip/pyspark/serializers.py\", line 211, in dump_stream\n    self.serializer.dump_stream(self._batched(iterator), stream)\n  File \"/Users/christiansullivan/opt/anaconda3/lib/python3.8/site-packages/pyspark/python/lib/pyspark.zip/pyspark/serializers.py\", line 132, in dump_stream\n    for obj in iterator:\n  File \"/Users/christiansullivan/opt/anaconda3/lib/python3.8/site-packages/pyspark/python/lib/pyspark.zip/pyspark/serializers.py\", line 200, in _batched\n    for item in iterator:\n  File \"/Users/christiansullivan/opt/anaconda3/lib/python3.8/site-packages/pyspark/python/lib/pyspark.zip/pyspark/worker.py\", line 450, in mapper\n    result = tuple(f(*[a[o] for o in arg_offsets]) for (arg_offsets, f) in udfs)\n  File \"/Users/christiansullivan/opt/anaconda3/lib/python3.8/site-packages/pyspark/python/lib/pyspark.zip/pyspark/worker.py\", line 450, in <genexpr>\n    result = tuple(f(*[a[o] for o in arg_offsets]) for (arg_offsets, f) in udfs)\n  File \"/Users/christiansullivan/opt/anaconda3/lib/python3.8/site-packages/pyspark/python/lib/pyspark.zip/pyspark/worker.py\", line 85, in <lambda>\n    return lambda *a: f(*a)\n  File \"/Users/christiansullivan/opt/anaconda3/lib/python3.8/site-packages/pyspark/python/lib/pyspark.zip/pyspark/util.py\", line 73, in wrapper\n    return f(*args, **kwargs)\n  File \"<ipython-input-239-8f41def54240>\", line 2, in cos_sim\n  File \"<__array_function__ internals>\", line 5, in dot\nValueError: data type must provide an itemsize\n",
     "output_type": "error",
     "traceback": [
      "\u001b[0;31m---------------------------------------------------------------------------\u001b[0m",
      "\u001b[0;31mPythonException\u001b[0m                           Traceback (most recent call last)",
      "\u001b[0;32m<ipython-input-243-97fdb461eca3>\u001b[0m in \u001b[0;36m<module>\u001b[0;34m\u001b[0m\n\u001b[0;32m----> 1\u001b[0;31m \u001b[0mtweets_vectors\u001b[0m\u001b[0;34m.\u001b[0m\u001b[0mshow\u001b[0m\u001b[0;34m(\u001b[0m\u001b[0;34m)\u001b[0m\u001b[0;34m\u001b[0m\u001b[0;34m\u001b[0m\u001b[0m\n\u001b[0m",
      "\u001b[0;32m~/opt/anaconda3/lib/python3.8/site-packages/pyspark/sql/dataframe.py\u001b[0m in \u001b[0;36mshow\u001b[0;34m(self, n, truncate, vertical)\u001b[0m\n\u001b[1;32m    482\u001b[0m         \"\"\"\n\u001b[1;32m    483\u001b[0m         \u001b[0;32mif\u001b[0m \u001b[0misinstance\u001b[0m\u001b[0;34m(\u001b[0m\u001b[0mtruncate\u001b[0m\u001b[0;34m,\u001b[0m \u001b[0mbool\u001b[0m\u001b[0;34m)\u001b[0m \u001b[0;32mand\u001b[0m \u001b[0mtruncate\u001b[0m\u001b[0;34m:\u001b[0m\u001b[0;34m\u001b[0m\u001b[0;34m\u001b[0m\u001b[0m\n\u001b[0;32m--> 484\u001b[0;31m             \u001b[0mprint\u001b[0m\u001b[0;34m(\u001b[0m\u001b[0mself\u001b[0m\u001b[0;34m.\u001b[0m\u001b[0m_jdf\u001b[0m\u001b[0;34m.\u001b[0m\u001b[0mshowString\u001b[0m\u001b[0;34m(\u001b[0m\u001b[0mn\u001b[0m\u001b[0;34m,\u001b[0m \u001b[0;36m20\u001b[0m\u001b[0;34m,\u001b[0m \u001b[0mvertical\u001b[0m\u001b[0;34m)\u001b[0m\u001b[0;34m)\u001b[0m\u001b[0;34m\u001b[0m\u001b[0;34m\u001b[0m\u001b[0m\n\u001b[0m\u001b[1;32m    485\u001b[0m         \u001b[0;32melse\u001b[0m\u001b[0;34m:\u001b[0m\u001b[0;34m\u001b[0m\u001b[0;34m\u001b[0m\u001b[0m\n\u001b[1;32m    486\u001b[0m             \u001b[0mprint\u001b[0m\u001b[0;34m(\u001b[0m\u001b[0mself\u001b[0m\u001b[0;34m.\u001b[0m\u001b[0m_jdf\u001b[0m\u001b[0;34m.\u001b[0m\u001b[0mshowString\u001b[0m\u001b[0;34m(\u001b[0m\u001b[0mn\u001b[0m\u001b[0;34m,\u001b[0m \u001b[0mint\u001b[0m\u001b[0;34m(\u001b[0m\u001b[0mtruncate\u001b[0m\u001b[0;34m)\u001b[0m\u001b[0;34m,\u001b[0m \u001b[0mvertical\u001b[0m\u001b[0;34m)\u001b[0m\u001b[0;34m)\u001b[0m\u001b[0;34m\u001b[0m\u001b[0;34m\u001b[0m\u001b[0m\n",
      "\u001b[0;32m~/opt/anaconda3/lib/python3.8/site-packages/py4j/java_gateway.py\u001b[0m in \u001b[0;36m__call__\u001b[0;34m(self, *args)\u001b[0m\n\u001b[1;32m   1302\u001b[0m \u001b[0;34m\u001b[0m\u001b[0m\n\u001b[1;32m   1303\u001b[0m         \u001b[0manswer\u001b[0m \u001b[0;34m=\u001b[0m \u001b[0mself\u001b[0m\u001b[0;34m.\u001b[0m\u001b[0mgateway_client\u001b[0m\u001b[0;34m.\u001b[0m\u001b[0msend_command\u001b[0m\u001b[0;34m(\u001b[0m\u001b[0mcommand\u001b[0m\u001b[0;34m)\u001b[0m\u001b[0;34m\u001b[0m\u001b[0;34m\u001b[0m\u001b[0m\n\u001b[0;32m-> 1304\u001b[0;31m         return_value = get_return_value(\n\u001b[0m\u001b[1;32m   1305\u001b[0m             answer, self.gateway_client, self.target_id, self.name)\n\u001b[1;32m   1306\u001b[0m \u001b[0;34m\u001b[0m\u001b[0m\n",
      "\u001b[0;32m~/opt/anaconda3/lib/python3.8/site-packages/pyspark/sql/utils.py\u001b[0m in \u001b[0;36mdeco\u001b[0;34m(*a, **kw)\u001b[0m\n\u001b[1;32m    115\u001b[0m                 \u001b[0;31m# Hide where the exception came from that shows a non-Pythonic\u001b[0m\u001b[0;34m\u001b[0m\u001b[0;34m\u001b[0m\u001b[0;34m\u001b[0m\u001b[0m\n\u001b[1;32m    116\u001b[0m                 \u001b[0;31m# JVM exception message.\u001b[0m\u001b[0;34m\u001b[0m\u001b[0;34m\u001b[0m\u001b[0;34m\u001b[0m\u001b[0m\n\u001b[0;32m--> 117\u001b[0;31m                 \u001b[0;32mraise\u001b[0m \u001b[0mconverted\u001b[0m \u001b[0;32mfrom\u001b[0m \u001b[0;32mNone\u001b[0m\u001b[0;34m\u001b[0m\u001b[0;34m\u001b[0m\u001b[0m\n\u001b[0m\u001b[1;32m    118\u001b[0m             \u001b[0;32melse\u001b[0m\u001b[0;34m:\u001b[0m\u001b[0;34m\u001b[0m\u001b[0;34m\u001b[0m\u001b[0m\n\u001b[1;32m    119\u001b[0m                 \u001b[0;32mraise\u001b[0m\u001b[0;34m\u001b[0m\u001b[0;34m\u001b[0m\u001b[0m\n",
      "\u001b[0;31mPythonException\u001b[0m: \n  An exception was thrown from the Python worker. Please see the stack trace below.\nTraceback (most recent call last):\n  File \"/Users/christiansullivan/opt/anaconda3/lib/python3.8/site-packages/pyspark/python/lib/pyspark.zip/pyspark/worker.py\", line 604, in main\n    process()\n  File \"/Users/christiansullivan/opt/anaconda3/lib/python3.8/site-packages/pyspark/python/lib/pyspark.zip/pyspark/worker.py\", line 596, in process\n    serializer.dump_stream(out_iter, outfile)\n  File \"/Users/christiansullivan/opt/anaconda3/lib/python3.8/site-packages/pyspark/python/lib/pyspark.zip/pyspark/serializers.py\", line 211, in dump_stream\n    self.serializer.dump_stream(self._batched(iterator), stream)\n  File \"/Users/christiansullivan/opt/anaconda3/lib/python3.8/site-packages/pyspark/python/lib/pyspark.zip/pyspark/serializers.py\", line 132, in dump_stream\n    for obj in iterator:\n  File \"/Users/christiansullivan/opt/anaconda3/lib/python3.8/site-packages/pyspark/python/lib/pyspark.zip/pyspark/serializers.py\", line 200, in _batched\n    for item in iterator:\n  File \"/Users/christiansullivan/opt/anaconda3/lib/python3.8/site-packages/pyspark/python/lib/pyspark.zip/pyspark/worker.py\", line 450, in mapper\n    result = tuple(f(*[a[o] for o in arg_offsets]) for (arg_offsets, f) in udfs)\n  File \"/Users/christiansullivan/opt/anaconda3/lib/python3.8/site-packages/pyspark/python/lib/pyspark.zip/pyspark/worker.py\", line 450, in <genexpr>\n    result = tuple(f(*[a[o] for o in arg_offsets]) for (arg_offsets, f) in udfs)\n  File \"/Users/christiansullivan/opt/anaconda3/lib/python3.8/site-packages/pyspark/python/lib/pyspark.zip/pyspark/worker.py\", line 85, in <lambda>\n    return lambda *a: f(*a)\n  File \"/Users/christiansullivan/opt/anaconda3/lib/python3.8/site-packages/pyspark/python/lib/pyspark.zip/pyspark/util.py\", line 73, in wrapper\n    return f(*args, **kwargs)\n  File \"<ipython-input-239-8f41def54240>\", line 2, in cos_sim\n  File \"<__array_function__ internals>\", line 5, in dot\nValueError: data type must provide an itemsize\n"
     ]
    }
   ],
   "source": [
    "tweets_vectors.show()"
   ]
  },
  {
   "cell_type": "code",
   "execution_count": null,
   "metadata": {},
   "outputs": [],
   "source": []
  },
  {
   "cell_type": "code",
   "execution_count": null,
   "metadata": {},
   "outputs": [],
   "source": [
    "202170318"
   ]
  },
  {
   "cell_type": "code",
   "execution_count": 231,
   "metadata": {},
   "outputs": [
    {
     "name": "stdout",
     "output_type": "stream",
     "text": [
      "+---------+--------------------+--------------------+--------------------+---------------+-------------------+--------------------+--------------------+\n",
      "|  user_id|          agg_tweets|   agg_retweet_users|        agg_retweets|agg_reply_users|        agg_replies|   agg_tweet_respond|             vectors|\n",
      "+---------+--------------------+--------------------+--------------------+---------------+-------------------+--------------------+--------------------+\n",
      "| 15466159| 1390054010502225922|              807095| 1390027514332991489|           null|               null| 1390027514332991489|[1390027514332991...|\n",
      "| 19652471| 1390061372604514304|            26574283| 1390023742194061312|           null|               null| 1390023742194061312|[1390023742194061...|\n",
      "| 30616018| 1390052446920220675|           931571402| 1390026843068239874|           null|               null| 1390026843068239874|[1390026843068239...|\n",
      "| 32947971| 1390058861415997442|              807095| 1390027514332991489|           null|               null| 1390027514332991489|[1390027514332991...|\n",
      "| 33868781| 1390071486094905344|                null|                null|           null|               null|                    |                  []|\n",
      "| 43301934| 1390039244257865728|           380648579| 1390022155350446082|           null|               null| 1390022155350446082|[1390022155350446...|\n",
      "| 51797430| 1390041312494301195|            26574283| 1390023742194061312|           null|               null| 1390023742194061312|[1390023742194061...|\n",
      "| 54579715| 1390040623466622979|              807095| 1390027514332991489|           null|               null| 1390027514332991489|[1390027514332991...|\n",
      "|106456868| 1390062023782903813|            22429979| 1390060755995799552|           null|               null| 1390060755995799552|[1390060755995799...|\n",
      "|109826391| 1390065027881705479|              807095| 1390027514332991489|           null|               null| 1390027514332991489|[1390027514332991...|\n",
      "|111249239| 1390049219579363328|            26574283| 1390023742194061312|           null|               null| 1390023742194061312|[1390023742194061...|\n",
      "|147126487| 1390049997790408707|                null|                null|       32345449|1390043577703563265| 1390043577703563265|[1390043577703563...|\n",
      "|157101980| 1390056983626190848|           237341484| 1390056156756914182|           null|               null| 1390056156756914182|[1390056156756914...|\n",
      "|202170318|13900758895059968...|4970411,380648579...|13900713418947502...|           null|               null|13900713418947502...|[1390071341894750...|\n",
      "|228531805| 1390048955673677824|              807095| 1390027514332991489|           null|               null| 1390027514332991489|[1390027514332991...|\n",
      "|235000057| 1390057192045248512|                null|                null|           null|               null|                    |                  []|\n",
      "|257121078| 1390054261128634375|            26574283| 1390023742194061312|           null|               null| 1390023742194061312|[1390023742194061...|\n",
      "|302864870| 1390068821394960384|           191807697| 1390050885229817856|           null|               null| 1390050885229817856|[1390050885229817...|\n",
      "|404262940| 1390071754995949577|                null|                null|           null|               null|                    |                  []|\n",
      "|417365324|13900639212104744...| 237341484,191807697|13900561567569141...|           null|               null|13900561567569141...|[1390056156756914...|\n",
      "+---------+--------------------+--------------------+--------------------+---------------+-------------------+--------------------+--------------------+\n",
      "only showing top 20 rows\n",
      "\n"
     ]
    }
   ],
   "source": [
    "tweets_vectors.show()"
   ]
  },
  {
   "cell_type": "code",
   "execution_count": 198,
   "metadata": {},
   "outputs": [
    {
     "name": "stdout",
     "output_type": "stream",
     "text": [
      "+-------------------+-------------------------------------------------------------------------------+------------------+---------------------------------------+-------------------+---------------------------------------+----------------------------------+\n",
      "|user_id            |agg_tweets                                                                     |agg_retweet_users |agg_retweets                           |agg_reply_users    |agg_replies                            |agg_tweet_respond_users           |\n",
      "+-------------------+-------------------------------------------------------------------------------+------------------+---------------------------------------+-------------------+---------------------------------------+----------------------------------+\n",
      "|16797082           |1390047886830968841,1390037747751137282                                        |947605221416538112|1390046356732104709                    |362105466          |1390037208447471620                    |947605221416538112,362105466      |\n",
      "|17464397           |1390085748167110657,1390038831362191365                                        |17464397          |1390033532995751939                    |807095             |1390027514332991489                    |17464397,807095                   |\n",
      "|51002583           |1390082521015091204,1390082228923764740,1390080513914769408,1390080176319385602|153944899,807095  |1390033433502617600,1390036084340445185|51002583,51002583  |1390080513914769408,1390079716158099457|153944899,807095,51002583,51002583|\n",
      "|706301516878094340 |1390067638999601153,1390062748768276480                                        |571224644         |1390067556636151815                    |13218102           |1390062168712912900                    |571224644,13218102                |\n",
      "|364337959          |1390061614251061255,1390061600099405826                                        |364337959         |1390061600099405826                    |3240396234         |1390060044637466625                    |364337959,3240396234              |\n",
      "|121181001          |1390068963279785991,1390067827852333056,1390042779116523523                    |221580114         |1389987625230995457                    |121181001,121181001|1390064641087262724,1390037680206098437|221580114,121181001,121181001     |\n",
      "|1133390829190561793|1390071544211283972,1390058555819053061                                        |20402945          |1390025466539614212                    |22502626           |1390038167127007232                    |20402945,22502626                 |\n",
      "|877299503728132096 |1390053050702782473,1390039909390561280                                        |13393052          |1390044919599927297                    |138203134          |1390037473472942081                    |13393052,138203134                |\n",
      "|35712385           |1390058963891376129,1390043149934940161                                        |26574283          |1390023742194061312                    |35712385           |1390058506498228236                    |26574283,35712385                 |\n",
      "|158630234          |1390062040983642113,1390044926772015106                                        |158630234         |1390044926772015106                    |346102488          |1390040931257122818                    |158630234,346102488               |\n",
      "|1080736670         |1390043460657422343,1390042440434864134                                        |807095            |1390027514332991489                    |807095             |1390027514332991489                    |807095,807095                     |\n",
      "|7788062            |1390071789208936452,1390069058096091137                                        |26574283          |1390023742194061312                    |7788062            |1390071348249055232                    |26574283,7788062                  |\n",
      "|1259969384665296896|1390064403463217165,1390062508086546433,1390057418550284291                    |133081348         |1387539702790639617                    |408793153          |1390049065438748672                    |133081348,408793153               |\n",
      "+-------------------+-------------------------------------------------------------------------------+------------------+---------------------------------------+-------------------+---------------------------------------+----------------------------------+\n",
      "\n"
     ]
    }
   ],
   "source": [
    "tweets_processed.where('agg_reply_users is not null and agg_retweet_users is not null').show(truncate=False)"
   ]
  },
  {
   "cell_type": "code",
   "execution_count": null,
   "metadata": {},
   "outputs": [],
   "source": [
    "tweets_processed"
   ]
  },
  {
   "cell_type": "code",
   "execution_count": 127,
   "metadata": {},
   "outputs": [],
   "source": [
    "tokenizer = Tokenizer(inputCol='agg_retweet_users',\n",
    "    outputCol=\"words\")\n",
    "tweets_vectors = tokenizer.transform(tweets_agg)"
   ]
  },
  {
   "cell_type": "code",
   "execution_count": 128,
   "metadata": {},
   "outputs": [
    {
     "name": "stdout",
     "output_type": "stream",
     "text": [
      "+---------+--------------------+--------------------+--------------------+---------------+-------------------+--------------------+\n",
      "|  user_id|          agg_tweets|   agg_retweet_users|        agg_retweets|agg_reply_users|        agg_replies|               words|\n",
      "+---------+--------------------+--------------------+--------------------+---------------+-------------------+--------------------+\n",
      "| 15466159| 1390054010502225922|              807095| 1390027514332991489|               |                   |            [807095]|\n",
      "| 19652471| 1390061372604514304|            26574283| 1390023742194061312|               |                   |          [26574283]|\n",
      "| 30616018| 1390052446920220675|           931571402| 1390026843068239874|               |                   |         [931571402]|\n",
      "| 32947971| 1390058861415997442|              807095| 1390027514332991489|               |                   |            [807095]|\n",
      "| 33868781| 1390071486094905344|                    |                    |               |                   |                  []|\n",
      "| 43301934| 1390039244257865728|           380648579| 1390022155350446082|               |                   |         [380648579]|\n",
      "| 51797430| 1390041312494301195|            26574283| 1390023742194061312|               |                   |          [26574283]|\n",
      "| 54579715| 1390040623466622979|              807095| 1390027514332991489|               |                   |            [807095]|\n",
      "|106456868| 1390062023782903813|            22429979| 1390060755995799552|               |                   |          [22429979]|\n",
      "|109826391| 1390065027881705479|              807095| 1390027514332991489|               |                   |            [807095]|\n",
      "|111249239| 1390049219579363328|            26574283| 1390023742194061312|               |                   |          [26574283]|\n",
      "|147126487| 1390049997790408707|                    |                    |       32345449|1390043577703563265|                  []|\n",
      "|157101980| 1390056983626190848|           237341484| 1390056156756914182|               |                   |         [237341484]|\n",
      "|202170318|13900758895059968...|4970411,380648579...|13900713418947502...|               |                   |[4970411,38064857...|\n",
      "|228531805| 1390048955673677824|              807095| 1390027514332991489|               |                   |            [807095]|\n",
      "|235000057| 1390057192045248512|                    |                    |               |                   |                  []|\n",
      "|257121078| 1390054261128634375|            26574283| 1390023742194061312|               |                   |          [26574283]|\n",
      "|302864870| 1390068821394960384|           191807697| 1390050885229817856|               |                   |         [191807697]|\n",
      "|404262940| 1390071754995949577|                    |                    |               |                   |                  []|\n",
      "|417365324|13900639212104744...| 237341484,191807697|13900561567569141...|               |                   |[237341484,191807...|\n",
      "+---------+--------------------+--------------------+--------------------+---------------+-------------------+--------------------+\n",
      "only showing top 20 rows\n",
      "\n"
     ]
    }
   ],
   "source": [
    "tweets_vectors.show()"
   ]
  },
  {
   "cell_type": "code",
   "execution_count": 100,
   "metadata": {},
   "outputs": [],
   "source": [
    "from pyspark.ml.feature import HashingTF, IDF\n",
    "hashingTF = HashingTF(inputCol=\"words\", outputCol=\"tf\")\n",
    "tf = hashingTF.transform(tweets_vectors)\n",
    "\n",
    "idf = IDF(inputCol=\"tf\", outputCol=\"feature\").fit(tf)\n",
    "tfidf = idf.transform(tf)"
   ]
  },
  {
   "cell_type": "code",
   "execution_count": 103,
   "metadata": {},
   "outputs": [],
   "source": [
    "from pyspark.ml.feature import Normalizer\n",
    "normalizer = Normalizer(inputCol=\"feature\", outputCol=\"norm\")\n",
    "data = normalizer.transform(tfidf)"
   ]
  },
  {
   "cell_type": "code",
   "execution_count": 105,
   "metadata": {
    "collapsed": true,
    "jupyter": {
     "outputs_hidden": true
    }
   },
   "outputs": [
    {
     "ename": "KeyboardInterrupt",
     "evalue": "",
     "output_type": "error",
     "traceback": [
      "\u001b[0;31m---------------------------------------------------------------------------\u001b[0m",
      "\u001b[0;31mKeyboardInterrupt\u001b[0m                         Traceback (most recent call last)",
      "\u001b[0;32m<ipython-input-105-3fe17ec8b4d9>\u001b[0m in \u001b[0;36m<module>\u001b[0;34m\u001b[0m\n\u001b[1;32m      1\u001b[0m \u001b[0;32mfrom\u001b[0m \u001b[0mpyspark\u001b[0m\u001b[0;34m.\u001b[0m\u001b[0mmllib\u001b[0m\u001b[0;34m.\u001b[0m\u001b[0mlinalg\u001b[0m\u001b[0;34m.\u001b[0m\u001b[0mdistributed\u001b[0m \u001b[0;32mimport\u001b[0m \u001b[0mIndexedRow\u001b[0m\u001b[0;34m,\u001b[0m \u001b[0mIndexedRowMatrix\u001b[0m\u001b[0;34m\u001b[0m\u001b[0;34m\u001b[0m\u001b[0m\n\u001b[0;32m----> 2\u001b[0;31m mat = IndexedRowMatrix(\n\u001b[0m\u001b[1;32m      3\u001b[0m     \u001b[0mdata\u001b[0m\u001b[0;34m.\u001b[0m\u001b[0mselect\u001b[0m\u001b[0;34m(\u001b[0m\u001b[0;34m\"user_id\"\u001b[0m\u001b[0;34m,\u001b[0m \u001b[0;34m\"norm\"\u001b[0m\u001b[0;34m)\u001b[0m\u001b[0;31m\\\u001b[0m\u001b[0;34m\u001b[0m\u001b[0;34m\u001b[0m\u001b[0m\n\u001b[1;32m      4\u001b[0m         .rdd.map(lambda row: IndexedRow(row.user_id, row.norm.toArray()))).toBlockMatrix()\n\u001b[1;32m      5\u001b[0m \u001b[0mdot\u001b[0m \u001b[0;34m=\u001b[0m \u001b[0mmat\u001b[0m\u001b[0;34m.\u001b[0m\u001b[0mmultiply\u001b[0m\u001b[0;34m(\u001b[0m\u001b[0mmat\u001b[0m\u001b[0;34m.\u001b[0m\u001b[0mtranspose\u001b[0m\u001b[0;34m(\u001b[0m\u001b[0;34m)\u001b[0m\u001b[0;34m)\u001b[0m\u001b[0;34m\u001b[0m\u001b[0;34m\u001b[0m\u001b[0m\n",
      "\u001b[0;32m~/opt/anaconda3/lib/python3.8/site-packages/pyspark/mllib/linalg/distributed.py\u001b[0m in \u001b[0;36mtoBlockMatrix\u001b[0;34m(self, rowsPerBlock, colsPerBlock)\u001b[0m\n\u001b[1;32m    772\u001b[0m         \u001b[0;36m3\u001b[0m\u001b[0;34m\u001b[0m\u001b[0;34m\u001b[0m\u001b[0m\n\u001b[1;32m    773\u001b[0m         \"\"\"\n\u001b[0;32m--> 774\u001b[0;31m         java_block_matrix = self._java_matrix_wrapper.call(\"toBlockMatrix\",\n\u001b[0m\u001b[1;32m    775\u001b[0m                                                            \u001b[0mrowsPerBlock\u001b[0m\u001b[0;34m,\u001b[0m\u001b[0;34m\u001b[0m\u001b[0;34m\u001b[0m\u001b[0m\n\u001b[1;32m    776\u001b[0m                                                            colsPerBlock)\n",
      "\u001b[0;32m~/opt/anaconda3/lib/python3.8/site-packages/pyspark/mllib/common.py\u001b[0m in \u001b[0;36mcall\u001b[0;34m(self, name, *a)\u001b[0m\n\u001b[1;32m    139\u001b[0m     \u001b[0;32mdef\u001b[0m \u001b[0mcall\u001b[0m\u001b[0;34m(\u001b[0m\u001b[0mself\u001b[0m\u001b[0;34m,\u001b[0m \u001b[0mname\u001b[0m\u001b[0;34m,\u001b[0m \u001b[0;34m*\u001b[0m\u001b[0ma\u001b[0m\u001b[0;34m)\u001b[0m\u001b[0;34m:\u001b[0m\u001b[0;34m\u001b[0m\u001b[0;34m\u001b[0m\u001b[0m\n\u001b[1;32m    140\u001b[0m         \u001b[0;34m\"\"\"Call method of java_model\"\"\"\u001b[0m\u001b[0;34m\u001b[0m\u001b[0;34m\u001b[0m\u001b[0m\n\u001b[0;32m--> 141\u001b[0;31m         \u001b[0;32mreturn\u001b[0m \u001b[0mcallJavaFunc\u001b[0m\u001b[0;34m(\u001b[0m\u001b[0mself\u001b[0m\u001b[0;34m.\u001b[0m\u001b[0m_sc\u001b[0m\u001b[0;34m,\u001b[0m \u001b[0mgetattr\u001b[0m\u001b[0;34m(\u001b[0m\u001b[0mself\u001b[0m\u001b[0;34m.\u001b[0m\u001b[0m_java_model\u001b[0m\u001b[0;34m,\u001b[0m \u001b[0mname\u001b[0m\u001b[0;34m)\u001b[0m\u001b[0;34m,\u001b[0m \u001b[0;34m*\u001b[0m\u001b[0ma\u001b[0m\u001b[0;34m)\u001b[0m\u001b[0;34m\u001b[0m\u001b[0;34m\u001b[0m\u001b[0m\n\u001b[0m\u001b[1;32m    142\u001b[0m \u001b[0;34m\u001b[0m\u001b[0m\n\u001b[1;32m    143\u001b[0m \u001b[0;34m\u001b[0m\u001b[0m\n",
      "\u001b[0;32m~/opt/anaconda3/lib/python3.8/site-packages/pyspark/mllib/common.py\u001b[0m in \u001b[0;36mcallJavaFunc\u001b[0;34m(sc, func, *args)\u001b[0m\n\u001b[1;32m    116\u001b[0m     \u001b[0;34m\"\"\" Call Java Function \"\"\"\u001b[0m\u001b[0;34m\u001b[0m\u001b[0;34m\u001b[0m\u001b[0m\n\u001b[1;32m    117\u001b[0m     \u001b[0margs\u001b[0m \u001b[0;34m=\u001b[0m \u001b[0;34m[\u001b[0m\u001b[0m_py2java\u001b[0m\u001b[0;34m(\u001b[0m\u001b[0msc\u001b[0m\u001b[0;34m,\u001b[0m \u001b[0ma\u001b[0m\u001b[0;34m)\u001b[0m \u001b[0;32mfor\u001b[0m \u001b[0ma\u001b[0m \u001b[0;32min\u001b[0m \u001b[0margs\u001b[0m\u001b[0;34m]\u001b[0m\u001b[0;34m\u001b[0m\u001b[0;34m\u001b[0m\u001b[0m\n\u001b[0;32m--> 118\u001b[0;31m     \u001b[0;32mreturn\u001b[0m \u001b[0m_java2py\u001b[0m\u001b[0;34m(\u001b[0m\u001b[0msc\u001b[0m\u001b[0;34m,\u001b[0m \u001b[0mfunc\u001b[0m\u001b[0;34m(\u001b[0m\u001b[0;34m*\u001b[0m\u001b[0margs\u001b[0m\u001b[0;34m)\u001b[0m\u001b[0;34m)\u001b[0m\u001b[0;34m\u001b[0m\u001b[0;34m\u001b[0m\u001b[0m\n\u001b[0m\u001b[1;32m    119\u001b[0m \u001b[0;34m\u001b[0m\u001b[0m\n\u001b[1;32m    120\u001b[0m \u001b[0;34m\u001b[0m\u001b[0m\n",
      "\u001b[0;32m~/opt/anaconda3/lib/python3.8/site-packages/py4j/java_gateway.py\u001b[0m in \u001b[0;36m__call__\u001b[0;34m(self, *args)\u001b[0m\n\u001b[1;32m   1301\u001b[0m             \u001b[0mproto\u001b[0m\u001b[0;34m.\u001b[0m\u001b[0mEND_COMMAND_PART\u001b[0m\u001b[0;34m\u001b[0m\u001b[0;34m\u001b[0m\u001b[0m\n\u001b[1;32m   1302\u001b[0m \u001b[0;34m\u001b[0m\u001b[0m\n\u001b[0;32m-> 1303\u001b[0;31m         \u001b[0manswer\u001b[0m \u001b[0;34m=\u001b[0m \u001b[0mself\u001b[0m\u001b[0;34m.\u001b[0m\u001b[0mgateway_client\u001b[0m\u001b[0;34m.\u001b[0m\u001b[0msend_command\u001b[0m\u001b[0;34m(\u001b[0m\u001b[0mcommand\u001b[0m\u001b[0;34m)\u001b[0m\u001b[0;34m\u001b[0m\u001b[0;34m\u001b[0m\u001b[0m\n\u001b[0m\u001b[1;32m   1304\u001b[0m         return_value = get_return_value(\n\u001b[1;32m   1305\u001b[0m             answer, self.gateway_client, self.target_id, self.name)\n",
      "\u001b[0;32m~/opt/anaconda3/lib/python3.8/site-packages/py4j/java_gateway.py\u001b[0m in \u001b[0;36msend_command\u001b[0;34m(self, command, retry, binary)\u001b[0m\n\u001b[1;32m   1031\u001b[0m         \u001b[0mconnection\u001b[0m \u001b[0;34m=\u001b[0m \u001b[0mself\u001b[0m\u001b[0;34m.\u001b[0m\u001b[0m_get_connection\u001b[0m\u001b[0;34m(\u001b[0m\u001b[0;34m)\u001b[0m\u001b[0;34m\u001b[0m\u001b[0;34m\u001b[0m\u001b[0m\n\u001b[1;32m   1032\u001b[0m         \u001b[0;32mtry\u001b[0m\u001b[0;34m:\u001b[0m\u001b[0;34m\u001b[0m\u001b[0;34m\u001b[0m\u001b[0m\n\u001b[0;32m-> 1033\u001b[0;31m             \u001b[0mresponse\u001b[0m \u001b[0;34m=\u001b[0m \u001b[0mconnection\u001b[0m\u001b[0;34m.\u001b[0m\u001b[0msend_command\u001b[0m\u001b[0;34m(\u001b[0m\u001b[0mcommand\u001b[0m\u001b[0;34m)\u001b[0m\u001b[0;34m\u001b[0m\u001b[0;34m\u001b[0m\u001b[0m\n\u001b[0m\u001b[1;32m   1034\u001b[0m             \u001b[0;32mif\u001b[0m \u001b[0mbinary\u001b[0m\u001b[0;34m:\u001b[0m\u001b[0;34m\u001b[0m\u001b[0;34m\u001b[0m\u001b[0m\n\u001b[1;32m   1035\u001b[0m                 \u001b[0;32mreturn\u001b[0m \u001b[0mresponse\u001b[0m\u001b[0;34m,\u001b[0m \u001b[0mself\u001b[0m\u001b[0;34m.\u001b[0m\u001b[0m_create_connection_guard\u001b[0m\u001b[0;34m(\u001b[0m\u001b[0mconnection\u001b[0m\u001b[0;34m)\u001b[0m\u001b[0;34m\u001b[0m\u001b[0;34m\u001b[0m\u001b[0m\n",
      "\u001b[0;32m~/opt/anaconda3/lib/python3.8/site-packages/py4j/java_gateway.py\u001b[0m in \u001b[0;36msend_command\u001b[0;34m(self, command)\u001b[0m\n\u001b[1;32m   1198\u001b[0m \u001b[0;34m\u001b[0m\u001b[0m\n\u001b[1;32m   1199\u001b[0m         \u001b[0;32mtry\u001b[0m\u001b[0;34m:\u001b[0m\u001b[0;34m\u001b[0m\u001b[0;34m\u001b[0m\u001b[0m\n\u001b[0;32m-> 1200\u001b[0;31m             \u001b[0manswer\u001b[0m \u001b[0;34m=\u001b[0m \u001b[0msmart_decode\u001b[0m\u001b[0;34m(\u001b[0m\u001b[0mself\u001b[0m\u001b[0;34m.\u001b[0m\u001b[0mstream\u001b[0m\u001b[0;34m.\u001b[0m\u001b[0mreadline\u001b[0m\u001b[0;34m(\u001b[0m\u001b[0;34m)\u001b[0m\u001b[0;34m[\u001b[0m\u001b[0;34m:\u001b[0m\u001b[0;34m-\u001b[0m\u001b[0;36m1\u001b[0m\u001b[0;34m]\u001b[0m\u001b[0;34m)\u001b[0m\u001b[0;34m\u001b[0m\u001b[0;34m\u001b[0m\u001b[0m\n\u001b[0m\u001b[1;32m   1201\u001b[0m             \u001b[0mlogger\u001b[0m\u001b[0;34m.\u001b[0m\u001b[0mdebug\u001b[0m\u001b[0;34m(\u001b[0m\u001b[0;34m\"Answer received: {0}\"\u001b[0m\u001b[0;34m.\u001b[0m\u001b[0mformat\u001b[0m\u001b[0;34m(\u001b[0m\u001b[0manswer\u001b[0m\u001b[0;34m)\u001b[0m\u001b[0;34m)\u001b[0m\u001b[0;34m\u001b[0m\u001b[0;34m\u001b[0m\u001b[0m\n\u001b[1;32m   1202\u001b[0m             \u001b[0;32mif\u001b[0m \u001b[0manswer\u001b[0m\u001b[0;34m.\u001b[0m\u001b[0mstartswith\u001b[0m\u001b[0;34m(\u001b[0m\u001b[0mproto\u001b[0m\u001b[0;34m.\u001b[0m\u001b[0mRETURN_MESSAGE\u001b[0m\u001b[0;34m)\u001b[0m\u001b[0;34m:\u001b[0m\u001b[0;34m\u001b[0m\u001b[0;34m\u001b[0m\u001b[0m\n",
      "\u001b[0;32m~/opt/anaconda3/lib/python3.8/socket.py\u001b[0m in \u001b[0;36mreadinto\u001b[0;34m(self, b)\u001b[0m\n\u001b[1;32m    667\u001b[0m         \u001b[0;32mwhile\u001b[0m \u001b[0;32mTrue\u001b[0m\u001b[0;34m:\u001b[0m\u001b[0;34m\u001b[0m\u001b[0;34m\u001b[0m\u001b[0m\n\u001b[1;32m    668\u001b[0m             \u001b[0;32mtry\u001b[0m\u001b[0;34m:\u001b[0m\u001b[0;34m\u001b[0m\u001b[0;34m\u001b[0m\u001b[0m\n\u001b[0;32m--> 669\u001b[0;31m                 \u001b[0;32mreturn\u001b[0m \u001b[0mself\u001b[0m\u001b[0;34m.\u001b[0m\u001b[0m_sock\u001b[0m\u001b[0;34m.\u001b[0m\u001b[0mrecv_into\u001b[0m\u001b[0;34m(\u001b[0m\u001b[0mb\u001b[0m\u001b[0;34m)\u001b[0m\u001b[0;34m\u001b[0m\u001b[0;34m\u001b[0m\u001b[0m\n\u001b[0m\u001b[1;32m    670\u001b[0m             \u001b[0;32mexcept\u001b[0m \u001b[0mtimeout\u001b[0m\u001b[0;34m:\u001b[0m\u001b[0;34m\u001b[0m\u001b[0;34m\u001b[0m\u001b[0m\n\u001b[1;32m    671\u001b[0m                 \u001b[0mself\u001b[0m\u001b[0;34m.\u001b[0m\u001b[0m_timeout_occurred\u001b[0m \u001b[0;34m=\u001b[0m \u001b[0;32mTrue\u001b[0m\u001b[0;34m\u001b[0m\u001b[0;34m\u001b[0m\u001b[0m\n",
      "\u001b[0;31mKeyboardInterrupt\u001b[0m: "
     ]
    }
   ],
   "source": [
    "from pyspark.mllib.linalg.distributed import IndexedRow, IndexedRowMatrix\n",
    "mat = IndexedRowMatrix(\n",
    "    data.select(\"user_id\", \"norm\")\\\n",
    "        .rdd.map(lambda row: IndexedRow(row.user_id, row.norm.toArray()))).toBlockMatrix()\n",
    "dot = mat.multiply(mat.transpose())\n",
    "dot.toLocalMatrix().toArray()"
   ]
  },
  {
   "cell_type": "code",
   "execution_count": null,
   "metadata": {},
   "outputs": [],
   "source": []
  },
  {
   "cell_type": "code",
   "execution_count": 102,
   "metadata": {},
   "outputs": [
    {
     "name": "stdout",
     "output_type": "stream",
     "text": [
      "+---------+---------------------------------------------------------------------------------------------------+----------------------------------------------+---------------------------------------------------------------------------------------------------+---------------+-------------------+------------------------------------------------+-----------------------+--------------------------------------+\n",
      "|user_id  |agg_tweets                                                                                         |agg_retweet_users                             |agg_retweets                                                                                       |agg_reply_users|agg_replies        |words                                           |tf                     |feature                               |\n",
      "+---------+---------------------------------------------------------------------------------------------------+----------------------------------------------+---------------------------------------------------------------------------------------------------+---------------+-------------------+------------------------------------------------+-----------------------+--------------------------------------+\n",
      "|15466159 |1390054010502225922                                                                                |807095                                        |1390027514332991489                                                                                |               |                   |[807095]                                        |(262144,[114269],[1.0])|(262144,[114269],[1.4026079366114144])|\n",
      "|19652471 |1390061372604514304                                                                                |26574283                                      |1390023742194061312                                                                                |               |                   |[26574283]                                      |(262144,[83352],[1.0]) |(262144,[83352],[1.540157416008084])  |\n",
      "|30616018 |1390052446920220675                                                                                |931571402                                     |1390026843068239874                                                                                |               |                   |[931571402]                                     |(262144,[252269],[1.0])|(262144,[252269],[7.188628509504587]) |\n",
      "|32947971 |1390058861415997442                                                                                |807095                                        |1390027514332991489                                                                                |               |                   |[807095]                                        |(262144,[114269],[1.0])|(262144,[114269],[1.4026079366114144])|\n",
      "|33868781 |1390071486094905344                                                                                |                                              |                                                                                                   |               |                   |[]                                              |(262144,[249180],[1.0])|(262144,[249180],[2.0012427036638325])|\n",
      "|43301934 |1390039244257865728                                                                                |380648579                                     |1390022155350446082                                                                                |               |                   |[380648579]                                     |(262144,[162692],[1.0])|(262144,[162692],[3.2049495151700063])|\n",
      "|51797430 |1390041312494301195                                                                                |26574283                                      |1390023742194061312                                                                                |               |                   |[26574283]                                      |(262144,[83352],[1.0]) |(262144,[83352],[1.540157416008084])  |\n",
      "|54579715 |1390040623466622979                                                                                |807095                                        |1390027514332991489                                                                                |               |                   |[807095]                                        |(262144,[114269],[1.0])|(262144,[114269],[1.4026079366114144])|\n",
      "|106456868|1390062023782903813                                                                                |22429979                                      |1390060755995799552                                                                                |               |                   |[22429979]                                      |(262144,[35376],[1.0]) |(262144,[35376],[5.091487390725351])  |\n",
      "|109826391|1390065027881705479                                                                                |807095                                        |1390027514332991489                                                                                |               |                   |[807095]                                        |(262144,[114269],[1.0])|(262144,[114269],[1.4026079366114144])|\n",
      "|111249239|1390049219579363328                                                                                |26574283                                      |1390023742194061312                                                                                |               |                   |[26574283]                                      |(262144,[83352],[1.0]) |(262144,[83352],[1.540157416008084])  |\n",
      "|147126487|1390049997790408707                                                                                |                                              |                                                                                                   |32345449       |1390043577703563265|[]                                              |(262144,[249180],[1.0])|(262144,[249180],[2.0012427036638325])|\n",
      "|157101980|1390056983626190848                                                                                |237341484                                     |1390056156756914182                                                                                |               |                   |[237341484]                                     |(262144,[30769],[1.0]) |(262144,[30769],[5.876442120538419])  |\n",
      "|202170318|1390075889505996802,1390075053539221504,1390074757618585601,1390068678713085953,1390068171848228864|4970411,380648579,380648579,104277809,96900937|1390071341894750211,1390047008971444231,1390022155350446082,1390062246034698240,1390068042474917888|               |                   |[4970411,380648579,380648579,104277809,96900937]|(262144,[54431],[1.0]) |(262144,[54431],[8.441391477999955])  |\n",
      "|228531805|1390048955673677824                                                                                |807095                                        |1390027514332991489                                                                                |               |                   |[807095]                                        |(262144,[114269],[1.0])|(262144,[114269],[1.4026079366114144])|\n",
      "|235000057|1390057192045248512                                                                                |                                              |                                                                                                   |               |                   |[]                                              |(262144,[249180],[1.0])|(262144,[249180],[2.0012427036638325])|\n",
      "|257121078|1390054261128634375                                                                                |26574283                                      |1390023742194061312                                                                                |               |                   |[26574283]                                      |(262144,[83352],[1.0]) |(262144,[83352],[1.540157416008084])  |\n",
      "|302864870|1390068821394960384                                                                                |191807697                                     |1390050885229817856                                                                                |               |                   |[191807697]                                     |(262144,[190216],[1.0])|(262144,[190216],[4.214557732731776]) |\n",
      "|404262940|1390071754995949577                                                                                |                                              |                                                                                                   |               |                   |[]                                              |(262144,[249180],[1.0])|(262144,[249180],[2.0012427036638325])|\n",
      "|417365324|1390063921210474496,1390056122283962369                                                            |237341484,191807697                           |1390056156756914182,1390050885229817856                                                            |               |                   |[237341484,191807697]                           |(262144,[66871],[1.0]) |(262144,[66871],[8.035926369891792])  |\n",
      "+---------+---------------------------------------------------------------------------------------------------+----------------------------------------------+---------------------------------------------------------------------------------------------------+---------------+-------------------+------------------------------------------------+-----------------------+--------------------------------------+\n",
      "only showing top 20 rows\n",
      "\n"
     ]
    }
   ],
   "source": [
    "tfidf.show(truncate = False)"
   ]
  },
  {
   "cell_type": "code",
   "execution_count": 52,
   "metadata": {},
   "outputs": [
    {
     "name": "stdout",
     "output_type": "stream",
     "text": [
      "+--------------------+\n",
      "|       user_mentions|\n",
      "+--------------------+\n",
      "| [{807095, [3, 11]}]|\n",
      "|[{380648579, [3, ...|\n",
      "|[{191807697, [3, ...|\n",
      "|[{15115280, [3, 1...|\n",
      "| [{807095, [3, 11]}]|\n",
      "|[{20402945, [3, 8...|\n",
      "|[{26574283, [3, 1...|\n",
      "|                null|\n",
      "| [{807095, [3, 11]}]|\n",
      "|                null|\n",
      "| [{807095, [3, 11]}]|\n",
      "|[{15115280, [3, 1...|\n",
      "|[{26574283, [3, 1...|\n",
      "|[{36326893, [3, 1...|\n",
      "|[{26574283, [3, 1...|\n",
      "|[{3094649957, [3,...|\n",
      "|[{846411464885747...|\n",
      "|[{15250661, [119,...|\n",
      "|[{7788062, [3, 11]}]|\n",
      "|[{3094649957, [3,...|\n",
      "+--------------------+\n",
      "only showing top 20 rows\n",
      "\n"
     ]
    }
   ],
   "source": [
    "tweeets_data.select(col('user_mentions').cast('string')).show()"
   ]
  },
  {
   "cell_type": "code",
   "execution_count": null,
   "metadata": {},
   "outputs": [],
   "source": [
    "tweeets_data"
   ]
  },
  {
   "cell_type": "code",
   "execution_count": 48,
   "metadata": {},
   "outputs": [
    {
     "ename": "IllegalArgumentException",
     "evalue": "requirement failed: Input type must be string type but got array<struct<id:bigint,indices:array<bigint>>>.",
     "output_type": "error",
     "traceback": [
      "\u001b[0;31m---------------------------------------------------------------------------\u001b[0m",
      "\u001b[0;31mIllegalArgumentException\u001b[0m                  Traceback (most recent call last)",
      "\u001b[0;32m<ipython-input-48-beb6170aa81c>\u001b[0m in \u001b[0;36m<module>\u001b[0;34m\u001b[0m\n\u001b[1;32m      1\u001b[0m tokenizer = Tokenizer(inputCol='user_mentions',\n\u001b[1;32m      2\u001b[0m     outputCol=\"words\")\n\u001b[0;32m----> 3\u001b[0;31m \u001b[0mtweets_vectors\u001b[0m \u001b[0;34m=\u001b[0m \u001b[0mtokenizer\u001b[0m\u001b[0;34m.\u001b[0m\u001b[0mtransform\u001b[0m\u001b[0;34m(\u001b[0m\u001b[0mtweeets_data\u001b[0m\u001b[0;34m)\u001b[0m\u001b[0;34m\u001b[0m\u001b[0;34m\u001b[0m\u001b[0m\n\u001b[0m\u001b[1;32m      4\u001b[0m \u001b[0;34m\u001b[0m\u001b[0m\n\u001b[1;32m      5\u001b[0m \u001b[0mhashingTF\u001b[0m \u001b[0;34m=\u001b[0m \u001b[0mHashingTF\u001b[0m\u001b[0;34m(\u001b[0m\u001b[0minputCol\u001b[0m\u001b[0;34m=\u001b[0m\u001b[0;34m\"words\"\u001b[0m\u001b[0;34m,\u001b[0m \u001b[0moutputCol\u001b[0m\u001b[0;34m=\u001b[0m\u001b[0;34m\"rawFeatures\"\u001b[0m\u001b[0;34m,\u001b[0m \u001b[0mnumFeatures\u001b[0m\u001b[0;34m=\u001b[0m\u001b[0;36m20\u001b[0m\u001b[0;34m)\u001b[0m\u001b[0;34m\u001b[0m\u001b[0;34m\u001b[0m\u001b[0m\n",
      "\u001b[0;32m~/opt/anaconda3/lib/python3.8/site-packages/pyspark/ml/base.py\u001b[0m in \u001b[0;36mtransform\u001b[0;34m(self, dataset, params)\u001b[0m\n\u001b[1;32m    215\u001b[0m                 \u001b[0;32mreturn\u001b[0m \u001b[0mself\u001b[0m\u001b[0;34m.\u001b[0m\u001b[0mcopy\u001b[0m\u001b[0;34m(\u001b[0m\u001b[0mparams\u001b[0m\u001b[0;34m)\u001b[0m\u001b[0;34m.\u001b[0m\u001b[0m_transform\u001b[0m\u001b[0;34m(\u001b[0m\u001b[0mdataset\u001b[0m\u001b[0;34m)\u001b[0m\u001b[0;34m\u001b[0m\u001b[0;34m\u001b[0m\u001b[0m\n\u001b[1;32m    216\u001b[0m             \u001b[0;32melse\u001b[0m\u001b[0;34m:\u001b[0m\u001b[0;34m\u001b[0m\u001b[0;34m\u001b[0m\u001b[0m\n\u001b[0;32m--> 217\u001b[0;31m                 \u001b[0;32mreturn\u001b[0m \u001b[0mself\u001b[0m\u001b[0;34m.\u001b[0m\u001b[0m_transform\u001b[0m\u001b[0;34m(\u001b[0m\u001b[0mdataset\u001b[0m\u001b[0;34m)\u001b[0m\u001b[0;34m\u001b[0m\u001b[0;34m\u001b[0m\u001b[0m\n\u001b[0m\u001b[1;32m    218\u001b[0m         \u001b[0;32melse\u001b[0m\u001b[0;34m:\u001b[0m\u001b[0;34m\u001b[0m\u001b[0;34m\u001b[0m\u001b[0m\n\u001b[1;32m    219\u001b[0m             \u001b[0;32mraise\u001b[0m \u001b[0mValueError\u001b[0m\u001b[0;34m(\u001b[0m\u001b[0;34m\"Params must be a param map but got %s.\"\u001b[0m \u001b[0;34m%\u001b[0m \u001b[0mtype\u001b[0m\u001b[0;34m(\u001b[0m\u001b[0mparams\u001b[0m\u001b[0;34m)\u001b[0m\u001b[0;34m)\u001b[0m\u001b[0;34m\u001b[0m\u001b[0;34m\u001b[0m\u001b[0m\n",
      "\u001b[0;32m~/opt/anaconda3/lib/python3.8/site-packages/pyspark/ml/wrapper.py\u001b[0m in \u001b[0;36m_transform\u001b[0;34m(self, dataset)\u001b[0m\n\u001b[1;32m    348\u001b[0m     \u001b[0;32mdef\u001b[0m \u001b[0m_transform\u001b[0m\u001b[0;34m(\u001b[0m\u001b[0mself\u001b[0m\u001b[0;34m,\u001b[0m \u001b[0mdataset\u001b[0m\u001b[0;34m)\u001b[0m\u001b[0;34m:\u001b[0m\u001b[0;34m\u001b[0m\u001b[0;34m\u001b[0m\u001b[0m\n\u001b[1;32m    349\u001b[0m         \u001b[0mself\u001b[0m\u001b[0;34m.\u001b[0m\u001b[0m_transfer_params_to_java\u001b[0m\u001b[0;34m(\u001b[0m\u001b[0;34m)\u001b[0m\u001b[0;34m\u001b[0m\u001b[0;34m\u001b[0m\u001b[0m\n\u001b[0;32m--> 350\u001b[0;31m         \u001b[0;32mreturn\u001b[0m \u001b[0mDataFrame\u001b[0m\u001b[0;34m(\u001b[0m\u001b[0mself\u001b[0m\u001b[0;34m.\u001b[0m\u001b[0m_java_obj\u001b[0m\u001b[0;34m.\u001b[0m\u001b[0mtransform\u001b[0m\u001b[0;34m(\u001b[0m\u001b[0mdataset\u001b[0m\u001b[0;34m.\u001b[0m\u001b[0m_jdf\u001b[0m\u001b[0;34m)\u001b[0m\u001b[0;34m,\u001b[0m \u001b[0mdataset\u001b[0m\u001b[0;34m.\u001b[0m\u001b[0msql_ctx\u001b[0m\u001b[0;34m)\u001b[0m\u001b[0;34m\u001b[0m\u001b[0;34m\u001b[0m\u001b[0m\n\u001b[0m\u001b[1;32m    351\u001b[0m \u001b[0;34m\u001b[0m\u001b[0m\n\u001b[1;32m    352\u001b[0m \u001b[0;34m\u001b[0m\u001b[0m\n",
      "\u001b[0;32m~/opt/anaconda3/lib/python3.8/site-packages/py4j/java_gateway.py\u001b[0m in \u001b[0;36m__call__\u001b[0;34m(self, *args)\u001b[0m\n\u001b[1;32m   1302\u001b[0m \u001b[0;34m\u001b[0m\u001b[0m\n\u001b[1;32m   1303\u001b[0m         \u001b[0manswer\u001b[0m \u001b[0;34m=\u001b[0m \u001b[0mself\u001b[0m\u001b[0;34m.\u001b[0m\u001b[0mgateway_client\u001b[0m\u001b[0;34m.\u001b[0m\u001b[0msend_command\u001b[0m\u001b[0;34m(\u001b[0m\u001b[0mcommand\u001b[0m\u001b[0;34m)\u001b[0m\u001b[0;34m\u001b[0m\u001b[0;34m\u001b[0m\u001b[0m\n\u001b[0;32m-> 1304\u001b[0;31m         return_value = get_return_value(\n\u001b[0m\u001b[1;32m   1305\u001b[0m             answer, self.gateway_client, self.target_id, self.name)\n\u001b[1;32m   1306\u001b[0m \u001b[0;34m\u001b[0m\u001b[0m\n",
      "\u001b[0;32m~/opt/anaconda3/lib/python3.8/site-packages/pyspark/sql/utils.py\u001b[0m in \u001b[0;36mdeco\u001b[0;34m(*a, **kw)\u001b[0m\n\u001b[1;32m    115\u001b[0m                 \u001b[0;31m# Hide where the exception came from that shows a non-Pythonic\u001b[0m\u001b[0;34m\u001b[0m\u001b[0;34m\u001b[0m\u001b[0;34m\u001b[0m\u001b[0m\n\u001b[1;32m    116\u001b[0m                 \u001b[0;31m# JVM exception message.\u001b[0m\u001b[0;34m\u001b[0m\u001b[0;34m\u001b[0m\u001b[0;34m\u001b[0m\u001b[0m\n\u001b[0;32m--> 117\u001b[0;31m                 \u001b[0;32mraise\u001b[0m \u001b[0mconverted\u001b[0m \u001b[0;32mfrom\u001b[0m \u001b[0;32mNone\u001b[0m\u001b[0;34m\u001b[0m\u001b[0;34m\u001b[0m\u001b[0m\n\u001b[0m\u001b[1;32m    118\u001b[0m             \u001b[0;32melse\u001b[0m\u001b[0;34m:\u001b[0m\u001b[0;34m\u001b[0m\u001b[0;34m\u001b[0m\u001b[0m\n\u001b[1;32m    119\u001b[0m                 \u001b[0;32mraise\u001b[0m\u001b[0;34m\u001b[0m\u001b[0;34m\u001b[0m\u001b[0m\n",
      "\u001b[0;31mIllegalArgumentException\u001b[0m: requirement failed: Input type must be string type but got array<struct<id:bigint,indices:array<bigint>>>."
     ]
    }
   ],
   "source": [
    "tokenizer = Tokenizer(inputCol='user_mentions',\n",
    "    outputCol=\"words\")\n",
    "tweets_vectors = tokenizer.transform(tweeets_data)\n",
    "\n",
    "hashingTF = HashingTF(inputCol=\"words\", outputCol=\"rawFeatures\", numFeatures=20)\n",
    "featurizedData = hashingTF.transform(tweets_vectors)\n",
    "idf = IDF(inputCol=\"rawFeatures\", outputCol=\"features\")\n",
    "idfModel = idf.fit(featurizedData)\n",
    "rescaledData = idfModel.transform(featurizedData)\n",
    "\n",
    "rescaledData.select('features').show()"
   ]
  },
  {
   "cell_type": "code",
   "execution_count": 49,
   "metadata": {},
   "outputs": [
    {
     "ename": "IllegalArgumentException",
     "evalue": "Data type string of column created_at is not supported.\nData type array<struct<indices:array<bigint>,text:string>> of column hash_tags is not supported.\nData type string of column text is not supported.\nData type array<struct<id:bigint,indices:array<bigint>>> of column user_mentions is not supported.",
     "output_type": "error",
     "traceback": [
      "\u001b[0;31m---------------------------------------------------------------------------\u001b[0m",
      "\u001b[0;31mIllegalArgumentException\u001b[0m                  Traceback (most recent call last)",
      "\u001b[0;32m<ipython-input-49-bce82971325f>\u001b[0m in \u001b[0;36m<module>\u001b[0;34m\u001b[0m\n\u001b[1;32m      1\u001b[0m assembler = VectorAssembler(inputCols=tweeets_data.columns,\n\u001b[1;32m      2\u001b[0m     outputCol=\"features\")\n\u001b[0;32m----> 3\u001b[0;31m \u001b[0mtweets_vectors\u001b[0m \u001b[0;34m=\u001b[0m \u001b[0massembler\u001b[0m\u001b[0;34m.\u001b[0m\u001b[0mtransform\u001b[0m\u001b[0;34m(\u001b[0m\u001b[0mtweeets_data\u001b[0m\u001b[0;34m)\u001b[0m\u001b[0;34m.\u001b[0m\u001b[0mselect\u001b[0m\u001b[0;34m(\u001b[0m\u001b[0;34m\"features\"\u001b[0m\u001b[0;34m)\u001b[0m\u001b[0;34m\u001b[0m\u001b[0;34m\u001b[0m\u001b[0m\n\u001b[0m\u001b[1;32m      4\u001b[0m \u001b[0mtweets_vectors\u001b[0m\u001b[0;34m.\u001b[0m\u001b[0mshow\u001b[0m\u001b[0;34m(\u001b[0m\u001b[0;36m2\u001b[0m\u001b[0;34m)\u001b[0m\u001b[0;34m\u001b[0m\u001b[0;34m\u001b[0m\u001b[0m\n",
      "\u001b[0;32m~/opt/anaconda3/lib/python3.8/site-packages/pyspark/ml/base.py\u001b[0m in \u001b[0;36mtransform\u001b[0;34m(self, dataset, params)\u001b[0m\n\u001b[1;32m    215\u001b[0m                 \u001b[0;32mreturn\u001b[0m \u001b[0mself\u001b[0m\u001b[0;34m.\u001b[0m\u001b[0mcopy\u001b[0m\u001b[0;34m(\u001b[0m\u001b[0mparams\u001b[0m\u001b[0;34m)\u001b[0m\u001b[0;34m.\u001b[0m\u001b[0m_transform\u001b[0m\u001b[0;34m(\u001b[0m\u001b[0mdataset\u001b[0m\u001b[0;34m)\u001b[0m\u001b[0;34m\u001b[0m\u001b[0;34m\u001b[0m\u001b[0m\n\u001b[1;32m    216\u001b[0m             \u001b[0;32melse\u001b[0m\u001b[0;34m:\u001b[0m\u001b[0;34m\u001b[0m\u001b[0;34m\u001b[0m\u001b[0m\n\u001b[0;32m--> 217\u001b[0;31m                 \u001b[0;32mreturn\u001b[0m \u001b[0mself\u001b[0m\u001b[0;34m.\u001b[0m\u001b[0m_transform\u001b[0m\u001b[0;34m(\u001b[0m\u001b[0mdataset\u001b[0m\u001b[0;34m)\u001b[0m\u001b[0;34m\u001b[0m\u001b[0;34m\u001b[0m\u001b[0m\n\u001b[0m\u001b[1;32m    218\u001b[0m         \u001b[0;32melse\u001b[0m\u001b[0;34m:\u001b[0m\u001b[0;34m\u001b[0m\u001b[0;34m\u001b[0m\u001b[0m\n\u001b[1;32m    219\u001b[0m             \u001b[0;32mraise\u001b[0m \u001b[0mValueError\u001b[0m\u001b[0;34m(\u001b[0m\u001b[0;34m\"Params must be a param map but got %s.\"\u001b[0m \u001b[0;34m%\u001b[0m \u001b[0mtype\u001b[0m\u001b[0;34m(\u001b[0m\u001b[0mparams\u001b[0m\u001b[0;34m)\u001b[0m\u001b[0;34m)\u001b[0m\u001b[0;34m\u001b[0m\u001b[0;34m\u001b[0m\u001b[0m\n",
      "\u001b[0;32m~/opt/anaconda3/lib/python3.8/site-packages/pyspark/ml/wrapper.py\u001b[0m in \u001b[0;36m_transform\u001b[0;34m(self, dataset)\u001b[0m\n\u001b[1;32m    348\u001b[0m     \u001b[0;32mdef\u001b[0m \u001b[0m_transform\u001b[0m\u001b[0;34m(\u001b[0m\u001b[0mself\u001b[0m\u001b[0;34m,\u001b[0m \u001b[0mdataset\u001b[0m\u001b[0;34m)\u001b[0m\u001b[0;34m:\u001b[0m\u001b[0;34m\u001b[0m\u001b[0;34m\u001b[0m\u001b[0m\n\u001b[1;32m    349\u001b[0m         \u001b[0mself\u001b[0m\u001b[0;34m.\u001b[0m\u001b[0m_transfer_params_to_java\u001b[0m\u001b[0;34m(\u001b[0m\u001b[0;34m)\u001b[0m\u001b[0;34m\u001b[0m\u001b[0;34m\u001b[0m\u001b[0m\n\u001b[0;32m--> 350\u001b[0;31m         \u001b[0;32mreturn\u001b[0m \u001b[0mDataFrame\u001b[0m\u001b[0;34m(\u001b[0m\u001b[0mself\u001b[0m\u001b[0;34m.\u001b[0m\u001b[0m_java_obj\u001b[0m\u001b[0;34m.\u001b[0m\u001b[0mtransform\u001b[0m\u001b[0;34m(\u001b[0m\u001b[0mdataset\u001b[0m\u001b[0;34m.\u001b[0m\u001b[0m_jdf\u001b[0m\u001b[0;34m)\u001b[0m\u001b[0;34m,\u001b[0m \u001b[0mdataset\u001b[0m\u001b[0;34m.\u001b[0m\u001b[0msql_ctx\u001b[0m\u001b[0;34m)\u001b[0m\u001b[0;34m\u001b[0m\u001b[0;34m\u001b[0m\u001b[0m\n\u001b[0m\u001b[1;32m    351\u001b[0m \u001b[0;34m\u001b[0m\u001b[0m\n\u001b[1;32m    352\u001b[0m \u001b[0;34m\u001b[0m\u001b[0m\n",
      "\u001b[0;32m~/opt/anaconda3/lib/python3.8/site-packages/py4j/java_gateway.py\u001b[0m in \u001b[0;36m__call__\u001b[0;34m(self, *args)\u001b[0m\n\u001b[1;32m   1302\u001b[0m \u001b[0;34m\u001b[0m\u001b[0m\n\u001b[1;32m   1303\u001b[0m         \u001b[0manswer\u001b[0m \u001b[0;34m=\u001b[0m \u001b[0mself\u001b[0m\u001b[0;34m.\u001b[0m\u001b[0mgateway_client\u001b[0m\u001b[0;34m.\u001b[0m\u001b[0msend_command\u001b[0m\u001b[0;34m(\u001b[0m\u001b[0mcommand\u001b[0m\u001b[0;34m)\u001b[0m\u001b[0;34m\u001b[0m\u001b[0;34m\u001b[0m\u001b[0m\n\u001b[0;32m-> 1304\u001b[0;31m         return_value = get_return_value(\n\u001b[0m\u001b[1;32m   1305\u001b[0m             answer, self.gateway_client, self.target_id, self.name)\n\u001b[1;32m   1306\u001b[0m \u001b[0;34m\u001b[0m\u001b[0m\n",
      "\u001b[0;32m~/opt/anaconda3/lib/python3.8/site-packages/pyspark/sql/utils.py\u001b[0m in \u001b[0;36mdeco\u001b[0;34m(*a, **kw)\u001b[0m\n\u001b[1;32m    115\u001b[0m                 \u001b[0;31m# Hide where the exception came from that shows a non-Pythonic\u001b[0m\u001b[0;34m\u001b[0m\u001b[0;34m\u001b[0m\u001b[0;34m\u001b[0m\u001b[0m\n\u001b[1;32m    116\u001b[0m                 \u001b[0;31m# JVM exception message.\u001b[0m\u001b[0;34m\u001b[0m\u001b[0;34m\u001b[0m\u001b[0;34m\u001b[0m\u001b[0m\n\u001b[0;32m--> 117\u001b[0;31m                 \u001b[0;32mraise\u001b[0m \u001b[0mconverted\u001b[0m \u001b[0;32mfrom\u001b[0m \u001b[0;32mNone\u001b[0m\u001b[0;34m\u001b[0m\u001b[0;34m\u001b[0m\u001b[0m\n\u001b[0m\u001b[1;32m    118\u001b[0m             \u001b[0;32melse\u001b[0m\u001b[0;34m:\u001b[0m\u001b[0;34m\u001b[0m\u001b[0;34m\u001b[0m\u001b[0m\n\u001b[1;32m    119\u001b[0m                 \u001b[0;32mraise\u001b[0m\u001b[0;34m\u001b[0m\u001b[0;34m\u001b[0m\u001b[0m\n",
      "\u001b[0;31mIllegalArgumentException\u001b[0m: Data type string of column created_at is not supported.\nData type array<struct<indices:array<bigint>,text:string>> of column hash_tags is not supported.\nData type string of column text is not supported.\nData type array<struct<id:bigint,indices:array<bigint>>> of column user_mentions is not supported."
     ]
    }
   ],
   "source": [
    "assembler = VectorAssembler(inputCols=tweeets_data.columns,\n",
    "    outputCol=\"features\")\n",
    "tweets_vectors = assembler.transform(tweeets_data).select(\"features\")\n",
    "tweets_vectors.show(2)"
   ]
  },
  {
   "cell_type": "code",
   "execution_count": 191,
   "metadata": {},
   "outputs": [],
   "source": [
    "tweets_processed = tweets_agg.select('*', \n",
    "                                     when((tweets_agg.agg_retweet_users.isNull()) & (length(tweets_agg.agg_reply_users) > 0), \n",
    "                                          concat(lit(''),tweets_agg.agg_reply_users))\\\n",
    "                                     .when((tweets_agg.agg_retweet_users.isNotNull()) & (length(tweets_agg.agg_reply_users) == 0), \n",
    "                                          concat(lit(''),tweets_agg.agg_retweet_users))\\\n",
    "                                     .otherwise(concat(tweets_agg.agg_retweet_users,tweets_agg.agg_reply_users))\n",
    "                                     .alias('agg_tweet_respond_users'))"
   ]
  },
  {
   "cell_type": "code",
   "execution_count": null,
   "metadata": {},
   "outputs": [],
   "source": []
  }
 ],
 "metadata": {
  "kernelspec": {
   "display_name": "Python 3",
   "language": "python",
   "name": "python3"
  },
  "language_info": {
   "codemirror_mode": {
    "name": "ipython",
    "version": 3
   },
   "file_extension": ".py",
   "mimetype": "text/x-python",
   "name": "python",
   "nbconvert_exporter": "python",
   "pygments_lexer": "ipython3",
   "version": "3.8.3"
  }
 },
 "nbformat": 4,
 "nbformat_minor": 4
}
