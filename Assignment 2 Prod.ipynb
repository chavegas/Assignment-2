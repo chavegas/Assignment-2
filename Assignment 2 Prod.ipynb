{
 "cells": [
  {
   "cell_type": "markdown",
   "metadata": {},
   "source": [
    "## Workload 1"
   ]
  },
  {
   "cell_type": "code",
   "execution_count": 52,
   "metadata": {},
   "outputs": [],
   "source": [
    "# Import all necessary libraries and setup the environment for matplotlib\n",
    "from pyspark.sql import SparkSession, Row\n",
    "from pyspark.ml.feature import PCA\n",
    "from pyspark.ml.clustering import KMeans\n",
    "from pyspark.ml.feature import HashingTF, IDF, Tokenizer, Normalizer, VectorAssembler\n",
    "from pyspark.ml.linalg import *\n",
    "from pyspark.sql.types import * \n",
    "from pyspark.sql.functions import *\n",
    "import pyspark.sql.functions as f\n",
    "import numpy as np\n",
    "import matplotlib.pyplot as plt"
   ]
  },
  {
   "cell_type": "code",
   "execution_count": 53,
   "metadata": {},
   "outputs": [],
   "source": [
    "def blank_as_null(x):\n",
    "    return when(col(x) != \"\", col(x)).otherwise(None)"
   ]
  },
  {
   "cell_type": "code",
   "execution_count": 54,
   "metadata": {},
   "outputs": [],
   "source": [
    "spark = SparkSession \\\n",
    "    .builder \\\n",
    "    .appName(\"Assignment 2\") \\\n",
    "    .getOrCreate()\n",
    "tweeets_data = spark.read.option('multiline','true').json('tweets.json')"
   ]
  },
  {
   "cell_type": "code",
   "execution_count": 4,
   "metadata": {},
   "outputs": [
    {
     "name": "stdout",
     "output_type": "stream",
     "text": [
      "+-------------------+--------------------+-------------------+----------+---------------+-------------------+------------------+--------------------+-------------------+--------------------+\n",
      "|         created_at|           hash_tags|                 id|replyto_id|replyto_user_id|         retweet_id|   retweet_user_id|                text|            user_id|       user_mentions|\n",
      "+-------------------+--------------------+-------------------+----------+---------------+-------------------+------------------+--------------------+-------------------+--------------------+\n",
      "|2021-05-05 23:37:51|                null|1390088382659895296|      null|           null|1390027514332991489|            807095|RT @nytimes: Brea...|           17799542| [{807095, [3, 11]}]|\n",
      "|2021-05-05 23:37:45|[{[9, 18], BREAKI...|1390088354717474822|      null|           null|1390022155350446082|         380648579|RT @AFP: #BREAKIN...|         1166466828|[{380648579, [3, ...|\n",
      "|2021-05-05 23:37:42|                null|1390088345288646661|      null|           null|1390050885229817856|         191807697|RT @jon_trickett:...|1343606436149022723|[{191807697, [3, ...|\n",
      "|2021-05-05 23:37:39|                null|1390088329530544128|      null|           null|1390066365046865929|          15115280|RT @PalmerReport:...| 930226031276982273|[{15115280, [3, 1...|\n",
      "|2021-05-05 23:37:36|                null|1390088318906339328|      null|           null|1390027514332991489|            807095|RT @nytimes: Brea...| 920858307392192513| [{807095, [3, 11]}]|\n",
      "|2021-05-05 23:37:35|                null|1390088314984697859|      null|           null|1390025466539614212|          20402945|RT @CNBC: NEW: Th...|           21458110|[{20402945, [3, 8...|\n",
      "|2021-05-05 23:37:29|                null|1390088291559608321|      null|           null|1390023742194061312|          26574283|RT @CNBCnow: Pfiz...| 787062740183552000|[{26574283, [3, 1...|\n",
      "|2021-05-05 23:37:29|                null|1390088290397822982|      null|           null|               null|              null|///bbcwbr] https:...|          392646132|                null|\n",
      "|2021-05-05 23:37:29|                null|1390088288556388354|      null|           null|1390027514332991489|            807095|RT @nytimes: Brea...|         2955789098| [{807095, [3, 11]}]|\n",
      "|2021-05-05 23:37:27|                null|1390088282587938817|      null|           null|               null|              null|U.S. will back pr...| 792380204287164416|                null|\n",
      "|2021-05-05 23:37:27|                null|1390088280755081221|      null|           null|1390027514332991489|            807095|RT @nytimes: Brea...|          198453947| [{807095, [3, 11]}]|\n",
      "|2021-05-05 23:37:25|                null|1390088274245472264|      null|           null|1390066365046865929|          15115280|RT @PalmerReport:...|         1431726547|[{15115280, [3, 1...|\n",
      "|2021-05-05 23:37:23|                null|1390088263403249667|      null|           null|1390023742194061312|          26574283|RT @CNBCnow: Pfiz...|1245145031045980163|[{26574283, [3, 1...|\n",
      "|2021-05-05 23:37:21|                null|1390088257292079112|      null|           null|1390039923588206598|          36326893|RT @EPSUnions: Un...|         2181244875|[{36326893, [3, 1...|\n",
      "|2021-05-05 23:37:21|                null|1390088255958224899|      null|           null|1390023742194061312|          26574283|RT @CNBCnow: Pfiz...|           34865264|[{26574283, [3, 1...|\n",
      "|2021-05-05 23:37:14|                null|1390088227365609472|      null|           null|1390087644235902979|        3094649957|RT @SDG2030: The ...|          179912903|[{3094649957, [3,...|\n",
      "|2021-05-05 23:37:14|                null|1390088227101368322|      null|           null|1390069325353033729|846411464885747712|RT @theserfstv: I...|1173096863840423941|[{846411464885747...|\n",
      "|2021-05-05 23:37:13|                null|1390088221363556353|      null|           null|               null|              null|Sometimes we just...|          491594719|[{15250661, [119,...|\n",
      "|2021-05-05 23:37:13|                null|1390088220822495236|      null|           null|1390071789208936452|           7788062|RT @pranesh: And ...|           40404318|[{7788062, [3, 11]}]|\n",
      "|2021-05-05 23:37:09|                null|1390088206775996416|      null|           null|1390084013864460296|        3094649957|RT @SDG2030: Than...|1326851827879604226|[{3094649957, [3,...|\n",
      "+-------------------+--------------------+-------------------+----------+---------------+-------------------+------------------+--------------------+-------------------+--------------------+\n",
      "only showing top 20 rows\n",
      "\n"
     ]
    }
   ],
   "source": [
    "tweeets_data.show()"
   ]
  },
  {
   "cell_type": "code",
   "execution_count": 14,
   "metadata": {},
   "outputs": [],
   "source": [
    "tweets_agg = tweeets_data.groupby(\"user_id\").agg(f.concat_ws(\" \", f.collect_list(tweeets_data.retweet_id)).alias('agg_retweets'),\n",
    "                                    f.concat_ws(\" \", f.collect_list(tweeets_data.replyto_id)).alias('agg_replies'))"
   ]
  },
  {
   "cell_type": "code",
   "execution_count": 27,
   "metadata": {},
   "outputs": [
    {
     "name": "stdout",
     "output_type": "stream",
     "text": [
      "+---------+--------------------+-------------------+\n",
      "|  user_id|        agg_retweets|        agg_replies|\n",
      "+---------+--------------------+-------------------+\n",
      "| 15466159| 1390027514332991489|               null|\n",
      "| 19652471| 1390023742194061312|               null|\n",
      "| 30616018| 1390026843068239874|               null|\n",
      "| 32947971| 1390027514332991489|               null|\n",
      "| 33868781|                null|               null|\n",
      "| 43301934| 1390022155350446082|               null|\n",
      "| 51797430| 1390023742194061312|               null|\n",
      "| 54579715| 1390027514332991489|               null|\n",
      "|106456868| 1390060755995799552|               null|\n",
      "|109826391| 1390027514332991489|               null|\n",
      "|111249239| 1390023742194061312|               null|\n",
      "|147126487|                null|1390043577703563265|\n",
      "|157101980| 1390056156756914182|               null|\n",
      "|202170318|13900713418947502...|               null|\n",
      "|228531805| 1390027514332991489|               null|\n",
      "|235000057|                null|               null|\n",
      "|257121078| 1390023742194061312|               null|\n",
      "|302864870| 1390050885229817856|               null|\n",
      "|404262940|                null|               null|\n",
      "|417365324|13900561567569141...|               null|\n",
      "+---------+--------------------+-------------------+\n",
      "only showing top 20 rows\n",
      "\n"
     ]
    }
   ],
   "source": [
    "tweets_agg.show()"
   ]
  },
  {
   "cell_type": "code",
   "execution_count": 22,
   "metadata": {},
   "outputs": [],
   "source": [
    "tweets_agg = tweets_agg.withColumn(\"agg_retweets\", blank_as_null(\"agg_retweets\"))\n",
    "tweets_agg = tweets_agg.withColumn(\"agg_replies\", blank_as_null(\"agg_replies\"))"
   ]
  },
  {
   "cell_type": "code",
   "execution_count": 31,
   "metadata": {},
   "outputs": [],
   "source": [
    "tweets_processed = tweets_agg.select('user_id',concat_ws(' ','agg_retweets','agg_replies').alias('agg_tweet_respond'))"
   ]
  },
  {
   "cell_type": "code",
   "execution_count": 39,
   "metadata": {},
   "outputs": [
    {
     "name": "stdout",
     "output_type": "stream",
     "text": [
      "+---------+------------------------------------------------------------------+\n",
      "|user_id  |tf                                                                |\n",
      "+---------+------------------------------------------------------------------+\n",
      "|15466159 |(262144,[23124],[1.0])                                            |\n",
      "|19652471 |(262144,[204285],[1.0])                                           |\n",
      "|30616018 |(262144,[158844],[1.0])                                           |\n",
      "|32947971 |(262144,[23124],[1.0])                                            |\n",
      "|33868781 |(262144,[249180],[1.0])                                           |\n",
      "|43301934 |(262144,[178090],[1.0])                                           |\n",
      "|51797430 |(262144,[204285],[1.0])                                           |\n",
      "|54579715 |(262144,[23124],[1.0])                                            |\n",
      "|106456868|(262144,[95155],[1.0])                                            |\n",
      "|109826391|(262144,[23124],[1.0])                                            |\n",
      "|111249239|(262144,[204285],[1.0])                                           |\n",
      "|147126487|(262144,[247891],[1.0])                                           |\n",
      "|157101980|(262144,[70760],[1.0])                                            |\n",
      "|202170318|(262144,[78232,127139,151508,178090,232689],[1.0,1.0,1.0,1.0,1.0])|\n",
      "|228531805|(262144,[23124],[1.0])                                            |\n",
      "|235000057|(262144,[249180],[1.0])                                           |\n",
      "|257121078|(262144,[204285],[1.0])                                           |\n",
      "|302864870|(262144,[101572],[1.0])                                           |\n",
      "|404262940|(262144,[249180],[1.0])                                           |\n",
      "|417365324|(262144,[70760,101572],[1.0,1.0])                                 |\n",
      "+---------+------------------------------------------------------------------+\n",
      "only showing top 20 rows\n",
      "\n"
     ]
    }
   ],
   "source": [
    "tf.select(col('user_id'),col('tf')).show(truncate=False)"
   ]
  },
  {
   "cell_type": "code",
   "execution_count": 51,
   "metadata": {},
   "outputs": [
    {
     "name": "stdout",
     "output_type": "stream",
     "text": [
      "+---------+--------------------------------------------+\n",
      "|user_id  |features                                    |\n",
      "+---------+--------------------------------------------+\n",
      "|15466159 |(656,[0],[1.0])                             |\n",
      "|19652471 |(656,[1],[1.0])                             |\n",
      "|30616018 |(656,[114],[1.0])                           |\n",
      "|32947971 |(656,[0],[1.0])                             |\n",
      "|33868781 |(656,[2],[1.0])                             |\n",
      "|43301934 |(656,[3],[1.0])                             |\n",
      "|51797430 |(656,[1],[1.0])                             |\n",
      "|54579715 |(656,[0],[1.0])                             |\n",
      "|106456868|(656,[14],[1.0])                            |\n",
      "|109826391|(656,[0],[1.0])                             |\n",
      "|111249239|(656,[1],[1.0])                             |\n",
      "|147126487|(656,[480],[1.0])                           |\n",
      "|157101980|(656,[26],[1.0])                            |\n",
      "|202170318|(656,[3,16,25,87,100],[1.0,1.0,1.0,1.0,1.0])|\n",
      "|228531805|(656,[0],[1.0])                             |\n",
      "|235000057|(656,[2],[1.0])                             |\n",
      "|257121078|(656,[1],[1.0])                             |\n",
      "|302864870|(656,[8],[1.0])                             |\n",
      "|404262940|(656,[2],[1.0])                             |\n",
      "|417365324|(656,[8,26],[1.0,1.0])                      |\n",
      "+---------+--------------------------------------------+\n",
      "only showing top 20 rows\n",
      "\n"
     ]
    }
   ],
   "source": [
    "\n",
    "cv_data.select(col('user_id'),col('features')).show(truncate=False)"
   ]
  },
  {
   "cell_type": "code",
   "execution_count": 41,
   "metadata": {},
   "outputs": [],
   "source": [
    "tokenizer = Tokenizer(inputCol='agg_tweet_respond',\n",
    "    outputCol=\"vectors\")\n",
    "tweets_vectors = tokenizer.transform(tweets_processed)"
   ]
  },
  {
   "cell_type": "code",
   "execution_count": 42,
   "metadata": {},
   "outputs": [],
   "source": [
    "hashingTF = HashingTF(inputCol=\"vectors\", outputCol=\"tf\")\n",
    "tf = hashingTF.transform(tweets_vectors)"
   ]
  },
  {
   "cell_type": "code",
   "execution_count": 43,
   "metadata": {},
   "outputs": [
    {
     "ename": "NameError",
     "evalue": "name 'tf_data' is not defined",
     "output_type": "error",
     "traceback": [
      "\u001b[0;31m---------------------------------------------------------------------------\u001b[0m",
      "\u001b[0;31mNameError\u001b[0m                                 Traceback (most recent call last)",
      "\u001b[0;32m<ipython-input-43-f53f1e258a88>\u001b[0m in \u001b[0;36m<module>\u001b[0;34m\u001b[0m\n\u001b[1;32m      1\u001b[0m \u001b[0mselected_id\u001b[0m \u001b[0;34m=\u001b[0m \u001b[0;36m202170318\u001b[0m\u001b[0;34m\u001b[0m\u001b[0;34m\u001b[0m\u001b[0m\n\u001b[0;32m----> 2\u001b[0;31m \u001b[0mtweets_user_filtered\u001b[0m \u001b[0;34m=\u001b[0m \u001b[0mtf_data\u001b[0m\u001b[0;34m.\u001b[0m\u001b[0mwhere\u001b[0m\u001b[0;34m(\u001b[0m\u001b[0;34mf'user_id = {selected_id}'\u001b[0m\u001b[0;34m)\u001b[0m\u001b[0;34m\u001b[0m\u001b[0;34m\u001b[0m\u001b[0m\n\u001b[0m\u001b[1;32m      3\u001b[0m \u001b[0mcompare_vector\u001b[0m \u001b[0;34m=\u001b[0m \u001b[0mtweets_user_filtered\u001b[0m\u001b[0;34m.\u001b[0m\u001b[0mfirst\u001b[0m\u001b[0;34m(\u001b[0m\u001b[0;34m)\u001b[0m\u001b[0;34m[\u001b[0m\u001b[0;34m'tf'\u001b[0m\u001b[0;34m]\u001b[0m\u001b[0;34m\u001b[0m\u001b[0;34m\u001b[0m\u001b[0m\n",
      "\u001b[0;31mNameError\u001b[0m: name 'tf_data' is not defined"
     ]
    }
   ],
   "source": [
    "selected_id = 202170318\n",
    "tweets_user_filtered = tf_data.where(f'user_id = {selected_id}')\n",
    "compare_vector = tweets_user_filtered.first()['tf']"
   ]
  },
  {
   "cell_type": "code",
   "execution_count": 44,
   "metadata": {},
   "outputs": [
    {
     "ename": "NameError",
     "evalue": "name 'compare_vector' is not defined",
     "output_type": "error",
     "traceback": [
      "\u001b[0;31m---------------------------------------------------------------------------\u001b[0m",
      "\u001b[0;31mNameError\u001b[0m                                 Traceback (most recent call last)",
      "\u001b[0;32m<ipython-input-44-5a35da0c6b45>\u001b[0m in \u001b[0;36m<module>\u001b[0;34m\u001b[0m\n\u001b[0;32m----> 1\u001b[0;31m \u001b[0mcompare_vector\u001b[0m\u001b[0;34m\u001b[0m\u001b[0;34m\u001b[0m\u001b[0m\n\u001b[0m",
      "\u001b[0;31mNameError\u001b[0m: name 'compare_vector' is not defined"
     ]
    }
   ],
   "source": [
    "compare_vector"
   ]
  },
  {
   "cell_type": "code",
   "execution_count": 45,
   "metadata": {},
   "outputs": [
    {
     "ename": "NameError",
     "evalue": "name 'compare_vector' is not defined",
     "output_type": "error",
     "traceback": [
      "\u001b[0;31m---------------------------------------------------------------------------\u001b[0m",
      "\u001b[0;31mNameError\u001b[0m                                 Traceback (most recent call last)",
      "\u001b[0;32m<ipython-input-45-8b5a969b0d78>\u001b[0m in \u001b[0;36m<module>\u001b[0;34m\u001b[0m\n\u001b[0;32m----> 1\u001b[0;31m \u001b[0;32mdef\u001b[0m \u001b[0mcos_sim\u001b[0m\u001b[0;34m(\u001b[0m\u001b[0ma\u001b[0m\u001b[0;34m,\u001b[0m\u001b[0mb\u001b[0m\u001b[0;34m=\u001b[0m\u001b[0mcompare_vector\u001b[0m\u001b[0;34m)\u001b[0m\u001b[0;34m:\u001b[0m\u001b[0;34m\u001b[0m\u001b[0;34m\u001b[0m\u001b[0m\n\u001b[0m\u001b[1;32m      2\u001b[0m     \u001b[0;32mreturn\u001b[0m \u001b[0mfloat\u001b[0m\u001b[0;34m(\u001b[0m\u001b[0ma\u001b[0m\u001b[0;34m.\u001b[0m\u001b[0mdot\u001b[0m\u001b[0;34m(\u001b[0m\u001b[0mb\u001b[0m\u001b[0;34m)\u001b[0m \u001b[0;34m/\u001b[0m \u001b[0;34m(\u001b[0m\u001b[0ma\u001b[0m\u001b[0;34m.\u001b[0m\u001b[0mnorm\u001b[0m\u001b[0;34m(\u001b[0m\u001b[0;36m2\u001b[0m\u001b[0;34m)\u001b[0m \u001b[0;34m*\u001b[0m \u001b[0mb\u001b[0m\u001b[0;34m.\u001b[0m\u001b[0mnorm\u001b[0m\u001b[0;34m(\u001b[0m\u001b[0;36m2\u001b[0m\u001b[0;34m)\u001b[0m\u001b[0;34m)\u001b[0m\u001b[0;34m)\u001b[0m\u001b[0;34m\u001b[0m\u001b[0;34m\u001b[0m\u001b[0m\n\u001b[1;32m      3\u001b[0m \u001b[0mcos_function\u001b[0m \u001b[0;34m=\u001b[0m \u001b[0mudf\u001b[0m\u001b[0;34m(\u001b[0m\u001b[0mcos_sim\u001b[0m\u001b[0;34m,\u001b[0m \u001b[0mFloatType\u001b[0m\u001b[0;34m(\u001b[0m\u001b[0;34m)\u001b[0m\u001b[0;34m)\u001b[0m\u001b[0;34m\u001b[0m\u001b[0;34m\u001b[0m\u001b[0m\n",
      "\u001b[0;31mNameError\u001b[0m: name 'compare_vector' is not defined"
     ]
    }
   ],
   "source": [
    "def cos_sim(a,b=compare_vector):\n",
    "    return float(a.dot(b) / (a.norm(2) * b.norm(2)))\n",
    "cos_function = udf(cos_sim, FloatType())"
   ]
  },
  {
   "cell_type": "code",
   "execution_count": 46,
   "metadata": {},
   "outputs": [
    {
     "ename": "NameError",
     "evalue": "name 'tf_data' is not defined",
     "output_type": "error",
     "traceback": [
      "\u001b[0;31m---------------------------------------------------------------------------\u001b[0m",
      "\u001b[0;31mNameError\u001b[0m                                 Traceback (most recent call last)",
      "\u001b[0;32m<ipython-input-46-94f1393393df>\u001b[0m in \u001b[0;36m<module>\u001b[0;34m\u001b[0m\n\u001b[0;32m----> 1\u001b[0;31m \u001b[0mtf_data\u001b[0m \u001b[0;34m=\u001b[0m \u001b[0mtf_data\u001b[0m\u001b[0;34m.\u001b[0m\u001b[0mwithColumn\u001b[0m\u001b[0;34m(\u001b[0m\u001b[0;34m\"CosineSim\"\u001b[0m\u001b[0;34m,\u001b[0m\u001b[0mcos_function\u001b[0m\u001b[0;34m(\u001b[0m\u001b[0;34m'tf'\u001b[0m\u001b[0;34m)\u001b[0m\u001b[0;34m)\u001b[0m\u001b[0;34m\u001b[0m\u001b[0;34m\u001b[0m\u001b[0m\n\u001b[0m\u001b[1;32m      2\u001b[0m \u001b[0mtf_data\u001b[0m \u001b[0;34m=\u001b[0m \u001b[0mtf_data\u001b[0m\u001b[0;34m.\u001b[0m\u001b[0mwhere\u001b[0m\u001b[0;34m(\u001b[0m\u001b[0;34mf'user_id <> {selected_id}'\u001b[0m\u001b[0;34m)\u001b[0m\u001b[0;34m\u001b[0m\u001b[0;34m\u001b[0m\u001b[0m\n",
      "\u001b[0;31mNameError\u001b[0m: name 'tf_data' is not defined"
     ]
    }
   ],
   "source": [
    "tf_data = tf_data.withColumn(\"CosineSim\",cos_function('tf'))\n",
    "tf_data = tf_data.where(f'user_id <> {selected_id}')"
   ]
  },
  {
   "cell_type": "code",
   "execution_count": 47,
   "metadata": {},
   "outputs": [
    {
     "ename": "NameError",
     "evalue": "name 'tf_data' is not defined",
     "output_type": "error",
     "traceback": [
      "\u001b[0;31m---------------------------------------------------------------------------\u001b[0m",
      "\u001b[0;31mNameError\u001b[0m                                 Traceback (most recent call last)",
      "\u001b[0;32m<ipython-input-47-7194b6513be2>\u001b[0m in \u001b[0;36m<module>\u001b[0;34m\u001b[0m\n\u001b[0;32m----> 1\u001b[0;31m \u001b[0mtf_data\u001b[0m\u001b[0;34m.\u001b[0m\u001b[0mshow\u001b[0m\u001b[0;34m(\u001b[0m\u001b[0mtruncate\u001b[0m\u001b[0;34m=\u001b[0m\u001b[0;32mFalse\u001b[0m\u001b[0;34m)\u001b[0m\u001b[0;34m\u001b[0m\u001b[0;34m\u001b[0m\u001b[0m\n\u001b[0m",
      "\u001b[0;31mNameError\u001b[0m: name 'tf_data' is not defined"
     ]
    }
   ],
   "source": [
    "tf_data.show(truncate=False)"
   ]
  },
  {
   "cell_type": "code",
   "execution_count": 48,
   "metadata": {},
   "outputs": [
    {
     "ename": "NameError",
     "evalue": "name 'tf_data' is not defined",
     "output_type": "error",
     "traceback": [
      "\u001b[0;31m---------------------------------------------------------------------------\u001b[0m",
      "\u001b[0;31mNameError\u001b[0m                                 Traceback (most recent call last)",
      "\u001b[0;32m<ipython-input-48-70802c3b67eb>\u001b[0m in \u001b[0;36m<module>\u001b[0;34m\u001b[0m\n\u001b[0;32m----> 1\u001b[0;31m \u001b[0msorted_output_tf\u001b[0m \u001b[0;34m=\u001b[0m \u001b[0mtf_data\u001b[0m\u001b[0;34m.\u001b[0m\u001b[0mfilter\u001b[0m\u001b[0;34m(\u001b[0m\u001b[0mtf_data\u001b[0m\u001b[0;34m.\u001b[0m\u001b[0mCosineSim\u001b[0m \u001b[0;34m>\u001b[0m \u001b[0;36m0\u001b[0m\u001b[0;34m)\u001b[0m\u001b[0;34m.\u001b[0m\u001b[0msort\u001b[0m\u001b[0;34m(\u001b[0m\u001b[0mcol\u001b[0m\u001b[0;34m(\u001b[0m\u001b[0;34m'CosineSim'\u001b[0m\u001b[0;34m)\u001b[0m\u001b[0;34m.\u001b[0m\u001b[0mdesc\u001b[0m\u001b[0;34m(\u001b[0m\u001b[0;34m)\u001b[0m\u001b[0;34m)\u001b[0m\u001b[0;34m\u001b[0m\u001b[0;34m\u001b[0m\u001b[0m\n\u001b[0m\u001b[1;32m      2\u001b[0m \u001b[0msorted_output_tf\u001b[0m\u001b[0;34m.\u001b[0m\u001b[0mshow\u001b[0m\u001b[0;34m(\u001b[0m\u001b[0;36m5\u001b[0m\u001b[0;34m,\u001b[0m\u001b[0mtruncate\u001b[0m\u001b[0;34m=\u001b[0m\u001b[0;32mFalse\u001b[0m\u001b[0;34m)\u001b[0m\u001b[0;34m\u001b[0m\u001b[0;34m\u001b[0m\u001b[0m\n",
      "\u001b[0;31mNameError\u001b[0m: name 'tf_data' is not defined"
     ]
    }
   ],
   "source": [
    "sorted_output_tf = tf_data.filter(tf_data.CosineSim > 0).sort(col('CosineSim').desc())\n",
    "sorted_output_tf.show(5,truncate=False)"
   ]
  },
  {
   "cell_type": "code",
   "execution_count": 49,
   "metadata": {},
   "outputs": [],
   "source": [
    "from pyspark.ml.feature import CountVectorizer\n",
    "\n",
    "cv = CountVectorizer(inputCol=\"vectors\", outputCol=\"features\")\n",
    "\n",
    "tweets_cv = cv.fit(tweets_vectors)\n",
    "\n",
    "cv_data = tweets_cv.transform(tweets_vectors)"
   ]
  },
  {
   "cell_type": "code",
   "execution_count": 15,
   "metadata": {},
   "outputs": [],
   "source": [
    "selected_id = 202170318\n",
    "tweets_user_filtered = cv_data.where(f'user_id = {selected_id}')\n",
    "compare_vector = tweets_user_filtered.first()['features']"
   ]
  },
  {
   "cell_type": "code",
   "execution_count": 16,
   "metadata": {},
   "outputs": [],
   "source": [
    "def cos_sim(a,b=compare_vector):\n",
    "    return float(a.dot(b) / (a.norm(2) * b.norm(2)))\n",
    "cos_function = udf(cos_sim, FloatType())"
   ]
  },
  {
   "cell_type": "code",
   "execution_count": 17,
   "metadata": {},
   "outputs": [],
   "source": [
    "cv_data = cv_data.withColumn(\"CosineSim\",cos_function('features'))\n",
    "cv_data = cv_data.where(f'user_id <> {selected_id}')"
   ]
  },
  {
   "cell_type": "code",
   "execution_count": 18,
   "metadata": {},
   "outputs": [
    {
     "name": "stdout",
     "output_type": "stream",
     "text": [
      "+----------+---------------------------------------+-------------------+---------------------------------------+---------------+-----------+---------------------------------------+------------------------------------------+----------------------+---------+\n",
      "|user_id   |agg_tweets                             |agg_retweet_users  |agg_retweets                           |agg_reply_users|agg_replies|agg_tweet_respond                      |vectors                                   |features              |CosineSim|\n",
      "+----------+---------------------------------------+-------------------+---------------------------------------+---------------+-----------+---------------------------------------+------------------------------------------+----------------------+---------+\n",
      "|3101168904|1390055316683853824 1390055278486310914|380648579 380648579|1390047008971444231 1390022155350446082|null           |null       |1390047008971444231 1390022155350446082|[1390047008971444231, 1390022155350446082]|(656,[3,16],[1.0,1.0])|0.6324555|\n",
      "|14250699  |1390057365421142021 1390057343916859399|380648579 380648579|1390047008971444231 1390022155350446082|null           |null       |1390047008971444231 1390022155350446082|[1390047008971444231, 1390022155350446082]|(656,[3,16],[1.0,1.0])|0.6324555|\n",
      "|3016373503|1390049988198027265 1390037671804764160|380648579 380648579|1390047008971444231 1390022155350446082|null           |null       |1390047008971444231 1390022155350446082|[1390047008971444231, 1390022155350446082]|(656,[3,16],[1.0,1.0])|0.6324555|\n",
      "|1318440355|1390066640641921024 1390066626066747394|380648579 380648579|1390022155350446082 1390047008971444231|null           |null       |1390022155350446082 1390047008971444231|[1390022155350446082, 1390047008971444231]|(656,[3,16],[1.0,1.0])|0.6324555|\n",
      "|40496226  |1390060819724054535 1390060777055428611|380648579 380648579|1390047008971444231 1390022155350446082|null           |null       |1390047008971444231 1390022155350446082|[1390047008971444231, 1390022155350446082]|(656,[3,16],[1.0,1.0])|0.6324555|\n",
      "+----------+---------------------------------------+-------------------+---------------------------------------+---------------+-----------+---------------------------------------+------------------------------------------+----------------------+---------+\n",
      "only showing top 5 rows\n",
      "\n"
     ]
    }
   ],
   "source": [
    "sorted_output_cv = cv_data.filter(cv_data.CosineSim > 0).sort(col('CosineSim').desc())\n",
    "sorted_output_cv.show(5,truncate=False)"
   ]
  },
  {
   "cell_type": "markdown",
   "metadata": {},
   "source": [
    "## Workload 2"
   ]
  },
  {
   "cell_type": "code",
   "execution_count": 55,
   "metadata": {},
   "outputs": [],
   "source": [
    "from pyspark.ml.evaluation import RegressionEvaluator\n",
    "from pyspark.ml.recommendation import ALS\n",
    "from pyspark.sql import Row"
   ]
  },
  {
   "cell_type": "code",
   "execution_count": 57,
   "metadata": {},
   "outputs": [
    {
     "name": "stdout",
     "output_type": "stream",
     "text": [
      "+-------------------+--------------------+-------------------+----------+---------------+-------------------+---------------+--------------------+-------------------+--------------------+\n",
      "|         created_at|           hash_tags|                 id|replyto_id|replyto_user_id|         retweet_id|retweet_user_id|                text|            user_id|       user_mentions|\n",
      "+-------------------+--------------------+-------------------+----------+---------------+-------------------+---------------+--------------------+-------------------+--------------------+\n",
      "|2021-05-05 23:37:51|                null|1390088382659895296|      null|           null|1390027514332991489|         807095|RT @nytimes: Brea...|           17799542| [{807095, [3, 11]}]|\n",
      "|2021-05-05 23:37:45|[{[9, 18], BREAKI...|1390088354717474822|      null|           null|1390022155350446082|      380648579|RT @AFP: #BREAKIN...|         1166466828|[{380648579, [3, ...|\n",
      "|2021-05-05 23:37:42|                null|1390088345288646661|      null|           null|1390050885229817856|      191807697|RT @jon_trickett:...|1343606436149022723|[{191807697, [3, ...|\n",
      "|2021-05-05 23:37:39|                null|1390088329530544128|      null|           null|1390066365046865929|       15115280|RT @PalmerReport:...| 930226031276982273|[{15115280, [3, 1...|\n",
      "|2021-05-05 23:37:36|                null|1390088318906339328|      null|           null|1390027514332991489|         807095|RT @nytimes: Brea...| 920858307392192513| [{807095, [3, 11]}]|\n",
      "+-------------------+--------------------+-------------------+----------+---------------+-------------------+---------------+--------------------+-------------------+--------------------+\n",
      "only showing top 5 rows\n",
      "\n"
     ]
    }
   ],
   "source": [
    "tweeets_data.show(5)"
   ]
  },
  {
   "cell_type": "code",
   "execution_count": 66,
   "metadata": {},
   "outputs": [
    {
     "name": "stdout",
     "output_type": "stream",
     "text": [
      "+-------------------+--------------------+-------------------+----------+---------------+-------------------+---------------+--------------------+-------------------+--------------------+---------------+\n",
      "|         created_at|           hash_tags|                 id|replyto_id|replyto_user_id|         retweet_id|retweet_user_id|                text|            user_id|       user_mentions|mentioned_users|\n",
      "+-------------------+--------------------+-------------------+----------+---------------+-------------------+---------------+--------------------+-------------------+--------------------+---------------+\n",
      "|2021-05-05 23:37:51|                null|1390088382659895296|      null|           null|1390027514332991489|         807095|RT @nytimes: Brea...|           17799542| [{807095, [3, 11]}]|       [807095]|\n",
      "|2021-05-05 23:37:45|[{[9, 18], BREAKI...|1390088354717474822|      null|           null|1390022155350446082|      380648579|RT @AFP: #BREAKIN...|         1166466828|[{380648579, [3, ...|    [380648579]|\n",
      "|2021-05-05 23:37:42|                null|1390088345288646661|      null|           null|1390050885229817856|      191807697|RT @jon_trickett:...|1343606436149022723|[{191807697, [3, ...|    [191807697]|\n",
      "|2021-05-05 23:37:39|                null|1390088329530544128|      null|           null|1390066365046865929|       15115280|RT @PalmerReport:...| 930226031276982273|[{15115280, [3, 1...|     [15115280]|\n",
      "|2021-05-05 23:37:36|                null|1390088318906339328|      null|           null|1390027514332991489|         807095|RT @nytimes: Brea...| 920858307392192513| [{807095, [3, 11]}]|       [807095]|\n",
      "+-------------------+--------------------+-------------------+----------+---------------+-------------------+---------------+--------------------+-------------------+--------------------+---------------+\n",
      "only showing top 5 rows\n",
      "\n"
     ]
    }
   ],
   "source": [
    "wl2 = tweeets_data.withColumn(\"mentioned_users\", tweeets_data[\"user_mentions\"].getField('id'))\n",
    "wl2.show(5)"
   ]
  },
  {
   "cell_type": "code",
   "execution_count": 67,
   "metadata": {},
   "outputs": [],
   "source": [
    "wl2_users = wl2.select(col('user_id'),col('mentioned_users'))"
   ]
  },
  {
   "cell_type": "code",
   "execution_count": 70,
   "metadata": {},
   "outputs": [
    {
     "name": "stdout",
     "output_type": "stream",
     "text": [
      "+-------------------+---------------+\n",
      "|            user_id|mentioned_users|\n",
      "+-------------------+---------------+\n",
      "|           17799542|         807095|\n",
      "|         1166466828|      380648579|\n",
      "|1343606436149022723|      191807697|\n",
      "| 930226031276982273|       15115280|\n",
      "| 920858307392192513|         807095|\n",
      "+-------------------+---------------+\n",
      "only showing top 5 rows\n",
      "\n"
     ]
    }
   ],
   "source": [
    "wl2_users.show(5)"
   ]
  },
  {
   "cell_type": "code",
   "execution_count": 69,
   "metadata": {},
   "outputs": [],
   "source": [
    "wl2_users = wl2_users.withColumn(\"mentioned_users\", explode(\"mentioned_users\"))"
   ]
  },
  {
   "cell_type": "code",
   "execution_count": 71,
   "metadata": {},
   "outputs": [],
   "source": [
    "wl2_users_agg = wl2_users.groupBy(col('user_id'),col('mentioned_users')).count()"
   ]
  },
  {
   "cell_type": "code",
   "execution_count": 73,
   "metadata": {},
   "outputs": [
    {
     "name": "stdout",
     "output_type": "stream",
     "text": [
      "+-------------------+---------------+-----+\n",
      "|            user_id|mentioned_users|count|\n",
      "+-------------------+---------------+-----+\n",
      "|         3094649957|       24259259|    6|\n",
      "| 898230537244073986|      281877818|    3|\n",
      "|         3094649957|     3094649957|    3|\n",
      "|1286417148848480257|       55060090|    3|\n",
      "|          138011877|      380648579|    2|\n",
      "+-------------------+---------------+-----+\n",
      "only showing top 5 rows\n",
      "\n"
     ]
    }
   ],
   "source": [
    "wl2_users_agg.orderBy(wl2_users_agg[\"count\"].desc()).show(5)"
   ]
  },
  {
   "cell_type": "code",
   "execution_count": 74,
   "metadata": {},
   "outputs": [],
   "source": [
    "from pyspark.sql.types import *\n",
    "from pyspark.ml.feature import StringIndexer, IndexToString\n",
    "\n",
    "stringIndexer_uid = StringIndexer(inputCol=\"user_id\", outputCol=\"user_id_indexed\",stringOrderType=\"frequencyDesc\")\n",
    "model_uid = stringIndexer_uid.fit(wl2_users_agg)\n",
    "\n",
    "stringIndexer_mentioned = StringIndexer(inputCol=\"mentioned_users\", outputCol=\"mentioned_users_indexed\",stringOrderType=\"frequencyDesc\")\n",
    "model_mu = stringIndexer_mentioned.fit(wl2_users_agg)\n",
    "\n",
    "td = model_uid.transform(wl2_users_agg)\n",
    "wl2_users_transformed = model_mu.transform(td)"
   ]
  },
  {
   "cell_type": "code",
   "execution_count": 154,
   "metadata": {},
   "outputs": [
    {
     "name": "stdout",
     "output_type": "stream",
     "text": [
      "+-------------------+---------------+-----+---------------+-----------------------+\n",
      "|            user_id|mentioned_users|count|user_id_indexed|mentioned_users_indexed|\n",
      "+-------------------+---------------+-----+---------------+-----------------------+\n",
      "| 806740569707819008|      281877818|    1|         7401.0|                  138.0|\n",
      "|          109025128|      281877818|    2|          372.0|                  138.0|\n",
      "| 898230537244073986|      281877818|    3|          888.0|                  138.0|\n",
      "|1337396414205341699|      281877818|    1|          466.0|                  138.0|\n",
      "|1364709585458634757|      281877818|    1|          483.0|                  138.0|\n",
      "+-------------------+---------------+-----+---------------+-----------------------+\n",
      "\n"
     ]
    }
   ],
   "source": [
    "wl2_users_transformed.filter(col('mentioned_users_indexed')==138).show()"
   ]
  },
  {
   "cell_type": "code",
   "execution_count": 79,
   "metadata": {},
   "outputs": [
    {
     "name": "stdout",
     "output_type": "stream",
     "text": [
      "+---------------+------------------------------------------------------------------------------------------+\n",
      "|user_id_indexed|recommendations                                                                           |\n",
      "+---------------+------------------------------------------------------------------------------------------+\n",
      "|1580           |[{114, 3.5947633}, {35, 3.1534054}, {182, 3.0689082}, {176, 2.9330564}, {191, 2.9279106}] |\n",
      "|4900           |[{114, 3.9289262}, {85, 3.5334418}, {182, 3.2382052}, {176, 3.1983874}, {191, 2.9853811}] |\n",
      "|5300           |[{114, 3.9289262}, {85, 3.5334418}, {182, 3.2382052}, {176, 3.1983874}, {191, 2.9853811}] |\n",
      "|6620           |[{114, 3.9289262}, {85, 3.5334418}, {182, 3.2382052}, {176, 3.1983874}, {191, 2.9853811}] |\n",
      "|7240           |[{138, 3.0787108}, {187, 2.7853408}, {139, 2.7356298}, {116, 2.7342734}, {124, 2.7342734}]|\n",
      "+---------------+------------------------------------------------------------------------------------------+\n",
      "only showing top 5 rows\n",
      "\n"
     ]
    }
   ],
   "source": [
    "model_recs.show(5,truncate=False)"
   ]
  },
  {
   "cell_type": "code",
   "execution_count": 85,
   "metadata": {},
   "outputs": [],
   "source": [
    "als = ALS(maxIter=5, regParam=0.01, userCol=\"user_id_indexed\", itemCol=\"mentioned_users_indexed\", ratingCol=\"count\",\n",
    "          coldStartStrategy=\"drop\")\n",
    "model = als.fit(wl2_users_transformed)"
   ]
  },
  {
   "cell_type": "code",
   "execution_count": 86,
   "metadata": {},
   "outputs": [],
   "source": [
    "model_recs = model.recommendForAllUsers(5)"
   ]
  },
  {
   "cell_type": "code",
   "execution_count": 87,
   "metadata": {},
   "outputs": [],
   "source": [
    "model_recs = model_recs.withColumn(\"user_id_indexed\", model_recs[\"user_id_indexed\"].cast(\"double\"))"
   ]
  },
  {
   "cell_type": "code",
   "execution_count": 88,
   "metadata": {
    "collapsed": true,
    "jupyter": {
     "outputs_hidden": true
    }
   },
   "outputs": [
    {
     "ename": "AnalysisException",
     "evalue": "cannot resolve '`index`' given input columns: [id, recommendations, user_id_indexed];\n'Project ['index, 'user_id, id#6030, <lambda>(id#6030) AS UserRecommendations#6029]\n+- Generate explode(recommendations#6021), false, [id#6030]\n   +- Project [cast(user_id_indexed#6020 as double) AS user_id_indexed#6024, recommendations#6021]\n      +- Project [id#6016 AS user_id_indexed#6020, cast(recommendations#6017 as array<struct<mentioned_users_indexed:int,rating:float>>) AS recommendations#6021]\n         +- Project [key#6010 AS id#6016, TopByKeyAggregator(scala.Tuple3)#6015 AS recommendations#6017]\n            +- Aggregate [value#6002], [value#6002 AS key#6010, topbykeyaggregator(org.apache.spark.ml.recommendation.TopByKeyAggregator@644075d8, Some(newInstance(class scala.Tuple3)), Some(class scala.Tuple3), Some(StructType(StructField(_1,IntegerType,false), StructField(_2,IntegerType,false), StructField(_3,FloatType,false))), encodeusingserializer(input[0, java.lang.Object, true], true), decodeusingserializer(input[0, binary, true], org.apache.spark.util.BoundedPriorityQueue, true), mapobjects(lambdavariable(MapObject, ObjectType(class scala.Tuple2), true, 195), if (isnull(lambdavariable(MapObject, ObjectType(class scala.Tuple2), true, 195))) null else named_struct(_1, knownnotnull(lambdavariable(MapObject, ObjectType(class scala.Tuple2), true, 195))._1, _2, knownnotnull(lambdavariable(MapObject, ObjectType(class scala.Tuple2), true, 195))._2), input[0, [Lscala.Tuple2;, true], None), ArrayType(StructType(StructField(_1,IntegerType,false), StructField(_2,FloatType,false)),true), true, 0, 0) AS TopByKeyAggregator(scala.Tuple3)#6015]\n               +- AppendColumns org.apache.spark.ml.recommendation.ALSModel$$Lambda$4544/0x0000000801af98a8@243c826a, class scala.Tuple3, [StructField(_1,IntegerType,false), StructField(_2,IntegerType,false), StructField(_3,FloatType,false)], newInstance(class scala.Tuple3), [input[0, int, false] AS value#6002]\n                  +- SerializeFromObject [knownnotnull(assertnotnull(input[0, scala.Tuple3, true]))._1 AS _1#5991, knownnotnull(assertnotnull(input[0, scala.Tuple3, true]))._2 AS _2#5992, knownnotnull(assertnotnull(input[0, scala.Tuple3, true]))._3 AS _3#5993]\n                     +- MapPartitions org.apache.spark.sql.Dataset$$Lambda$4542/0x0000000801af87f8@7f9e715f, obj#5990: scala.Tuple3\n                        +- DeserializeToObject newInstance(class scala.Tuple2), obj#5989: scala.Tuple2\n                           +- Join Cross\n                              :- SerializeFromObject [mapobjects(lambdavariable(MapObject, ObjectType(class scala.Tuple2), true, 174), if (isnull(lambdavariable(MapObject, ObjectType(class scala.Tuple2), true, 174))) null else named_struct(_1, knownnotnull(lambdavariable(MapObject, ObjectType(class scala.Tuple2), true, 174))._1, _2, staticinvoke(class org.apache.spark.sql.catalyst.expressions.UnsafeArrayData, ArrayType(FloatType,false), fromPrimitiveArray, knownnotnull(lambdavariable(MapObject, ObjectType(class scala.Tuple2), true, 174))._2, true, false)), input[0, scala.collection.Seq, true], None) AS value#5969]\n                              :  +- MapPartitions org.apache.spark.ml.recommendation.ALSModel$$Lambda$4533/0x0000000801af5750@2f0e28f6, obj#5968: scala.collection.Seq\n                              :     +- DeserializeToObject newInstance(class scala.Tuple2), obj#5967: scala.Tuple2\n                              :        +- Project [_1#5936 AS id#5941, _2#5937 AS features#5942]\n                              :           +- SerializeFromObject [knownnotnull(assertnotnull(input[0, scala.Tuple2, true]))._1 AS _1#5936, staticinvoke(class org.apache.spark.sql.catalyst.expressions.UnsafeArrayData, ArrayType(FloatType,false), fromPrimitiveArray, knownnotnull(assertnotnull(input[0, scala.Tuple2, true]))._2, true, false) AS _2#5937]\n                              :              +- ExternalRDD [obj#5935]\n                              +- SerializeFromObject [mapobjects(lambdavariable(MapObject, ObjectType(class scala.Tuple2), true, 177), if (isnull(lambdavariable(MapObject, ObjectType(class scala.Tuple2), true, 177))) null else named_struct(_1, knownnotnull(lambdavariable(MapObject, ObjectType(class scala.Tuple2), true, 177))._1, _2, staticinvoke(class org.apache.spark.sql.catalyst.expressions.UnsafeArrayData, ArrayType(FloatType,false), fromPrimitiveArray, knownnotnull(lambdavariable(MapObject, ObjectType(class scala.Tuple2), true, 177))._2, true, false)), input[0, scala.collection.Seq, true], None) AS value#5978]\n                                 +- MapPartitions org.apache.spark.ml.recommendation.ALSModel$$Lambda$4533/0x0000000801af5750@4887667a, obj#5977: scala.collection.Seq\n                                    +- DeserializeToObject newInstance(class scala.Tuple2), obj#5976: scala.Tuple2\n                                       +- Project [_1#5948 AS id#5953, _2#5949 AS features#5954]\n                                          +- SerializeFromObject [knownnotnull(assertnotnull(input[0, scala.Tuple2, true]))._1 AS _1#5948, staticinvoke(class org.apache.spark.sql.catalyst.expressions.UnsafeArrayData, ArrayType(FloatType,false), fromPrimitiveArray, knownnotnull(assertnotnull(input[0, scala.Tuple2, true]))._2, true, false) AS _2#5949]\n                                             +- ExternalRDD [obj#5947]\n",
     "output_type": "error",
     "traceback": [
      "\u001b[0;31m---------------------------------------------------------------------------\u001b[0m",
      "\u001b[0;31mAnalysisException\u001b[0m                         Traceback (most recent call last)",
      "\u001b[0;32m<ipython-input-88-90c7ac5eb58c>\u001b[0m in \u001b[0;36m<module>\u001b[0;34m\u001b[0m\n\u001b[1;32m      1\u001b[0m \u001b[0mudf1\u001b[0m \u001b[0;34m=\u001b[0m \u001b[0mf\u001b[0m\u001b[0;34m.\u001b[0m\u001b[0mudf\u001b[0m\u001b[0;34m(\u001b[0m\u001b[0;32mlambda\u001b[0m \u001b[0mx\u001b[0m \u001b[0;34m:\u001b[0m \u001b[0;34m'ID :'\u001b[0m\u001b[0;34m+\u001b[0m\u001b[0mstr\u001b[0m\u001b[0;34m(\u001b[0m\u001b[0mx\u001b[0m\u001b[0;34m[\u001b[0m\u001b[0;36m0\u001b[0m\u001b[0;34m]\u001b[0m\u001b[0;34m)\u001b[0m\u001b[0;34m+\u001b[0m\u001b[0;34m' Score:'\u001b[0m\u001b[0;34m+\u001b[0m\u001b[0mstr\u001b[0m\u001b[0;34m(\u001b[0m\u001b[0mx\u001b[0m\u001b[0;34m[\u001b[0m\u001b[0;36m1\u001b[0m\u001b[0;34m]\u001b[0m\u001b[0;34m)\u001b[0m\u001b[0;34m)\u001b[0m\u001b[0;34m\u001b[0m\u001b[0;34m\u001b[0m\u001b[0m\n\u001b[0;32m----> 2\u001b[0;31m \u001b[0mmodel_recs\u001b[0m\u001b[0;34m.\u001b[0m\u001b[0mselect\u001b[0m\u001b[0;34m(\u001b[0m\u001b[0;34m'index'\u001b[0m\u001b[0;34m,\u001b[0m\u001b[0;34m'user_id'\u001b[0m\u001b[0;34m,\u001b[0m\u001b[0mf\u001b[0m\u001b[0;34m.\u001b[0m\u001b[0mexplode\u001b[0m\u001b[0;34m(\u001b[0m\u001b[0;34m'recommendations'\u001b[0m\u001b[0;34m)\u001b[0m\u001b[0;34m.\u001b[0m\u001b[0malias\u001b[0m\u001b[0;34m(\u001b[0m\u001b[0;34m'id'\u001b[0m\u001b[0;34m)\u001b[0m\u001b[0;34m,\u001b[0m\u001b[0mudf1\u001b[0m\u001b[0;34m(\u001b[0m\u001b[0mf\u001b[0m\u001b[0;34m.\u001b[0m\u001b[0mcol\u001b[0m\u001b[0;34m(\u001b[0m\u001b[0;34m'id'\u001b[0m\u001b[0;34m)\u001b[0m\u001b[0;34m)\u001b[0m\u001b[0;34m.\u001b[0m\u001b[0malias\u001b[0m\u001b[0;34m(\u001b[0m\u001b[0;34m'UserRecommendations'\u001b[0m\u001b[0;34m)\u001b[0m\u001b[0;34m)\u001b[0m\u001b[0;34m.\u001b[0m\u001b[0mshow\u001b[0m\u001b[0;34m(\u001b[0m\u001b[0mtruncate\u001b[0m\u001b[0;34m=\u001b[0m\u001b[0;32mFalse\u001b[0m\u001b[0;34m)\u001b[0m\u001b[0;34m\u001b[0m\u001b[0;34m\u001b[0m\u001b[0m\n\u001b[0m",
      "\u001b[0;32m~/opt/anaconda3/lib/python3.8/site-packages/pyspark/sql/dataframe.py\u001b[0m in \u001b[0;36mselect\u001b[0;34m(self, *cols)\u001b[0m\n\u001b[1;32m   1667\u001b[0m         \u001b[0;34m[\u001b[0m\u001b[0mRow\u001b[0m\u001b[0;34m(\u001b[0m\u001b[0mname\u001b[0m\u001b[0;34m=\u001b[0m\u001b[0;34m'Alice'\u001b[0m\u001b[0;34m,\u001b[0m \u001b[0mage\u001b[0m\u001b[0;34m=\u001b[0m\u001b[0;36m12\u001b[0m\u001b[0;34m)\u001b[0m\u001b[0;34m,\u001b[0m \u001b[0mRow\u001b[0m\u001b[0;34m(\u001b[0m\u001b[0mname\u001b[0m\u001b[0;34m=\u001b[0m\u001b[0;34m'Bob'\u001b[0m\u001b[0;34m,\u001b[0m \u001b[0mage\u001b[0m\u001b[0;34m=\u001b[0m\u001b[0;36m15\u001b[0m\u001b[0;34m)\u001b[0m\u001b[0;34m]\u001b[0m\u001b[0;34m\u001b[0m\u001b[0;34m\u001b[0m\u001b[0m\n\u001b[1;32m   1668\u001b[0m         \"\"\"\n\u001b[0;32m-> 1669\u001b[0;31m         \u001b[0mjdf\u001b[0m \u001b[0;34m=\u001b[0m \u001b[0mself\u001b[0m\u001b[0;34m.\u001b[0m\u001b[0m_jdf\u001b[0m\u001b[0;34m.\u001b[0m\u001b[0mselect\u001b[0m\u001b[0;34m(\u001b[0m\u001b[0mself\u001b[0m\u001b[0;34m.\u001b[0m\u001b[0m_jcols\u001b[0m\u001b[0;34m(\u001b[0m\u001b[0;34m*\u001b[0m\u001b[0mcols\u001b[0m\u001b[0;34m)\u001b[0m\u001b[0;34m)\u001b[0m\u001b[0;34m\u001b[0m\u001b[0;34m\u001b[0m\u001b[0m\n\u001b[0m\u001b[1;32m   1670\u001b[0m         \u001b[0;32mreturn\u001b[0m \u001b[0mDataFrame\u001b[0m\u001b[0;34m(\u001b[0m\u001b[0mjdf\u001b[0m\u001b[0;34m,\u001b[0m \u001b[0mself\u001b[0m\u001b[0;34m.\u001b[0m\u001b[0msql_ctx\u001b[0m\u001b[0;34m)\u001b[0m\u001b[0;34m\u001b[0m\u001b[0;34m\u001b[0m\u001b[0m\n\u001b[1;32m   1671\u001b[0m \u001b[0;34m\u001b[0m\u001b[0m\n",
      "\u001b[0;32m~/opt/anaconda3/lib/python3.8/site-packages/py4j/java_gateway.py\u001b[0m in \u001b[0;36m__call__\u001b[0;34m(self, *args)\u001b[0m\n\u001b[1;32m   1302\u001b[0m \u001b[0;34m\u001b[0m\u001b[0m\n\u001b[1;32m   1303\u001b[0m         \u001b[0manswer\u001b[0m \u001b[0;34m=\u001b[0m \u001b[0mself\u001b[0m\u001b[0;34m.\u001b[0m\u001b[0mgateway_client\u001b[0m\u001b[0;34m.\u001b[0m\u001b[0msend_command\u001b[0m\u001b[0;34m(\u001b[0m\u001b[0mcommand\u001b[0m\u001b[0;34m)\u001b[0m\u001b[0;34m\u001b[0m\u001b[0;34m\u001b[0m\u001b[0m\n\u001b[0;32m-> 1304\u001b[0;31m         return_value = get_return_value(\n\u001b[0m\u001b[1;32m   1305\u001b[0m             answer, self.gateway_client, self.target_id, self.name)\n\u001b[1;32m   1306\u001b[0m \u001b[0;34m\u001b[0m\u001b[0m\n",
      "\u001b[0;32m~/opt/anaconda3/lib/python3.8/site-packages/pyspark/sql/utils.py\u001b[0m in \u001b[0;36mdeco\u001b[0;34m(*a, **kw)\u001b[0m\n\u001b[1;32m    115\u001b[0m                 \u001b[0;31m# Hide where the exception came from that shows a non-Pythonic\u001b[0m\u001b[0;34m\u001b[0m\u001b[0;34m\u001b[0m\u001b[0;34m\u001b[0m\u001b[0m\n\u001b[1;32m    116\u001b[0m                 \u001b[0;31m# JVM exception message.\u001b[0m\u001b[0;34m\u001b[0m\u001b[0;34m\u001b[0m\u001b[0;34m\u001b[0m\u001b[0m\n\u001b[0;32m--> 117\u001b[0;31m                 \u001b[0;32mraise\u001b[0m \u001b[0mconverted\u001b[0m \u001b[0;32mfrom\u001b[0m \u001b[0;32mNone\u001b[0m\u001b[0;34m\u001b[0m\u001b[0;34m\u001b[0m\u001b[0m\n\u001b[0m\u001b[1;32m    118\u001b[0m             \u001b[0;32melse\u001b[0m\u001b[0;34m:\u001b[0m\u001b[0;34m\u001b[0m\u001b[0;34m\u001b[0m\u001b[0m\n\u001b[1;32m    119\u001b[0m                 \u001b[0;32mraise\u001b[0m\u001b[0;34m\u001b[0m\u001b[0;34m\u001b[0m\u001b[0m\n",
      "\u001b[0;31mAnalysisException\u001b[0m: cannot resolve '`index`' given input columns: [id, recommendations, user_id_indexed];\n'Project ['index, 'user_id, id#6030, <lambda>(id#6030) AS UserRecommendations#6029]\n+- Generate explode(recommendations#6021), false, [id#6030]\n   +- Project [cast(user_id_indexed#6020 as double) AS user_id_indexed#6024, recommendations#6021]\n      +- Project [id#6016 AS user_id_indexed#6020, cast(recommendations#6017 as array<struct<mentioned_users_indexed:int,rating:float>>) AS recommendations#6021]\n         +- Project [key#6010 AS id#6016, TopByKeyAggregator(scala.Tuple3)#6015 AS recommendations#6017]\n            +- Aggregate [value#6002], [value#6002 AS key#6010, topbykeyaggregator(org.apache.spark.ml.recommendation.TopByKeyAggregator@644075d8, Some(newInstance(class scala.Tuple3)), Some(class scala.Tuple3), Some(StructType(StructField(_1,IntegerType,false), StructField(_2,IntegerType,false), StructField(_3,FloatType,false))), encodeusingserializer(input[0, java.lang.Object, true], true), decodeusingserializer(input[0, binary, true], org.apache.spark.util.BoundedPriorityQueue, true), mapobjects(lambdavariable(MapObject, ObjectType(class scala.Tuple2), true, 195), if (isnull(lambdavariable(MapObject, ObjectType(class scala.Tuple2), true, 195))) null else named_struct(_1, knownnotnull(lambdavariable(MapObject, ObjectType(class scala.Tuple2), true, 195))._1, _2, knownnotnull(lambdavariable(MapObject, ObjectType(class scala.Tuple2), true, 195))._2), input[0, [Lscala.Tuple2;, true], None), ArrayType(StructType(StructField(_1,IntegerType,false), StructField(_2,FloatType,false)),true), true, 0, 0) AS TopByKeyAggregator(scala.Tuple3)#6015]\n               +- AppendColumns org.apache.spark.ml.recommendation.ALSModel$$Lambda$4544/0x0000000801af98a8@243c826a, class scala.Tuple3, [StructField(_1,IntegerType,false), StructField(_2,IntegerType,false), StructField(_3,FloatType,false)], newInstance(class scala.Tuple3), [input[0, int, false] AS value#6002]\n                  +- SerializeFromObject [knownnotnull(assertnotnull(input[0, scala.Tuple3, true]))._1 AS _1#5991, knownnotnull(assertnotnull(input[0, scala.Tuple3, true]))._2 AS _2#5992, knownnotnull(assertnotnull(input[0, scala.Tuple3, true]))._3 AS _3#5993]\n                     +- MapPartitions org.apache.spark.sql.Dataset$$Lambda$4542/0x0000000801af87f8@7f9e715f, obj#5990: scala.Tuple3\n                        +- DeserializeToObject newInstance(class scala.Tuple2), obj#5989: scala.Tuple2\n                           +- Join Cross\n                              :- SerializeFromObject [mapobjects(lambdavariable(MapObject, ObjectType(class scala.Tuple2), true, 174), if (isnull(lambdavariable(MapObject, ObjectType(class scala.Tuple2), true, 174))) null else named_struct(_1, knownnotnull(lambdavariable(MapObject, ObjectType(class scala.Tuple2), true, 174))._1, _2, staticinvoke(class org.apache.spark.sql.catalyst.expressions.UnsafeArrayData, ArrayType(FloatType,false), fromPrimitiveArray, knownnotnull(lambdavariable(MapObject, ObjectType(class scala.Tuple2), true, 174))._2, true, false)), input[0, scala.collection.Seq, true], None) AS value#5969]\n                              :  +- MapPartitions org.apache.spark.ml.recommendation.ALSModel$$Lambda$4533/0x0000000801af5750@2f0e28f6, obj#5968: scala.collection.Seq\n                              :     +- DeserializeToObject newInstance(class scala.Tuple2), obj#5967: scala.Tuple2\n                              :        +- Project [_1#5936 AS id#5941, _2#5937 AS features#5942]\n                              :           +- SerializeFromObject [knownnotnull(assertnotnull(input[0, scala.Tuple2, true]))._1 AS _1#5936, staticinvoke(class org.apache.spark.sql.catalyst.expressions.UnsafeArrayData, ArrayType(FloatType,false), fromPrimitiveArray, knownnotnull(assertnotnull(input[0, scala.Tuple2, true]))._2, true, false) AS _2#5937]\n                              :              +- ExternalRDD [obj#5935]\n                              +- SerializeFromObject [mapobjects(lambdavariable(MapObject, ObjectType(class scala.Tuple2), true, 177), if (isnull(lambdavariable(MapObject, ObjectType(class scala.Tuple2), true, 177))) null else named_struct(_1, knownnotnull(lambdavariable(MapObject, ObjectType(class scala.Tuple2), true, 177))._1, _2, staticinvoke(class org.apache.spark.sql.catalyst.expressions.UnsafeArrayData, ArrayType(FloatType,false), fromPrimitiveArray, knownnotnull(lambdavariable(MapObject, ObjectType(class scala.Tuple2), true, 177))._2, true, false)), input[0, scala.collection.Seq, true], None) AS value#5978]\n                                 +- MapPartitions org.apache.spark.ml.recommendation.ALSModel$$Lambda$4533/0x0000000801af5750@4887667a, obj#5977: scala.collection.Seq\n                                    +- DeserializeToObject newInstance(class scala.Tuple2), obj#5976: scala.Tuple2\n                                       +- Project [_1#5948 AS id#5953, _2#5949 AS features#5954]\n                                          +- SerializeFromObject [knownnotnull(assertnotnull(input[0, scala.Tuple2, true]))._1 AS _1#5948, staticinvoke(class org.apache.spark.sql.catalyst.expressions.UnsafeArrayData, ArrayType(FloatType,false), fromPrimitiveArray, knownnotnull(assertnotnull(input[0, scala.Tuple2, true]))._2, true, false) AS _2#5949]\n                                             +- ExternalRDD [obj#5947]\n"
     ]
    }
   ],
   "source": [
    "udf1 = f.udf(lambda x : 'ID :'+str(x[0])+' Score:'+str(x[1]))\n",
    "model_recs.select('index','user_id',f.explode('recommendations').alias('id'),udf1(f.col('id')).alias('UserRecommendations')).show(truncate=False)"
   ]
  },
  {
   "cell_type": "code",
   "execution_count": 310,
   "metadata": {},
   "outputs": [
    {
     "name": "stdout",
     "output_type": "stream",
     "text": [
      "+-------------------+--------------------------------+--------------------------------+--------------------------------+---------------------------------+--------------------------------+\n",
      "|user_id            |Recommended User (with score): 1|Recommended User (with score): 2|Recommended User (with score): 3|Recommended User (with score): 4 |Recommended User (with score): 5|\n",
      "+-------------------+--------------------------------+--------------------------------+--------------------------------+---------------------------------+--------------------------------+\n",
      "|1155901127738761216|{36326893, 3.1511617}           |{1003895325025865730, 3.1511617}|{42183750, 3.1511521}           |{1146329871418843136, 3.1511521} |{40851610, 2.1324542}           |\n",
      "|289239316          |{449027230, 4.5872145}          |{281877818, 4.141928}           |{20759034, 3.994655}            |{1003895325025865730, 3.1396317} |{36326893, 3.1396317}           |\n",
      "|324681796          |{449027230, 4.5872145}          |{281877818, 4.141928}           |{20759034, 3.994655}            |{1003895325025865730, 3.1396317} |{36326893, 3.1396317}           |\n",
      "|574799895          |{449027230, 4.5872145}          |{281877818, 4.141928}           |{20759034, 3.994655}            |{1003895325025865730, 3.1396317} |{36326893, 3.1396317}           |\n",
      "|772906387676491776 |{14296273, 2.980116}            |{865004396681207809, 2.59181}   |{449027230, 2.3210123}          |{370219796, 2.3131893}           |{59159771, 2.1646295}           |\n",
      "|792350436          |{587591389, 2.7744668}          |{12133382, 2.6727326}           |{15250661, 2.592925}            |{65201417, 2.5842016}            |{91905327, 2.3440156}           |\n",
      "|894363253328945154 |{36326893, 3.1511617}           |{1003895325025865730, 3.1511617}|{42183750, 3.1511521}           |{1146329871418843136, 3.1511521} |{40851610, 2.1324542}           |\n",
      "|1346995460251152389|{757303975, 2.0167801}          |{65201417, 1.7514728}           |{2195885540, 1.7495422}         |{85583894, 1.6644943}            |{36326893, 1.6155571}           |\n",
      "|1158385104781058049|{449027230, 4.5872145}          |{281877818, 4.141928}           |{20759034, 3.994655}            |{1003895325025865730, 3.1396317} |{36326893, 3.1396317}           |\n",
      "|229547268          |{449027230, 4.5872145}          |{281877818, 4.141928}           |{20759034, 3.994655}            |{1003895325025865730, 3.1396317} |{36326893, 3.1396317}           |\n",
      "|110016678          |{449027230, 4.5872145}          |{281877818, 4.141928}           |{20759034, 3.994655}            |{1003895325025865730, 3.1396317} |{36326893, 3.1396317}           |\n",
      "|1266491662689284107|{449027230, 4.5872145}          |{281877818, 4.141928}           |{20759034, 3.994655}            |{1003895325025865730, 3.1396317} |{36326893, 3.1396317}           |\n",
      "|1267982563         |{132630502, 0.9960255}          |{320432933, 0.9412919}          |{159955958, 0.9166928}          |{1321935792416149505, 0.85282975}|{17464397, 0.7728789}           |\n",
      "|91649023           |{36326893, 3.1511617}           |{1003895325025865730, 3.1511617}|{42183750, 3.1511521}           |{1146329871418843136, 3.1511521} |{40851610, 2.1324542}           |\n",
      "|1332626888674537474|{20759034, 3.2644851}           |{92555364, 2.8052871}           |{36326893, 2.5861902}           |{1003895325025865730, 2.5861902} |{42183750, 2.58618}             |\n",
      "|779175673264902144 |{1643123766, 1.5952177}         |{41704988, 1.3344955}           |{17112878, 1.3126293}           |{61863570, 1.2930477}            |{757303975, 1.1488655}          |\n",
      "|393136091          |{757303975, 0.9981464}          |{281877818, 0.7157033}          |{1643123766, 0.63348216}        |{170291358, 0.54149616}          |{865004396681207809, 0.5380957} |\n",
      "|775128877123403777 |{36326893, 3.1511617}           |{1003895325025865730, 3.1511617}|{42183750, 3.1511521}           |{1146329871418843136, 3.1511521} |{40851610, 2.1324542}           |\n",
      "|885923187602620416 |{281877818, 2.5645926}          |{42953038, 1.6447657}           |{1146329871418843136, 1.5232981}|{42183750, 1.5232981}            |{36326893, 1.5232934}           |\n",
      "|919089103852929024 |{36326893, 3.1511617}           |{1003895325025865730, 3.1511617}|{42183750, 3.1511521}           |{1146329871418843136, 3.1511521} |{40851610, 2.1324542}           |\n",
      "+-------------------+--------------------------------+--------------------------------+--------------------------------+---------------------------------+--------------------------------+\n",
      "only showing top 20 rows\n",
      "\n"
     ]
    }
   ],
   "source": [
    "model_recs.select(['user_id'] + [col(\"recommendations\")[i].alias('Recommended User (with score): '+str(i+1)) for i in range(n)]).show(truncate=False)"
   ]
  },
  {
   "cell_type": "code",
   "execution_count": 89,
   "metadata": {},
   "outputs": [],
   "source": [
    "als = ALS(userCol=\"user_id_indexed\", itemCol=\"mentioned_users_indexed\", ratingCol=\"count\",\n",
    "          coldStartStrategy=\"drop\")\n",
    "model = als.fit(wl2_users_transformed)\n",
    "\n",
    "model_recs = model.recommendForAllUsers(5).cache()\n",
    "\n",
    "uid_labels = model_uid.labels\n",
    "uid_labels_ = array(*[lit(x) for x in uid_labels])\n",
    "\n",
    "n = 5\n",
    "mu_labels = model_mu.labels\n",
    "mu_labels_ = array(*[lit(x) for x in mu_labels])\n",
    "recommendations = array(*[struct(\n",
    "    mu_labels_[col(\"recommendations\")[i][\"mentioned_users_indexed\"]].alias(\"userId\"),\n",
    "    col(\"recommendations\")[i][\"rating\"].alias(\"rating\")\n",
    ") for i in range(n)])\n",
    "\n",
    "model_recs = model_recs.withColumn(\"recommendations\", recommendations)\\\n",
    "        .withColumn(\"user_id\", uid_labels_[col(\"user_id_indexed\")])"
   ]
  },
  {
   "cell_type": "code",
   "execution_count": 94,
   "metadata": {},
   "outputs": [
    {
     "name": "stdout",
     "output_type": "stream",
     "text": [
      "+-------------------+--------------------+\n",
      "|            user_id|     recommendations|\n",
      "+-------------------+--------------------+\n",
      "|1155901127738761216|[{24259259, 1.257...|\n",
      "|          289239316|[{26574283, 0.900...|\n",
      "|          324681796|[{26574283, 0.900...|\n",
      "|          574799895|[{26574283, 0.900...|\n",
      "| 772906387676491776|[{133081348, 0.89...|\n",
      "+-------------------+--------------------+\n",
      "only showing top 5 rows\n",
      "\n"
     ]
    }
   ],
   "source": [
    "model_recs.select('user_id' , col(\"recommendations\")).show(5)"
   ]
  },
  {
   "cell_type": "code",
   "execution_count": 96,
   "metadata": {},
   "outputs": [
    {
     "name": "stdout",
     "output_type": "stream",
     "text": [
      "+-------------------+----------------------+--------------------------------+--------------------------------+------------------------+----------------------+\n",
      "|user_id            |Recommended User: 1   |Recommended User: 2             |Recommended User: 3             |Recommended User: 4     |Recommended User: 5   |\n",
      "+-------------------+----------------------+--------------------------------+--------------------------------+------------------------+----------------------+\n",
      "|1155901127738761216|{24259259, 1.2575269} |{346102488, 1.1129419}          |{1244013067790364673, 1.0716459}|{3094649957, 0.91468585}|{807095, 0.9016202}   |\n",
      "|289239316          |{26574283, 0.90062225}|{1891266440, 0.8982357}         |{185025785, 0.8982352}          |{2791419078, 0.89820886}|{216294504, 0.8981522}|\n",
      "|324681796          |{26574283, 0.90062225}|{1891266440, 0.8982357}         |{185025785, 0.8982352}          |{2791419078, 0.89820886}|{216294504, 0.8981522}|\n",
      "|574799895          |{26574283, 0.90062225}|{1891266440, 0.8982357}         |{185025785, 0.8982352}          |{2791419078, 0.89820886}|{216294504, 0.8981522}|\n",
      "|772906387676491776 |{133081348, 0.8994713}|{1267708379138535424, 0.8875567}|{408793153, 0.8875567}          |{1643123766, 0.8478074} |{22429979, 0.7540448} |\n",
      "+-------------------+----------------------+--------------------------------+--------------------------------+------------------------+----------------------+\n",
      "only showing top 5 rows\n",
      "\n"
     ]
    }
   ],
   "source": [
    "model_recs.select(['user_id'] + [col(\"recommendations\")[i].alias('Recommended User: '+str(i+1)) for i in range(n)]).show(5,truncate=False)"
   ]
  },
  {
   "cell_type": "code",
   "execution_count": 84,
   "metadata": {},
   "outputs": [
    {
     "ename": "AnalysisException",
     "evalue": "No such struct field mentioned_users_indexed in userId, rating",
     "output_type": "error",
     "traceback": [
      "\u001b[0;31m---------------------------------------------------------------------------\u001b[0m",
      "\u001b[0;31mAnalysisException\u001b[0m                         Traceback (most recent call last)",
      "\u001b[0;32m<ipython-input-84-6af05d74ccab>\u001b[0m in \u001b[0;36m<module>\u001b[0;34m\u001b[0m\n\u001b[1;32m      9\u001b[0m ) for i in range(n)])\n\u001b[1;32m     10\u001b[0m \u001b[0;34m\u001b[0m\u001b[0m\n\u001b[0;32m---> 11\u001b[0;31m \u001b[0mmodel_recs\u001b[0m \u001b[0;34m=\u001b[0m \u001b[0mmodel_recs\u001b[0m\u001b[0;34m.\u001b[0m\u001b[0mwithColumn\u001b[0m\u001b[0;34m(\u001b[0m\u001b[0;34m\"recommendations\"\u001b[0m\u001b[0;34m,\u001b[0m \u001b[0mrecommendations\u001b[0m\u001b[0;34m)\u001b[0m\u001b[0;34m\u001b[0m\u001b[0;34m\u001b[0m\u001b[0m\n\u001b[0m\u001b[1;32m     12\u001b[0m \u001b[0mmodel_recs\u001b[0m \u001b[0;34m=\u001b[0m \u001b[0mmodel_recs\u001b[0m\u001b[0;34m.\u001b[0m\u001b[0mwithColumn\u001b[0m\u001b[0;34m(\u001b[0m\u001b[0;34m\"user_id\"\u001b[0m\u001b[0;34m,\u001b[0m \u001b[0muid_labels_\u001b[0m\u001b[0;34m[\u001b[0m\u001b[0mcol\u001b[0m\u001b[0;34m(\u001b[0m\u001b[0;34m\"user_id_indexed\"\u001b[0m\u001b[0;34m)\u001b[0m\u001b[0;34m]\u001b[0m\u001b[0;34m)\u001b[0m\u001b[0;34m\u001b[0m\u001b[0;34m\u001b[0m\u001b[0m\n\u001b[1;32m     13\u001b[0m \u001b[0mmodel_recs\u001b[0m\u001b[0;34m.\u001b[0m\u001b[0mselect\u001b[0m\u001b[0;34m(\u001b[0m\u001b[0mcol\u001b[0m\u001b[0;34m(\u001b[0m\u001b[0;34m'user_id'\u001b[0m\u001b[0;34m)\u001b[0m\u001b[0;34m,\u001b[0m\u001b[0mcol\u001b[0m\u001b[0;34m(\u001b[0m\u001b[0;34m'recommendations'\u001b[0m\u001b[0;34m)\u001b[0m\u001b[0;34m)\u001b[0m\u001b[0;34m.\u001b[0m\u001b[0mshow\u001b[0m\u001b[0;34m(\u001b[0m\u001b[0mtruncate\u001b[0m\u001b[0;34m=\u001b[0m\u001b[0;32mFalse\u001b[0m\u001b[0;34m)\u001b[0m\u001b[0;34m\u001b[0m\u001b[0;34m\u001b[0m\u001b[0m\n",
      "\u001b[0;32m~/opt/anaconda3/lib/python3.8/site-packages/pyspark/sql/dataframe.py\u001b[0m in \u001b[0;36mwithColumn\u001b[0;34m(self, colName, col)\u001b[0m\n\u001b[1;32m   2453\u001b[0m         \"\"\"\n\u001b[1;32m   2454\u001b[0m         \u001b[0;32massert\u001b[0m \u001b[0misinstance\u001b[0m\u001b[0;34m(\u001b[0m\u001b[0mcol\u001b[0m\u001b[0;34m,\u001b[0m \u001b[0mColumn\u001b[0m\u001b[0;34m)\u001b[0m\u001b[0;34m,\u001b[0m \u001b[0;34m\"col should be Column\"\u001b[0m\u001b[0;34m\u001b[0m\u001b[0;34m\u001b[0m\u001b[0m\n\u001b[0;32m-> 2455\u001b[0;31m         \u001b[0;32mreturn\u001b[0m \u001b[0mDataFrame\u001b[0m\u001b[0;34m(\u001b[0m\u001b[0mself\u001b[0m\u001b[0;34m.\u001b[0m\u001b[0m_jdf\u001b[0m\u001b[0;34m.\u001b[0m\u001b[0mwithColumn\u001b[0m\u001b[0;34m(\u001b[0m\u001b[0mcolName\u001b[0m\u001b[0;34m,\u001b[0m \u001b[0mcol\u001b[0m\u001b[0;34m.\u001b[0m\u001b[0m_jc\u001b[0m\u001b[0;34m)\u001b[0m\u001b[0;34m,\u001b[0m \u001b[0mself\u001b[0m\u001b[0;34m.\u001b[0m\u001b[0msql_ctx\u001b[0m\u001b[0;34m)\u001b[0m\u001b[0;34m\u001b[0m\u001b[0;34m\u001b[0m\u001b[0m\n\u001b[0m\u001b[1;32m   2456\u001b[0m \u001b[0;34m\u001b[0m\u001b[0m\n\u001b[1;32m   2457\u001b[0m     \u001b[0;32mdef\u001b[0m \u001b[0mwithColumnRenamed\u001b[0m\u001b[0;34m(\u001b[0m\u001b[0mself\u001b[0m\u001b[0;34m,\u001b[0m \u001b[0mexisting\u001b[0m\u001b[0;34m,\u001b[0m \u001b[0mnew\u001b[0m\u001b[0;34m)\u001b[0m\u001b[0;34m:\u001b[0m\u001b[0;34m\u001b[0m\u001b[0;34m\u001b[0m\u001b[0m\n",
      "\u001b[0;32m~/opt/anaconda3/lib/python3.8/site-packages/py4j/java_gateway.py\u001b[0m in \u001b[0;36m__call__\u001b[0;34m(self, *args)\u001b[0m\n\u001b[1;32m   1302\u001b[0m \u001b[0;34m\u001b[0m\u001b[0m\n\u001b[1;32m   1303\u001b[0m         \u001b[0manswer\u001b[0m \u001b[0;34m=\u001b[0m \u001b[0mself\u001b[0m\u001b[0;34m.\u001b[0m\u001b[0mgateway_client\u001b[0m\u001b[0;34m.\u001b[0m\u001b[0msend_command\u001b[0m\u001b[0;34m(\u001b[0m\u001b[0mcommand\u001b[0m\u001b[0;34m)\u001b[0m\u001b[0;34m\u001b[0m\u001b[0;34m\u001b[0m\u001b[0m\n\u001b[0;32m-> 1304\u001b[0;31m         return_value = get_return_value(\n\u001b[0m\u001b[1;32m   1305\u001b[0m             answer, self.gateway_client, self.target_id, self.name)\n\u001b[1;32m   1306\u001b[0m \u001b[0;34m\u001b[0m\u001b[0m\n",
      "\u001b[0;32m~/opt/anaconda3/lib/python3.8/site-packages/pyspark/sql/utils.py\u001b[0m in \u001b[0;36mdeco\u001b[0;34m(*a, **kw)\u001b[0m\n\u001b[1;32m    115\u001b[0m                 \u001b[0;31m# Hide where the exception came from that shows a non-Pythonic\u001b[0m\u001b[0;34m\u001b[0m\u001b[0;34m\u001b[0m\u001b[0;34m\u001b[0m\u001b[0m\n\u001b[1;32m    116\u001b[0m                 \u001b[0;31m# JVM exception message.\u001b[0m\u001b[0;34m\u001b[0m\u001b[0;34m\u001b[0m\u001b[0;34m\u001b[0m\u001b[0m\n\u001b[0;32m--> 117\u001b[0;31m                 \u001b[0;32mraise\u001b[0m \u001b[0mconverted\u001b[0m \u001b[0;32mfrom\u001b[0m \u001b[0;32mNone\u001b[0m\u001b[0;34m\u001b[0m\u001b[0;34m\u001b[0m\u001b[0m\n\u001b[0m\u001b[1;32m    118\u001b[0m             \u001b[0;32melse\u001b[0m\u001b[0;34m:\u001b[0m\u001b[0;34m\u001b[0m\u001b[0;34m\u001b[0m\u001b[0m\n\u001b[1;32m    119\u001b[0m                 \u001b[0;32mraise\u001b[0m\u001b[0;34m\u001b[0m\u001b[0;34m\u001b[0m\u001b[0m\n",
      "\u001b[0;31mAnalysisException\u001b[0m: No such struct field mentioned_users_indexed in userId, rating"
     ]
    }
   ],
   "source": [
    "from pyspark.sql.functions import array, col, lit, struct\n",
    "\n",
    "n = 5\n",
    "mu_labels = model_mu.labels\n",
    "mu_labels_ = array(*[lit(x) for x in mu_labels])\n",
    "recommendations = array(*[struct(\n",
    "    mu_labels_[col(\"recommendations\")[i][\"mentioned_users_indexed\"]].alias(\"userId\"),\n",
    "    col(\"recommendations\")[i][\"rating\"].alias(\"rating\")\n",
    ") for i in range(n)])\n",
    "\n",
    "model_recs = model_recs.withColumn(\"recommendations\", recommendations)\n",
    "model_recs = model_recs.withColumn(\"user_id\", uid_labels_[col(\"user_id_indexed\")])\n",
    "model_recs.select(col('user_id'),col('recommendations')).show(truncate=False)"
   ]
  },
  {
   "cell_type": "code",
   "execution_count": 279,
   "metadata": {},
   "outputs": [
    {
     "name": "stdout",
     "output_type": "stream",
     "text": [
      "+-------------------+-----------------------------------------------------------------------------------------------------------------------------------------+\n",
      "|user_id            |recommendations                                                                                                                          |\n",
      "+-------------------+-----------------------------------------------------------------------------------------------------------------------------------------+\n",
      "|1155901127738761216|[{36326893, 3.1511617}, {1003895325025865730, 3.1511617}, {42183750, 3.1511521}, {1146329871418843136, 3.1511521}, {40851610, 2.1324542}]|\n",
      "|289239316          |[{449027230, 4.5872145}, {281877818, 4.141928}, {20759034, 3.994655}, {1003895325025865730, 3.1396317}, {36326893, 3.1396317}]           |\n",
      "|324681796          |[{449027230, 4.5872145}, {281877818, 4.141928}, {20759034, 3.994655}, {1003895325025865730, 3.1396317}, {36326893, 3.1396317}]           |\n",
      "|574799895          |[{449027230, 4.5872145}, {281877818, 4.141928}, {20759034, 3.994655}, {1003895325025865730, 3.1396317}, {36326893, 3.1396317}]           |\n",
      "|772906387676491776 |[{14296273, 2.980116}, {865004396681207809, 2.59181}, {449027230, 2.3210123}, {370219796, 2.3131893}, {59159771, 2.1646295}]             |\n",
      "|792350436          |[{587591389, 2.7744668}, {12133382, 2.6727326}, {15250661, 2.592925}, {65201417, 2.5842016}, {91905327, 2.3440156}]                      |\n",
      "|894363253328945154 |[{36326893, 3.1511617}, {1003895325025865730, 3.1511617}, {42183750, 3.1511521}, {1146329871418843136, 3.1511521}, {40851610, 2.1324542}]|\n",
      "|1346995460251152389|[{757303975, 2.0167801}, {65201417, 1.7514728}, {2195885540, 1.7495422}, {85583894, 1.6644943}, {36326893, 1.6155571}]                   |\n",
      "|1158385104781058049|[{449027230, 4.5872145}, {281877818, 4.141928}, {20759034, 3.994655}, {1003895325025865730, 3.1396317}, {36326893, 3.1396317}]           |\n",
      "|229547268          |[{449027230, 4.5872145}, {281877818, 4.141928}, {20759034, 3.994655}, {1003895325025865730, 3.1396317}, {36326893, 3.1396317}]           |\n",
      "|110016678          |[{449027230, 4.5872145}, {281877818, 4.141928}, {20759034, 3.994655}, {1003895325025865730, 3.1396317}, {36326893, 3.1396317}]           |\n",
      "|1266491662689284107|[{449027230, 4.5872145}, {281877818, 4.141928}, {20759034, 3.994655}, {1003895325025865730, 3.1396317}, {36326893, 3.1396317}]           |\n",
      "|1267982563         |[{132630502, 0.9960255}, {320432933, 0.9412919}, {159955958, 0.9166928}, {1321935792416149505, 0.85282975}, {17464397, 0.7728789}]       |\n",
      "|91649023           |[{36326893, 3.1511617}, {1003895325025865730, 3.1511617}, {42183750, 3.1511521}, {1146329871418843136, 3.1511521}, {40851610, 2.1324542}]|\n",
      "|1332626888674537474|[{20759034, 3.2644851}, {92555364, 2.8052871}, {36326893, 2.5861902}, {1003895325025865730, 2.5861902}, {42183750, 2.58618}]             |\n",
      "|779175673264902144 |[{1643123766, 1.5952177}, {41704988, 1.3344955}, {17112878, 1.3126293}, {61863570, 1.2930477}, {757303975, 1.1488655}]                   |\n",
      "|393136091          |[{757303975, 0.9981464}, {281877818, 0.7157033}, {1643123766, 0.63348216}, {170291358, 0.54149616}, {865004396681207809, 0.5380957}]     |\n",
      "|775128877123403777 |[{36326893, 3.1511617}, {1003895325025865730, 3.1511617}, {42183750, 3.1511521}, {1146329871418843136, 3.1511521}, {40851610, 2.1324542}]|\n",
      "|885923187602620416 |[{281877818, 2.5645926}, {42953038, 1.6447657}, {1146329871418843136, 1.5232981}, {42183750, 1.5232981}, {36326893, 1.5232934}]          |\n",
      "|919089103852929024 |[{36326893, 3.1511617}, {1003895325025865730, 3.1511617}, {42183750, 3.1511521}, {1146329871418843136, 3.1511521}, {40851610, 2.1324542}]|\n",
      "+-------------------+-----------------------------------------------------------------------------------------------------------------------------------------+\n",
      "only showing top 20 rows\n",
      "\n"
     ]
    }
   ],
   "source": [
    "model_recs.select(col('user_id'),col('recommendations')).show(truncate=False)"
   ]
  },
  {
   "cell_type": "code",
   "execution_count": 280,
   "metadata": {},
   "outputs": [
    {
     "data": {
      "text/plain": [
       "DataFrame[user_id_indexed: int, recommendations: array<struct<userId:string,rating:float>>, user_id: string, index: bigint]"
      ]
     },
     "execution_count": 280,
     "metadata": {},
     "output_type": "execute_result"
    }
   ],
   "source": [
    "model_recs"
   ]
  },
  {
   "cell_type": "code",
   "execution_count": 244,
   "metadata": {},
   "outputs": [
    {
     "name": "stdout",
     "output_type": "stream",
     "text": [
      "+---------------+------------------------------------------------------------------------------------------------------------------------------------------------------+-------------------+\n",
      "|user_id_indexed|recommendations                                                                                                                                       |user_id            |\n",
      "+---------------+------------------------------------------------------------------------------------------------------------------------------------------------------+-------------------+\n",
      "|7999           |[{587591389, 2.7744668}, {12133382, 2.6727326}, {15250661, 2.592925}, {65201417, 2.5842016}, {91905327, 2.3440156}]                                   |920257832          |\n",
      "|6819           |[{17154865, 2.5952804}, {14499829, 1.7732091}, {189868631, 1.7732091}, {14159148, 1.7732091}, {104277809, 1.7579473}]                                 |63335497           |\n",
      "|89             |[{281877818, 1.2333388}, {1146329871418843136, 0.99810743}, {42183750, 0.99810743}, {1003895325025865730, 0.998107}, {36326893, 0.998107}]            |582996784          |\n",
      "|6638           |[{1643123766, 1.8501474}, {274233761, 1.582675}, {55060090, 1.2824453}, {149075155, 1.1669905}, {607946179, 1.161244}]                                |57904564           |\n",
      "|6438           |[{36326893, 3.1511617}, {1003895325025865730, 3.1511617}, {42183750, 3.1511521}, {1146329871418843136, 3.1511521}, {40851610, 2.1324542}]             |51450959           |\n",
      "|6078           |[{157981564, 1.2352414}, {114968487, 1.2346067}, {42953038, 1.2218785}, {281877818, 1.1211666}, {153944899, 1.0651616}]                               |4443219497         |\n",
      "|3668           |[{1643123766, 2.8898983}, {92555364, 2.5749083}, {153944899, 2.193059}, {1108054880139264000, 2.0763032}, {939091, 2.0085347}]                        |19124878           |\n",
      "|1138           |[{449027230, 4.5872145}, {281877818, 4.141928}, {20759034, 3.994655}, {1003895325025865730, 3.1396317}, {36326893, 3.1396317}]                        |1054959386945314822|\n",
      "|6477           |[{159955958, 0.9980626}, {1078401427347857408, 0.56875545}, {738767160395321345, 0.5239404}, {320432933, 0.5211886}, {1321935792416149505, 0.5104768}]|52840398           |\n",
      "|6047           |[{36326893, 3.1511617}, {1003895325025865730, 3.1511617}, {42183750, 3.1511521}, {1146329871418843136, 3.1511521}, {40851610, 2.1324542}]             |43700451           |\n",
      "|2487           |[{36326893, 3.1511617}, {1003895325025865730, 3.1511617}, {42183750, 3.1511521}, {1146329871418843136, 3.1511521}, {40851610, 2.1324542}]             |1328799541542477828|\n",
      "|2457           |[{24259259, 3.3611617}, {281877818, 2.8113117}, {157981564, 1.9453413}, {114968487, 1.9443282}, {153944899, 1.9220815}]                               |1322748007         |\n",
      "|517            |[{157981564, 0.99852836}, {114968487, 0.9981275}, {281877818, 0.7810886}, {965935355492032514, 0.614681}, {846411464885747712, 0.5794673}]            |151497921          |\n",
      "|7476           |[{21406834, 1.7980609}, {2318270108, 1.2920923}, {121181001, 1.2190623}, {320432933, 1.1526595}, {854725669, 1.1409824}]                              |821160270504439809 |\n",
      "|7466           |[{29780473, 0.9965991}, {607946179, 0.7907979}, {203123011, 0.69117963}, {299273962, 0.6686857}, {55060090, 0.6653562}]                               |820714600001896449 |\n",
      "|7166           |[{449027230, 4.5872145}, {281877818, 4.141928}, {20759034, 3.994655}, {1003895325025865730, 3.1396317}, {36326893, 3.1396317}]                        |754455561417089024 |\n",
      "|6306           |[{159955958, 0.9980626}, {1078401427347857408, 0.56875545}, {738767160395321345, 0.5239404}, {320432933, 0.5211886}, {1321935792416149505, 0.5104768}]|4857661295         |\n",
      "|5836           |[{587591389, 2.7744668}, {12133382, 2.6727326}, {15250661, 2.592925}, {65201417, 2.5842016}, {91905327, 2.3440156}]                                   |398849557          |\n",
      "|5806           |[{449027230, 4.5872145}, {281877818, 4.141928}, {20759034, 3.994655}, {1003895325025865730, 3.1396317}, {36326893, 3.1396317}]                        |393701691          |\n",
      "|3836           |[{281877818, 2.5645926}, {42953038, 1.6447657}, {1146329871418843136, 1.5232981}, {42183750, 1.5232981}, {36326893, 1.5232934}]                       |208409094          |\n",
      "+---------------+------------------------------------------------------------------------------------------------------------------------------------------------------+-------------------+\n",
      "only showing top 20 rows\n",
      "\n"
     ]
    }
   ],
   "source": [
    "from pyspark.sql.functions import monotonically_increasing_id\n",
    "from pyspark.sql.functions import desc\n",
    "\n",
    "model_recs = model_recs.withColumn(\"index\", monotonically_increasing_id())\n",
    "model_recs.orderBy(desc(\"index\")).drop(\"index\").show(20,truncate=False)"
   ]
  },
  {
   "cell_type": "code",
   "execution_count": 81,
   "metadata": {},
   "outputs": [],
   "source": [
    "uid_labels = model_uid.labels"
   ]
  },
  {
   "cell_type": "code",
   "execution_count": 82,
   "metadata": {},
   "outputs": [],
   "source": [
    "uid_labels_ = array(*[lit(x) for x in uid_labels])"
   ]
  },
  {
   "cell_type": "code",
   "execution_count": 220,
   "metadata": {},
   "outputs": [
    {
     "name": "stdout",
     "output_type": "stream",
     "text": [
      "+---------------+-----------------------------------------------------------------------------------------------------------------------------------------+-------------------+\n",
      "|user_id_indexed|recommendations                                                                                                                          |t                  |\n",
      "+---------------+-----------------------------------------------------------------------------------------------------------------------------------------+-------------------+\n",
      "|1580           |[{36326893, 3.1511617}, {1003895325025865730, 3.1511617}, {42183750, 3.1511521}, {1146329871418843136, 3.1511521}, {40851610, 2.1324542}]|1155901127738761216|\n",
      "|4900           |[{449027230, 4.5872145}, {281877818, 4.141928}, {20759034, 3.994655}, {1003895325025865730, 3.1396317}, {36326893, 3.1396317}]           |289239316          |\n",
      "|5300           |[{449027230, 4.5872145}, {281877818, 4.141928}, {20759034, 3.994655}, {1003895325025865730, 3.1396317}, {36326893, 3.1396317}]           |324681796          |\n",
      "|6620           |[{449027230, 4.5872145}, {281877818, 4.141928}, {20759034, 3.994655}, {1003895325025865730, 3.1396317}, {36326893, 3.1396317}]           |574799895          |\n",
      "|7240           |[{14296273, 2.980116}, {865004396681207809, 2.59181}, {449027230, 2.3210123}, {370219796, 2.3131893}, {59159771, 2.1646295}]             |772906387676491776 |\n",
      "|7340           |[{587591389, 2.7744668}, {12133382, 2.6727326}, {15250661, 2.592925}, {65201417, 2.5842016}, {91905327, 2.3440156}]                      |792350436          |\n",
      "|7880           |[{36326893, 3.1511617}, {1003895325025865730, 3.1511617}, {42183750, 3.1511521}, {1146329871418843136, 3.1511521}, {40851610, 2.1324542}]|894363253328945154 |\n",
      "|471            |[{757303975, 2.0167801}, {65201417, 1.7514728}, {2195885540, 1.7495422}, {85583894, 1.6644943}, {36326893, 1.6155571}]                   |1346995460251152389|\n",
      "|1591           |[{449027230, 4.5872145}, {281877818, 4.141928}, {20759034, 3.994655}, {1003895325025865730, 3.1396317}, {36326893, 3.1396317}]           |1158385104781058049|\n",
      "|4101           |[{449027230, 4.5872145}, {281877818, 4.141928}, {20759034, 3.994655}, {1003895325025865730, 3.1396317}, {36326893, 3.1396317}]           |229547268          |\n",
      "|1342           |[{449027230, 4.5872145}, {281877818, 4.141928}, {20759034, 3.994655}, {1003895325025865730, 3.1396317}, {36326893, 3.1396317}]           |110016678          |\n",
      "|2122           |[{449027230, 4.5872145}, {281877818, 4.141928}, {20759034, 3.994655}, {1003895325025865730, 3.1396317}, {36326893, 3.1396317}]           |1266491662689284107|\n",
      "|2142           |[{132630502, 0.9960255}, {320432933, 0.9412919}, {159955958, 0.9166928}, {1321935792416149505, 0.85282975}, {17464397, 0.7728789}]       |1267982563         |\n",
      "|7982           |[{36326893, 3.1511617}, {1003895325025865730, 3.1511617}, {42183750, 3.1511521}, {1146329871418843136, 3.1511521}, {40851610, 2.1324542}]|91649023           |\n",
      "|463            |[{20759034, 3.2644851}, {92555364, 2.8052871}, {36326893, 2.5861902}, {1003895325025865730, 2.5861902}, {42183750, 2.58618}]             |1332626888674537474|\n",
      "|833            |[{1643123766, 1.5952177}, {41704988, 1.3344955}, {17112878, 1.3126293}, {61863570, 1.2930477}, {757303975, 1.1488655}]                   |779175673264902144 |\n",
      "|5803           |[{757303975, 0.9981464}, {281877818, 0.7157033}, {1643123766, 0.63348216}, {170291358, 0.54149616}, {865004396681207809, 0.5380957}]     |393136091          |\n",
      "|7253           |[{36326893, 3.1511617}, {1003895325025865730, 3.1511617}, {42183750, 3.1511521}, {1146329871418843136, 3.1511521}, {40851610, 2.1324542}]|775128877123403777 |\n",
      "|7833           |[{281877818, 2.5645926}, {42953038, 1.6447657}, {1146329871418843136, 1.5232981}, {42183750, 1.5232981}, {36326893, 1.5232934}]          |885923187602620416 |\n",
      "|7993           |[{36326893, 3.1511617}, {1003895325025865730, 3.1511617}, {42183750, 3.1511521}, {1146329871418843136, 3.1511521}, {40851610, 2.1324542}]|919089103852929024 |\n",
      "+---------------+-----------------------------------------------------------------------------------------------------------------------------------------+-------------------+\n",
      "only showing top 20 rows\n",
      "\n"
     ]
    }
   ],
   "source": [
    "\n",
    "test = model_recs.withColumn(\"t\", uid_labels_[col(\"user_id_indexed\")])\n",
    "test.show(truncate=False)"
   ]
  },
  {
   "cell_type": "code",
   "execution_count": 246,
   "metadata": {},
   "outputs": [
    {
     "name": "stdout",
     "output_type": "stream",
     "text": [
      "+----------+---------------+-----+---------------+-----------------------+\n",
      "|   user_id|mentioned_users|count|user_id_indexed|mentioned_users_indexed|\n",
      "+----------+---------------+-----+---------------+-----------------------+\n",
      "|4857661295|      159955958|    1|         6306.0|                   29.0|\n",
      "+----------+---------------+-----+---------------+-----------------------+\n",
      "\n"
     ]
    }
   ],
   "source": [
    "wl2_users_transformed.filter(col('user_id_indexed') == 6306).show()"
   ]
  },
  {
   "cell_type": "code",
   "execution_count": 235,
   "metadata": {},
   "outputs": [
    {
     "name": "stdout",
     "output_type": "stream",
     "text": [
      "root\n",
      " |-- user_id_indexed: integer (nullable = false)\n",
      " |-- recommendations: array (nullable = false)\n",
      " |    |-- element: struct (containsNull = false)\n",
      " |    |    |-- userId: string (nullable = true)\n",
      " |    |    |-- rating: float (nullable = true)\n",
      " |-- t: string (nullable = true)\n",
      "\n"
     ]
    }
   ],
   "source": [
    "test.printSchema()"
   ]
  },
  {
   "cell_type": "code",
   "execution_count": null,
   "metadata": {},
   "outputs": [],
   "source": []
  }
 ],
 "metadata": {
  "kernelspec": {
   "display_name": "Python 3",
   "language": "python",
   "name": "python3"
  },
  "language_info": {
   "codemirror_mode": {
    "name": "ipython",
    "version": 3
   },
   "file_extension": ".py",
   "mimetype": "text/x-python",
   "name": "python",
   "nbconvert_exporter": "python",
   "pygments_lexer": "ipython3",
   "version": "3.8.3"
  }
 },
 "nbformat": 4,
 "nbformat_minor": 4
}
